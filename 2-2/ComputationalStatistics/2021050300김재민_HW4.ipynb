{
  "cells": [
    {
      "cell_type": "code",
      "execution_count": 1,
      "metadata": {
        "id": "xWd5wNzEwlrX"
      },
      "outputs": [],
      "source": [
        "## 한 강좌는 두 개 분반으로 나뉘어 있다. 1분반의 경우, 25명의 여학생과 14명의 남학생이 있는 반면, 2분반의 경우는 19명의 여학생과 22명의 남학생으로 구성되어 있다.\n",
        "## 이 두 분반의 여성의 비율이 다르다고 할 수 있는 지 5% 유의수준에서 검정하시오.\n",
        "\n",
        "import numpy as np\n",
        "import seaborn as sns\n",
        "from scipy.stats import norm"
      ]
    },
    {
      "cell_type": "code",
      "execution_count": 2,
      "metadata": {
        "id": "cSkDE07kD5_1"
      },
      "outputs": [],
      "source": [
        "def two_prop(x, n1, y, n2, alpha, alternative):\n",
        "  # alternative = \"two-sides\", \"less\", \" greater\" 중 하나!\n",
        "  p1 = x/n1\n",
        "  p2 = y/n2\n",
        "  phat = (x+y) / (n1 + n2)\n",
        "  T = (p1 - p2) / (np.sqrt(phat * (1 - phat)) * np.sqrt(1/n1 + 1/n2))\n",
        "  print(\"T is\",np.round(T,3))\n",
        "  if alternative == 'less':\n",
        "    pval = norm.cdf(T)\n",
        "    print(\"pval is\",np.round(pval,3))\n",
        "    if T < norm.ppf(alpha):\n",
        "       print(\"Rejection\") \n",
        "    else:\n",
        "       print(\"Acception\")\n",
        "  elif alternative == 'greater':\n",
        "    pval = 1 - norm.cdf(T)\n",
        "    print(\"pval is\",np.round(pval,3))\n",
        "    if T > norm.ppf(1 - alpha):\n",
        "       print(\"Rejection\") \n",
        "    else:\n",
        "       print(\"Acception\")\n",
        "  else: # two - sides\n",
        "    pval = 2 * (1 - norm.cdf(T))\n",
        "    print(\"pval is\",np.round(pval,3))\n",
        "    if np.abs(T) >= norm.ppf(1 - alpha/2):\n",
        "       print(\"Rejection\") \n",
        "    else:\n",
        "       print(\"Acception\")"
      ]
    },
    {
      "cell_type": "code",
      "execution_count": 3,
      "metadata": {
        "colab": {
          "base_uri": "https://localhost:8080/"
        },
        "id": "dUL7m-yGUkhv",
        "outputId": "411a317e-81a3-46dc-9785-f5e000243ff9"
      },
      "outputs": [
        {
          "name": "stdout",
          "output_type": "stream",
          "text": [
            "T is 1.596\n",
            "pval is 0.11\n",
            "Acception\n"
          ]
        }
      ],
      "source": [
        "two_prop(25,39,19,41,0.05,'two-sides')"
      ]
    }
  ],
  "metadata": {
    "colab": {
      "collapsed_sections": [],
      "provenance": []
    },
    "kernelspec": {
      "display_name": "Python 3.9.7 ('base')",
      "language": "python",
      "name": "python3"
    },
    "language_info": {
      "codemirror_mode": {
        "name": "ipython",
        "version": 3
      },
      "file_extension": ".py",
      "mimetype": "text/x-python",
      "name": "python",
      "nbconvert_exporter": "python",
      "pygments_lexer": "ipython3",
      "version": "3.9.7"
    },
    "vscode": {
      "interpreter": {
        "hash": "202e3ca643da9f0ff4ab839c9cba3ead2c2565b9aaaf633422ccfc5c3c9d9abe"
      }
    }
  },
  "nbformat": 4,
  "nbformat_minor": 0
}
