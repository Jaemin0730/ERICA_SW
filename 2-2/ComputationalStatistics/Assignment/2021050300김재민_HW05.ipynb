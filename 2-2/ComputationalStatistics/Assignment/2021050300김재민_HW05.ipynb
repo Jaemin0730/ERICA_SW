{
 "cells": [
  {
   "cell_type": "code",
   "execution_count": 1,
   "metadata": {},
   "outputs": [],
   "source": [
    "import numpy as np\n",
    "import pandas as pd\n",
    "# Lec6을 참고하여, 문자가 Nan이면 unknown 숫자가 Nan이면 -9999로 바꿔준다"
   ]
  },
  {
   "cell_type": "code",
   "execution_count": 2,
   "metadata": {},
   "outputs": [
    {
     "name": "stderr",
     "output_type": "stream",
     "text": [
      "C:\\Users\\82102\\AppData\\Local\\Temp\\ipykernel_1308\\556854155.py:5: FutureWarning: The frame.append method is deprecated and will be removed from pandas in a future version. Use pandas.concat instead.\n",
      "  country4 = country.append(new_value)\n"
     ]
    },
    {
     "data": {
      "text/html": [
       "<div>\n",
       "<style scoped>\n",
       "    .dataframe tbody tr th:only-of-type {\n",
       "        vertical-align: middle;\n",
       "    }\n",
       "\n",
       "    .dataframe tbody tr th {\n",
       "        vertical-align: top;\n",
       "    }\n",
       "\n",
       "    .dataframe thead th {\n",
       "        text-align: right;\n",
       "    }\n",
       "</style>\n",
       "<table border=\"1\" class=\"dataframe\">\n",
       "  <thead>\n",
       "    <tr style=\"text-align: right;\">\n",
       "      <th></th>\n",
       "      <th>country</th>\n",
       "      <th>area</th>\n",
       "      <th>capital</th>\n",
       "      <th>population</th>\n",
       "      <th>density</th>\n",
       "    </tr>\n",
       "  </thead>\n",
       "  <tbody>\n",
       "    <tr>\n",
       "      <th>KR</th>\n",
       "      <td>Korea</td>\n",
       "      <td>98480.0</td>\n",
       "      <td>Seoul</td>\n",
       "      <td>51780579</td>\n",
       "      <td>525.797918</td>\n",
       "    </tr>\n",
       "    <tr>\n",
       "      <th>US</th>\n",
       "      <td>USA</td>\n",
       "      <td>9629091.0</td>\n",
       "      <td>Washington</td>\n",
       "      <td>331002825</td>\n",
       "      <td>34.375293</td>\n",
       "    </tr>\n",
       "    <tr>\n",
       "      <th>JP</th>\n",
       "      <td>Japan</td>\n",
       "      <td>-9999.0</td>\n",
       "      <td>Tokyo</td>\n",
       "      <td>125960000</td>\n",
       "      <td>-9999.000000</td>\n",
       "    </tr>\n",
       "    <tr>\n",
       "      <th>CN</th>\n",
       "      <td>China</td>\n",
       "      <td>9596960.0</td>\n",
       "      <td>Beijing</td>\n",
       "      <td>1439323688</td>\n",
       "      <td>149.977044</td>\n",
       "    </tr>\n",
       "    <tr>\n",
       "      <th>RU</th>\n",
       "      <td>Russia</td>\n",
       "      <td>17100000.0</td>\n",
       "      <td>Moscow</td>\n",
       "      <td>146748600</td>\n",
       "      <td>8.581789</td>\n",
       "    </tr>\n",
       "    <tr>\n",
       "      <th>CA</th>\n",
       "      <td>Canada</td>\n",
       "      <td>-9999.0</td>\n",
       "      <td>unknown</td>\n",
       "      <td>13526277</td>\n",
       "      <td>-9999.000000</td>\n",
       "    </tr>\n",
       "    <tr>\n",
       "      <th>FR</th>\n",
       "      <td>France</td>\n",
       "      <td>265449.0</td>\n",
       "      <td>Paris</td>\n",
       "      <td>126793004</td>\n",
       "      <td>34567.000000</td>\n",
       "    </tr>\n",
       "  </tbody>\n",
       "</table>\n",
       "</div>"
      ],
      "text/plain": [
       "   country        area     capital  population       density\n",
       "KR   Korea     98480.0       Seoul    51780579    525.797918\n",
       "US     USA   9629091.0  Washington   331002825     34.375293\n",
       "JP   Japan     -9999.0       Tokyo   125960000  -9999.000000\n",
       "CN   China   9596960.0     Beijing  1439323688    149.977044\n",
       "RU  Russia  17100000.0      Moscow   146748600      8.581789\n",
       "CA  Canada     -9999.0     unknown    13526277  -9999.000000\n",
       "FR  France    265449.0       Paris   126793004  34567.000000"
      ]
     },
     "execution_count": 2,
     "metadata": {},
     "output_type": "execute_result"
    }
   ],
   "source": [
    "country = pd.read_csv('C:/Users/82102/Desktop/SW Study/2022_2학년 2학기/전산통계학/데이터/country.csv', index_col = 0)\n",
    "country['density'] = country['population'] / country['area']\n",
    "new_value = pd.DataFrame(index=['FR'],data=[('France',265449,'Paris',126793004,34567)],\n",
    "                            columns=['country','area','capital','population','density'])\n",
    "country4 = country.append(new_value)\n",
    "country4['area'] = country4['area'].fillna(-9999)\n",
    "country4['capital'] = country4['capital'].fillna('unknown')\n",
    "country4['density'] = country4['density'].fillna(-9999)\n",
    "country4"
   ]
  }
 ],
 "metadata": {
  "kernelspec": {
   "display_name": "Python 3.9.13 ('base')",
   "language": "python",
   "name": "python3"
  },
  "language_info": {
   "codemirror_mode": {
    "name": "ipython",
    "version": 3
   },
   "file_extension": ".py",
   "mimetype": "text/x-python",
   "name": "python",
   "nbconvert_exporter": "python",
   "pygments_lexer": "ipython3",
   "version": "3.9.13 (main, Aug 25 2022, 23:51:50) [MSC v.1916 64 bit (AMD64)]"
  },
  "orig_nbformat": 4,
  "vscode": {
   "interpreter": {
    "hash": "ad2bdc8ecc057115af97d19610ffacc2b4e99fae6737bb82f5d7fb13d2f2c186"
   }
  }
 },
 "nbformat": 4,
 "nbformat_minor": 2
}
