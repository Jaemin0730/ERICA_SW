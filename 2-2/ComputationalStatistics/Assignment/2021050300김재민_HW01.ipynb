{
  "cells": [
    {
      "cell_type": "code",
      "execution_count": 1,
      "metadata": {
        "id": "9TmZ4Wa3j6YG"
      },
      "outputs": [],
      "source": [
        "import numpy as np\n",
        "import pandas as pd"
      ]
    },
    {
      "cell_type": "code",
      "execution_count": 2,
      "metadata": {
        "id": "Q9gAroIPj72f"
      },
      "outputs": [],
      "source": [
        "can = np.array([101.8, 101.5, 102.6, 101, 101.8, 96.8, 102.4, 100\n",
        "                ,98.8, 98.1,98.8, 98, 99.4, 95.5, 100.1, 100.5, 97.4\n",
        "                ,100.2, 101.4, 98.7,101.4, 99.4, 101.7, 99, 99.7, 98.9\n",
        "                ,99.5, 100, 99.7, 100.9,99.7, 99, 98.8, 99.7, 100.9, 99.9\n",
        "                ,97.5, 101.5, 98.2, 99.2,98.6, 101.4, 102.1, 102.9, 100.8\n",
        "                ,99.4, 103.7, 100.3, 100.2, 101.1,101.8, 100, 101.2, 100.5\n",
        "                ,101.2, 101.6, 99.9, 100.5, 100.4, 98.1,100.1, 101.6, 99.3\n",
        "                ,96.1, 100, 99.7, 99.7, 99.4, 101.5, 100.9,101.2, 99.9, 99.1\n",
        "                ,100.7, 100.8, 100.8, 101.4, 100.3, 98.4,97.2])"
      ]
    },
    {
      "cell_type": "code",
      "execution_count": 3,
      "metadata": {
        "id": "9Xdqq_Ruj9xv"
      },
      "outputs": [],
      "source": [
        "arr = []\n",
        "for i in can:\n",
        "  if(95 <= i < 96.84):\n",
        "    arr.append(\"a\")\n",
        "  if(96.84 <=  i < 98.68):\n",
        "    arr.append(\"b\")\n",
        "  if(98.68 <= i < 100.52):\n",
        "    arr.append(\"c\")\n",
        "  if(100.52 <= i < 102.36):\n",
        "    arr.append(\"d\")\n",
        "  if(102.36 <=i < 104.2):\n",
        "    arr.append(\"e\")\n",
        "table1 = np.array(arr)"
      ]
    },
    {
      "cell_type": "code",
      "execution_count": 4,
      "metadata": {
        "colab": {
          "base_uri": "https://localhost:8080/"
        },
        "id": "evGtZjkNkHAf",
        "outputId": "95044e07-531c-42d1-aefa-d252017289b2"
      },
      "outputs": [
        {
          "name": "stdout",
          "output_type": "stream",
          "text": [
            "Nutrition      Frequency  relative Freq\n",
            "95~96.84               3         0.0375\n",
            "96.84~98.68            9         0.1125\n",
            "98.68~100.52          38         0.4750\n",
            "100.52~102.36         26         0.3250\n",
            "102.36~104.2           4         0.0500\n",
            "total                 80         1.0000\n"
          ]
        }
      ],
      "source": [
        "table2 = pd.crosstab(index=table1, columns = \"Frequency\", colnames = [\"Nutrition\"], margins=True)\n",
        "\n",
        "\n",
        "for i in range(6):\n",
        "  table2.iloc[i,1]=table2.iloc[i,1]/table2.iloc[5,0]\n",
        "table2.rename(columns={\"All\":\"relative Freq\"}, inplace=True)\n",
        "table2.index = ['95~96.84','96.84~98.68','98.68~100.52','100.52~102.36','102.36~104.2', 'total']\n",
        "\n",
        "\n",
        "print(table2)"
      ]
    },
    {
      "cell_type": "code",
      "execution_count": 5,
      "metadata": {
        "colab": {
          "base_uri": "https://localhost:8080/",
          "height": 279
        },
        "id": "yhC9JEefkKE3",
        "outputId": "92ccdd33-d7af-473e-c284-5ec5cf0d5e60"
      },
      "outputs": [
        {
          "data": {
            "image/png": "[encoded data removed]",
            "text/plain": [
              "<Figure size 640x480 with 1 Axes>"
            ]
          },
          "metadata": {},
          "output_type": "display_data"
        }
      ],
      "source": [
        "import matplotlib.pyplot as plt\n",
        "\n",
        "table3 = pd.crosstab(index=table1, columns = \"Frequency\", colnames = [\"Nutrition\"], margins=False)\n",
        "table3.index = ['95~96.84','96.84~98.68','98.68~100.52','100.52~102.36','102.36~104.2']\n",
        "\n",
        "table3.plot(kind='barh',color='green',legend=True)\n",
        "plt.ylabel(\"types\")\n",
        "plt.xlabel(\"Frequency\")\n",
        "plt.show()"
      ]
    }
  ],
  "metadata": {
    "colab": {
      "collapsed_sections": [],
      "provenance": []
    },
    "kernelspec": {
      "display_name": "Python 3.9.13 ('base')",
      "language": "python",
      "name": "python3"
    },
    "language_info": {
      "codemirror_mode": {
        "name": "ipython",
        "version": 3
      },
      "file_extension": ".py",
      "mimetype": "text/x-python",
      "name": "python",
      "nbconvert_exporter": "python",
      "pygments_lexer": "ipython3",
      "version": "3.9.13"
    },
    "vscode": {
      "interpreter": {
        "hash": "ad2bdc8ecc057115af97d19610ffacc2b4e99fae6737bb82f5d7fb13d2f2c186"
      }
    }
  },
  "nbformat": 4,
  "nbformat_minor": 0
}
