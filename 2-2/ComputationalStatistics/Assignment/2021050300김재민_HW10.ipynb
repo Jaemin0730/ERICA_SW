{
 "cells": [
  {
   "cell_type": "code",
   "execution_count": 8,
   "metadata": {},
   "outputs": [],
   "source": [
    "# 아래 데이터를 읽어서, test set 을 30%로 설정한 후,\n",
    "# 1개의 은닉층과 은닉층의 node 수를 4개로, 모든 layer 의  activation은 'linear' 로 NN을 만든 후,\n",
    "# test set 의 값을 predict 하고, 그 값을 출력하시오."
   ]
  },
  {
   "cell_type": "code",
   "execution_count": 9,
   "metadata": {},
   "outputs": [],
   "source": [
    "import pandas as pd\n",
    "from sklearn.model_selection import train_test_split\n",
    "import numpy as np\n",
    "from tensorflow.keras.models import Sequential\n",
    "from tensorflow.keras.layers import Dense\n",
    "from tensorflow.keras.optimizers import SGD"
   ]
  },
  {
   "cell_type": "code",
   "execution_count": 10,
   "metadata": {},
   "outputs": [],
   "source": [
    "# 데이터를 읽어서\n",
    "data = pd.read_csv('C:/Users/82102/Desktop/SW Study/2022_2학년 2학기/전산통계학/데이터/price_H11.csv')"
   ]
  },
  {
   "cell_type": "code",
   "execution_count": 11,
   "metadata": {},
   "outputs": [
    {
     "name": "stdout",
     "output_type": "stream",
     "text": [
      "         X1    X2     X3     X4    X5\n",
      "13  0.62976  8.14  0.538  5.949  61.8\n",
      "2   0.02729  7.07  0.469  7.185  61.1\n",
      "25  0.84054  8.14  0.538  5.599  85.7\n",
      "30  1.13081  8.14  0.538  5.713  94.1\n",
      "14  0.63796  8.14  0.538  6.096  84.5\n",
      "15  0.62739  8.14  0.538  5.834  56.5\n",
      "9   0.17004  7.87  0.524  6.004  85.9\n",
      "7   0.14455  7.87  0.524  6.172  96.1\n",
      "1   0.02731  7.07  0.469  6.421  78.9\n",
      "0   0.00632  2.31  0.538  6.575  65.2\n",
      "12  0.09378  7.87  0.524  5.889  39.0\n",
      "13    20.4\n",
      "2     34.7\n",
      "25    13.9\n",
      "30    12.7\n",
      "14    18.2\n",
      "15    19.9\n",
      "9     18.9\n",
      "7     27.1\n",
      "1     21.6\n",
      "0     24.0\n",
      "12    21.7\n",
      "Name: Y, dtype: float64\n"
     ]
    }
   ],
   "source": [
    "# test set 을 30%로 설정\n",
    "x_train, x_test, y_train, y_test = train_test_split(data[['X1','X2','X3','X4','X5']],data['Y'],test_size = 0.3,shuffle=True)\n",
    "print(x_test)\n",
    "print(y_test)"
   ]
  },
  {
   "cell_type": "code",
   "execution_count": 12,
   "metadata": {},
   "outputs": [
    {
     "name": "stdout",
     "output_type": "stream",
     "text": [
      "Model: \"sequential_1\"\n",
      "_________________________________________________________________\n",
      " Layer (type)                Output Shape              Param #   \n",
      "=================================================================\n",
      " dense_2 (Dense)             (None, 4)                 24        \n",
      "                                                                 \n",
      " dense_3 (Dense)             (None, 1)                 5         \n",
      "                                                                 \n",
      "=================================================================\n",
      "Total params: 29\n",
      "Trainable params: 29\n",
      "Non-trainable params: 0\n",
      "_________________________________________________________________\n"
     ]
    }
   ],
   "source": [
    "toys = Sequential()\n",
    "# 1개의 은닉층과 은닉층의 node 수를 4개, 모든 layer 의  activation은 'linear' 로 NN을 만든 후\n",
    "toys.add(Dense(units=4,activation='linear',input_dim=5))\n",
    "toys.add(Dense(units=1, activation='linear'))\n",
    "toys.summary()"
   ]
  },
  {
   "cell_type": "code",
   "execution_count": 13,
   "metadata": {},
   "outputs": [
    {
     "data": {
      "text/plain": [
       "<keras.callbacks.History at 0x2b1f22b3160>"
      ]
     },
     "execution_count": 13,
     "metadata": {},
     "output_type": "execute_result"
    }
   ],
   "source": [
    "toys.compile(loss='mean_squared_error', optimizer=SGD(learning_rate=0.00001))\n",
    "toys.fit(x_test,y_test,epochs=1500,verbose=0)"
   ]
  },
  {
   "cell_type": "code",
   "execution_count": 14,
   "metadata": {},
   "outputs": [
    {
     "name": "stdout",
     "output_type": "stream",
     "text": [
      "1/1 [==============================] - 0s 40ms/step\n",
      "[[17.548475]\n",
      " [18.851665]\n",
      " [21.8086  ]\n",
      " [23.56636 ]\n",
      " [22.10662 ]\n",
      " [16.397312]\n",
      " [22.29881 ]\n",
      " [24.456095]\n",
      " [21.478502]\n",
      " [19.573849]\n",
      " [13.083208]]\n"
     ]
    }
   ],
   "source": [
    "print(toys.predict(x_test))"
   ]
  }
 ],
 "metadata": {
  "kernelspec": {
   "display_name": "Python 3.9.13 ('base')",
   "language": "python",
   "name": "python3"
  },
  "language_info": {
   "codemirror_mode": {
    "name": "ipython",
    "version": 3
   },
   "file_extension": ".py",
   "mimetype": "text/x-python",
   "name": "python",
   "nbconvert_exporter": "python",
   "pygments_lexer": "ipython3",
   "version": "3.9.13 (main, Aug 25 2022, 23:51:50) [MSC v.1916 64 bit (AMD64)]"
  },
  "orig_nbformat": 4,
  "vscode": {
   "interpreter": {
    "hash": "ad2bdc8ecc057115af97d19610ffacc2b4e99fae6737bb82f5d7fb13d2f2c186"
   }
  }
 },
 "nbformat": 4,
 "nbformat_minor": 2
}
