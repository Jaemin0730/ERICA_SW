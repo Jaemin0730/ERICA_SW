{
  "cells": [
    {
      "cell_type": "code",
      "execution_count": 8,
      "metadata": {
        "id": "1N_IOaFTLxlL"
      },
      "outputs": [],
      "source": [
        "import numpy as np\n",
        "import matplotlib.pyplot as plt\n",
        "from scipy.stats import norm,t"
      ]
    },
    {
      "cell_type": "code",
      "execution_count": 9,
      "metadata": {
        "id": "OtGyZ3u-Lkag"
      },
      "outputs": [],
      "source": [
        "g1= np.array([10.89501377,  9.8230757,  10.32455374,  8.45578609,  9.39182539,  9.95700716, 10.29498543,  8.41609904, 10.58118058,  9.42093474, 11.36489356,  9.75706302,\n",
        "                10.59666392,  9.48271418,  8.80250863, 11.73252702,  9.59141368,  8.87440676, 10.97248738,  8.80258369, 10.12646653,  9.42512971,  9.42348484])\n",
        "\n",
        "g2 = np.array([15.34335212, 15.06043,    15.05874448, 12.10309741, 13.6968674,   7.48704952, 11.77819829, 16.02358925, 13.21098821, 10.94883044, 13.79482562,  8.01488572,\n",
        "                14.77561771, 11.43374432, 11.8929748,  14.45360182,  7.88874348, 13.09578147, 10.77408497, 13.2729849,  13.65794948, 11.37722784, 13.9492838,  16.04796856,\n",
        "                14.63420973, 15.70304421])"
      ]
    },
    {
      "cell_type": "code",
      "execution_count": 10,
      "metadata": {
        "id": "LcFcQiykMk36"
      },
      "outputs": [],
      "source": [
        "n1 = len(g1)\n",
        "n2 = len(g2)\n",
        "pool = ((n1-1) * np.var(g1,ddof=1) + (n2-1) * np.var(g2,ddof=1)) / (n1 + n2 - 2)\n",
        "g1_mean = np.mean(g1)\n",
        "g2_mean = np.mean(g2)\n",
        "\n",
        "#print(np.round(pool,3))\n",
        "#print(np.round(g1_mean,3))\n",
        "#print(np.round(g2_mean,3))"
      ]
    },
    {
      "cell_type": "code",
      "execution_count": 11,
      "metadata": {
        "id": "LU-SbxNfY_J8"
      },
      "outputs": [],
      "source": [
        "t_can = t(n1 + n2 - 2)\n",
        "ll = (g1_mean - g2_mean) - t_can.ppf(0.975)*np.sqrt(pool)*np.sqrt(1/n1+1/n2)\n",
        "ul = (g1_mean - g2_mean) + t_can.ppf(0.975)*np.sqrt(pool)*np.sqrt(1/n1+1/n2)"
      ]
    },
    {
      "cell_type": "code",
      "execution_count": 12,
      "metadata": {
        "colab": {
          "base_uri": "https://localhost:8080/"
        },
        "id": "NCr_3pkpE2ZK",
        "outputId": "b103b08a-111b-4aca-a188-6bb7c1037bb7"
      },
      "outputs": [
        {
          "name": "stdout",
          "output_type": "stream",
          "text": [
            "The difference of two means :  -3.0\n",
            "95% of Confidence Intervals of the difference of two means is -4.1402 and -1.969 \n"
          ]
        }
      ],
      "source": [
        "print(\"The difference of two means : \",np.round(g1_mean-g2_mean,0))\n",
        "print(\"95% of Confidence Intervals of the difference of two means is {} and {} \".format(np.round(ll,4),np.round(ul,4)))"
      ]
    }
  ],
  "metadata": {
    "colab": {
      "collapsed_sections": [],
      "provenance": []
    },
    "kernelspec": {
      "display_name": "'Conda'",
      "language": "python",
      "name": "conda"
    },
    "language_info": {
      "codemirror_mode": {
        "name": "ipython",
        "version": 3
      },
      "file_extension": ".py",
      "mimetype": "text/x-python",
      "name": "python",
      "nbconvert_exporter": "python",
      "pygments_lexer": "ipython3",
      "version": "3.10.5"
    },
    "vscode": {
      "interpreter": {
        "hash": "202e3ca643da9f0ff4ab839c9cba3ead2c2565b9aaaf633422ccfc5c3c9d9abe"
      }
    }
  },
  "nbformat": 4,
  "nbformat_minor": 0
}
