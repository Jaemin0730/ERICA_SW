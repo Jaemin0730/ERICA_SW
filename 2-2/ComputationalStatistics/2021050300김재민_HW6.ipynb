{
 "cells": [
  {
   "cell_type": "code",
   "execution_count": 12,
   "metadata": {},
   "outputs": [],
   "source": [
    "# Expense 에 대한 Income 이 영향이 있는 지 그 관계를 선형 회귀 모형으로 표현하고,\n",
    "# lmplot을 이용하여 회귀선과 산점도를 plot으로 그리시오.\n",
    "import numpy as np\n",
    "import pandas as pd\n",
    "import seaborn as sns\n",
    "from sklearn.linear_model import LinearRegression"
   ]
  },
  {
   "cell_type": "code",
   "execution_count": 13,
   "metadata": {},
   "outputs": [
    {
     "data": {
      "text/plain": [
       "<seaborn.axisgrid.FacetGrid at 0x2b5e52aef70>"
      ]
     },
     "execution_count": 13,
     "metadata": {},
     "output_type": "execute_result"
    }
   ],
   "source": [
    "student = pd.read_csv('C:/Users/82102/Desktop/SW Study/2022_2학년 2학기/전산통계학/데이터/student1.csv')\n",
    "sns.lmplot(x='Income',y='Expense',data=student,ci=95)"
   ]
  },
  {
   "cell_type": "code",
   "execution_count": 14,
   "metadata": {},
   "outputs": [
    {
     "name": "stdout",
     "output_type": "stream",
     "text": [
      "slope coefficient : 0.7306296421336936 \n",
      "intercept coefficient : -59.43083220796761\n",
      "Linear Regression Model about 'Expense' with 'Income' \n",
      " -> y = 0.7306296421336936x + -59.43083220796761\n"
     ]
    }
   ],
   "source": [
    "x = student['Income']\n",
    "y = student['Expense']\n",
    "model = LinearRegression().fit(x.values.reshape(-1, 1), y)\n",
    "print('slope coefficient :', model.coef_[0], '\\nintercept coefficient :', model.intercept_)\n",
    "print(\"Linear Regression Model about 'Expense' with 'Income' \\n -> y = {}x + {}\".format(model.coef_[0], model.intercept_))"
   ]
  }
 ],
 "metadata": {
  "kernelspec": {
   "display_name": "Python 3 (ipykernel)",
   "language": "python",
   "name": "python3"
  },
  "language_info": {
   "codemirror_mode": {
    "name": "ipython",
    "version": 3
   },
   "file_extension": ".py",
   "mimetype": "text/x-python",
   "name": "python",
   "nbconvert_exporter": "python",
   "pygments_lexer": "ipython3",
   "version": "3.9.13 (main, Aug 25 2022, 23:51:50) [MSC v.1916 64 bit (AMD64)]"
  },
  "vscode": {
   "interpreter": {
    "hash": "ad2bdc8ecc057115af97d19610ffacc2b4e99fae6737bb82f5d7fb13d2f2c186"
   }
  }
 },
 "nbformat": 4,
 "nbformat_minor": 2
}
