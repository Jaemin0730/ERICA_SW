{
 "cells": [
  {
   "cell_type": "code",
   "execution_count": 38,
   "metadata": {},
   "outputs": [],
   "source": [
    "import numpy as np\n",
    "import pandas as pd\n",
    "\n",
    "# -> 귀무가설 채택 (0.05<): 가설에 영향을 주지 않는다\n",
    "# -> 귀무가설 기각 (0.05>): 가설에 영향을 준다."
   ]
  },
  {
   "cell_type": "code",
   "execution_count": 39,
   "metadata": {},
   "outputs": [
    {
     "data": {
      "text/html": [
       "<div>\n",
       "<style scoped>\n",
       "    .dataframe tbody tr th:only-of-type {\n",
       "        vertical-align: middle;\n",
       "    }\n",
       "\n",
       "    .dataframe tbody tr th {\n",
       "        vertical-align: top;\n",
       "    }\n",
       "\n",
       "    .dataframe thead th {\n",
       "        text-align: right;\n",
       "    }\n",
       "</style>\n",
       "<table border=\"1\" class=\"dataframe\">\n",
       "  <thead>\n",
       "    <tr style=\"text-align: right;\">\n",
       "      <th></th>\n",
       "      <th>education</th>\n",
       "      <th>income</th>\n",
       "    </tr>\n",
       "  </thead>\n",
       "  <tbody>\n",
       "    <tr>\n",
       "      <th>0</th>\n",
       "      <td>college</td>\n",
       "      <td>high</td>\n",
       "    </tr>\n",
       "    <tr>\n",
       "      <th>1</th>\n",
       "      <td>college</td>\n",
       "      <td>high</td>\n",
       "    </tr>\n",
       "    <tr>\n",
       "      <th>2</th>\n",
       "      <td>college</td>\n",
       "      <td>high</td>\n",
       "    </tr>\n",
       "    <tr>\n",
       "      <th>3</th>\n",
       "      <td>college</td>\n",
       "      <td>high</td>\n",
       "    </tr>\n",
       "    <tr>\n",
       "      <th>4</th>\n",
       "      <td>college</td>\n",
       "      <td>high</td>\n",
       "    </tr>\n",
       "  </tbody>\n",
       "</table>\n",
       "</div>"
      ],
      "text/plain": [
       "  education income\n",
       "0   college   high\n",
       "1   college   high\n",
       "2   college   high\n",
       "3   college   high\n",
       "4   college   high"
      ]
     },
     "execution_count": 39,
     "metadata": {},
     "output_type": "execute_result"
    }
   ],
   "source": [
    "data=pd.read_csv(\"C:/Users/82102/Desktop/SW Study/2022_2학년 2학기/전산통계학/데이터/edu_income9.csv\")\n",
    "data.head()"
   ]
  },
  {
   "cell_type": "code",
   "execution_count": 40,
   "metadata": {},
   "outputs": [
    {
     "name": "stdout",
     "output_type": "stream",
     "text": [
      "income         high  low  midium  Total\n",
      "education                              \n",
      "college         255   81     105    441\n",
      "high-school     111   65      93    269\n",
      "middle-school    90   86     114    290\n",
      "Total           456  232     312   1000\n"
     ]
    }
   ],
   "source": [
    "# 분할표 만들기\n",
    "table = pd.crosstab(index=data['education'],columns=data['income'],margins=True,margins_name='Total')\n",
    "print(table)"
   ]
  },
  {
   "cell_type": "code",
   "execution_count": 41,
   "metadata": {},
   "outputs": [
    {
     "name": "stdout",
     "output_type": "stream",
     "text": [
      "53.62087164664146\n",
      "2.2284249810857003e-08\n",
      "9\n",
      "[[ 201.096  102.312  137.592  441.   ]\n",
      " [ 122.664   62.408   83.928  269.   ]\n",
      " [ 132.24    67.28    90.48   290.   ]\n",
      " [ 456.     232.     312.    1000.   ]]\n",
      "----------------------------\n",
      "53.62087164664146\n",
      "2.2284249810857003e-08\n",
      "9\n",
      "[[ 201.096  102.312  137.592  441.   ]\n",
      " [ 122.664   62.408   83.928  269.   ]\n",
      " [ 132.24    67.28    90.48   290.   ]\n",
      " [ 456.     232.     312.    1000.   ]]\n"
     ]
    }
   ],
   "source": [
    "from scipy.stats import chi2_contingency\n",
    "# chi2_contingency(table)\n",
    "# 1. table: contingency table (위에서 만든 table을 사용하면 됨)\n",
    "# 2. chi2: test statistic - 검정 통계\n",
    "# 3. pval: p-value\n",
    "# 4. dof: degree of freedom - 자유도\n",
    "# 5. expected: expected frequency - 예상 빈도\n",
    "chi2,pval,dof,expected = chi2_contingency(table)\n",
    "print(chi2)\n",
    "print(pval)\n",
    "print(dof)\n",
    "print(expected)\n",
    "print(\"----------------------------\")\n",
    "print(chi2_contingency(table)[0])\n",
    "print(chi2_contingency(table)[1])\n",
    "print(chi2_contingency(table)[2])\n",
    "print(chi2_contingency(table)[3])"
   ]
  },
  {
   "cell_type": "code",
   "execution_count": 42,
   "metadata": {},
   "outputs": [
    {
     "data": {
      "text/html": [
       "<div>\n",
       "<style scoped>\n",
       "    .dataframe tbody tr th:only-of-type {\n",
       "        vertical-align: middle;\n",
       "    }\n",
       "\n",
       "    .dataframe tbody tr th {\n",
       "        vertical-align: top;\n",
       "    }\n",
       "\n",
       "    .dataframe thead th {\n",
       "        text-align: right;\n",
       "    }\n",
       "</style>\n",
       "<table border=\"1\" class=\"dataframe\">\n",
       "  <thead>\n",
       "    <tr style=\"text-align: right;\">\n",
       "      <th></th>\n",
       "      <th>Grade</th>\n",
       "      <th>Status</th>\n",
       "      <th>Observed</th>\n",
       "    </tr>\n",
       "  </thead>\n",
       "  <tbody>\n",
       "    <tr>\n",
       "      <th>0</th>\n",
       "      <td>G1</td>\n",
       "      <td>Attend</td>\n",
       "      <td>6</td>\n",
       "    </tr>\n",
       "    <tr>\n",
       "      <th>1</th>\n",
       "      <td>G1</td>\n",
       "      <td>Absent</td>\n",
       "      <td>48</td>\n",
       "    </tr>\n",
       "    <tr>\n",
       "      <th>2</th>\n",
       "      <td>G2</td>\n",
       "      <td>Attend</td>\n",
       "      <td>14</td>\n",
       "    </tr>\n",
       "    <tr>\n",
       "      <th>3</th>\n",
       "      <td>G2</td>\n",
       "      <td>Absent</td>\n",
       "      <td>32</td>\n",
       "    </tr>\n",
       "    <tr>\n",
       "      <th>4</th>\n",
       "      <td>G3</td>\n",
       "      <td>Attend</td>\n",
       "      <td>13</td>\n",
       "    </tr>\n",
       "  </tbody>\n",
       "</table>\n",
       "</div>"
      ],
      "text/plain": [
       "  Grade  Status  Observed\n",
       "0    G1  Attend         6\n",
       "1    G1  Absent        48\n",
       "2    G2  Attend        14\n",
       "3    G2  Absent        32\n",
       "4    G3  Attend        13"
      ]
     },
     "execution_count": 42,
     "metadata": {},
     "output_type": "execute_result"
    }
   ],
   "source": [
    "# Q. 다음은 학년에 따른 학교 축제에 참여의 빈도를 보여주는 테이블이다. 알파가 0.05에서 학년별로 비율이 동일한지 테스트해보자!\n",
    "\n",
    "data = pd.DataFrame({\"Grade\" : [\"G1\",\"G1\",\"G2\",\"G2\",\"G3\",\"G3\",\"G4\",\"G4\"], \n",
    "                        \"Status\" : [\"Attend\",\"Absent\",\"Attend\",\"Absent\",\"Attend\",\"Absent\",\"Attend\",\"Absent\"],\n",
    "                        \"Observed\" : [6,48,14,32,13,47,7,33]})\n",
    "data.head()"
   ]
  },
  {
   "cell_type": "code",
   "execution_count": 43,
   "metadata": {},
   "outputs": [
    {
     "data": {
      "text/html": [
       "<div>\n",
       "<style scoped>\n",
       "    .dataframe tbody tr th:only-of-type {\n",
       "        vertical-align: middle;\n",
       "    }\n",
       "\n",
       "    .dataframe tbody tr th {\n",
       "        vertical-align: top;\n",
       "    }\n",
       "\n",
       "    .dataframe thead tr th {\n",
       "        text-align: left;\n",
       "    }\n",
       "\n",
       "    .dataframe thead tr:last-of-type th {\n",
       "        text-align: right;\n",
       "    }\n",
       "</style>\n",
       "<table border=\"1\" class=\"dataframe\">\n",
       "  <thead>\n",
       "    <tr>\n",
       "      <th></th>\n",
       "      <th colspan=\"5\" halign=\"left\">Observed</th>\n",
       "    </tr>\n",
       "    <tr>\n",
       "      <th>Grade</th>\n",
       "      <th>G1</th>\n",
       "      <th>G2</th>\n",
       "      <th>G3</th>\n",
       "      <th>G4</th>\n",
       "      <th>Total</th>\n",
       "    </tr>\n",
       "    <tr>\n",
       "      <th>Status</th>\n",
       "      <th></th>\n",
       "      <th></th>\n",
       "      <th></th>\n",
       "      <th></th>\n",
       "      <th></th>\n",
       "    </tr>\n",
       "  </thead>\n",
       "  <tbody>\n",
       "    <tr>\n",
       "      <th>Absent</th>\n",
       "      <td>48</td>\n",
       "      <td>32</td>\n",
       "      <td>47</td>\n",
       "      <td>33</td>\n",
       "      <td>160</td>\n",
       "    </tr>\n",
       "    <tr>\n",
       "      <th>Attend</th>\n",
       "      <td>6</td>\n",
       "      <td>14</td>\n",
       "      <td>13</td>\n",
       "      <td>7</td>\n",
       "      <td>40</td>\n",
       "    </tr>\n",
       "    <tr>\n",
       "      <th>Total</th>\n",
       "      <td>54</td>\n",
       "      <td>46</td>\n",
       "      <td>60</td>\n",
       "      <td>40</td>\n",
       "      <td>200</td>\n",
       "    </tr>\n",
       "  </tbody>\n",
       "</table>\n",
       "</div>"
      ],
      "text/plain": [
       "       Observed                  \n",
       "Grade        G1  G2  G3  G4 Total\n",
       "Status                           \n",
       "Absent       48  32  47  33   160\n",
       "Attend        6  14  13   7    40\n",
       "Total        54  46  60  40   200"
      ]
     },
     "execution_count": 43,
     "metadata": {},
     "output_type": "execute_result"
    }
   ],
   "source": [
    "# Create pivot_table -> pd.pivot_table()\n",
    "\n",
    "# chi2_contingency(table)\n",
    "# 1. table: contingency table (위에서 만든 table을 사용하면 됨)\n",
    "# 2. chi2: test statistic - 검정 통계\n",
    "# 3. pval: p-value\n",
    "# 4. dof: degree of freedom - 자유도\n",
    "# 5. expected: expected frequency - 예상 빈도\n",
    "\n",
    "table = pd.pivot_table(data, values=['Observed'], index=['Status'], columns=['Grade'], \n",
    "                        aggfunc=np.sum, margins=True,margins_name='Total')\n",
    "table"
   ]
  },
  {
   "cell_type": "code",
   "execution_count": 44,
   "metadata": {},
   "outputs": [
    {
     "name": "stdout",
     "output_type": "stream",
     "text": [
      "Test Statistic:  6.057518115942029\n",
      "P-value:  0.6407889520854085\n",
      "---------------------------------------------------\n",
      "6.057518115942029\n",
      "0.6407889520854085\n",
      "8\n",
      "[[ 43.2  36.8  48.   32.  160. ]\n",
      " [ 10.8   9.2  12.    8.   40. ]\n",
      " [ 54.   46.   60.   40.  200. ]]\n"
     ]
    }
   ],
   "source": [
    "# Chi-square Test\n",
    "print(\"Test Statistic: \", chi2_contingency(table)[0])\n",
    "print(\"P-value: \",chi2_contingency(table)[1])\n",
    "\n",
    "print(\"---------------------------------------------------\")\n",
    "\n",
    "chi2,pval,dof,expected = chi2_contingency(table)\n",
    "print(chi2)\n",
    "print(pval)\n",
    "print(dof) # 자유도\n",
    "print(expected)"
   ]
  },
  {
   "cell_type": "code",
   "execution_count": 45,
   "metadata": {},
   "outputs": [
    {
     "data": {
      "text/html": [
       "<div>\n",
       "<style scoped>\n",
       "    .dataframe tbody tr th:only-of-type {\n",
       "        vertical-align: middle;\n",
       "    }\n",
       "\n",
       "    .dataframe tbody tr th {\n",
       "        vertical-align: top;\n",
       "    }\n",
       "\n",
       "    .dataframe thead th {\n",
       "        text-align: right;\n",
       "    }\n",
       "</style>\n",
       "<table border=\"1\" class=\"dataframe\">\n",
       "  <thead>\n",
       "    <tr style=\"text-align: right;\">\n",
       "      <th></th>\n",
       "      <th>AB</th>\n",
       "      <th>G12</th>\n",
       "      <th>Observed</th>\n",
       "    </tr>\n",
       "  </thead>\n",
       "  <tbody>\n",
       "    <tr>\n",
       "      <th>0</th>\n",
       "      <td>A</td>\n",
       "      <td>G1</td>\n",
       "      <td>1</td>\n",
       "    </tr>\n",
       "    <tr>\n",
       "      <th>1</th>\n",
       "      <td>A</td>\n",
       "      <td>G2</td>\n",
       "      <td>4</td>\n",
       "    </tr>\n",
       "    <tr>\n",
       "      <th>2</th>\n",
       "      <td>B</td>\n",
       "      <td>G1</td>\n",
       "      <td>8</td>\n",
       "    </tr>\n",
       "    <tr>\n",
       "      <th>3</th>\n",
       "      <td>B</td>\n",
       "      <td>G2</td>\n",
       "      <td>5</td>\n",
       "    </tr>\n",
       "  </tbody>\n",
       "</table>\n",
       "</div>"
      ],
      "text/plain": [
       "  AB G12  Observed\n",
       "0  A  G1         1\n",
       "1  A  G2         4\n",
       "2  B  G1         8\n",
       "3  B  G2         5"
      ]
     },
     "execution_count": 45,
     "metadata": {},
     "output_type": "execute_result"
    }
   ],
   "source": [
    "# Fisher's Exact Test - 피셔정확검정\n",
    "\n",
    "data = pd.DataFrame({\"AB\" : [\"A\",\"A\",\"B\",\"B\",], \n",
    "                        \"G12\" : [\"G1\",\"G2\",\"G1\",\"G2\"],\n",
    "                        \"Observed\" : [1,4,8,5]})\n",
    "data.head()"
   ]
  },
  {
   "cell_type": "code",
   "execution_count": 46,
   "metadata": {},
   "outputs": [
    {
     "data": {
      "text/html": [
       "<div>\n",
       "<style scoped>\n",
       "    .dataframe tbody tr th:only-of-type {\n",
       "        vertical-align: middle;\n",
       "    }\n",
       "\n",
       "    .dataframe tbody tr th {\n",
       "        vertical-align: top;\n",
       "    }\n",
       "\n",
       "    .dataframe thead tr th {\n",
       "        text-align: left;\n",
       "    }\n",
       "\n",
       "    .dataframe thead tr:last-of-type th {\n",
       "        text-align: right;\n",
       "    }\n",
       "</style>\n",
       "<table border=\"1\" class=\"dataframe\">\n",
       "  <thead>\n",
       "    <tr>\n",
       "      <th></th>\n",
       "      <th colspan=\"2\" halign=\"left\">Observed</th>\n",
       "    </tr>\n",
       "    <tr>\n",
       "      <th>AB</th>\n",
       "      <th>A</th>\n",
       "      <th>B</th>\n",
       "    </tr>\n",
       "    <tr>\n",
       "      <th>G12</th>\n",
       "      <th></th>\n",
       "      <th></th>\n",
       "    </tr>\n",
       "  </thead>\n",
       "  <tbody>\n",
       "    <tr>\n",
       "      <th>G1</th>\n",
       "      <td>1</td>\n",
       "      <td>8</td>\n",
       "    </tr>\n",
       "    <tr>\n",
       "      <th>G2</th>\n",
       "      <td>4</td>\n",
       "      <td>5</td>\n",
       "    </tr>\n",
       "  </tbody>\n",
       "</table>\n",
       "</div>"
      ],
      "text/plain": [
       "    Observed   \n",
       "AB         A  B\n",
       "G12            \n",
       "G1         1  8\n",
       "G2         4  5"
      ]
     },
     "execution_count": 46,
     "metadata": {},
     "output_type": "execute_result"
    }
   ],
   "source": [
    "table = pd.pivot_table(data, values=['Observed'], index=['G12'], columns=['AB'], \n",
    "                        aggfunc=np.sum, margins=False)\n",
    "table"
   ]
  },
  {
   "cell_type": "code",
   "execution_count": 47,
   "metadata": {},
   "outputs": [
    {
     "name": "stdout",
     "output_type": "stream",
     "text": [
      "Observed Probability :  0.1324\n"
     ]
    }
   ],
   "source": [
    "# Observed Probability\n",
    "import math\n",
    "\n",
    "def Ob_Pro(table):\n",
    "    n,p = table.shape\n",
    "    out1 = 1\n",
    "    out2 = 1\n",
    "    tot_n = 0\n",
    "    \n",
    "    for i in range(n):\n",
    "        tot_n += np.sum(table.iloc[i,:])\n",
    "        out1 *= math.factorial(np.sum(table.iloc[i,:]))\n",
    "        for j in range(p):\n",
    "            out2 *= math.factorial(table.iloc[i,j])\n",
    "    \n",
    "    out2 *= math.factorial(tot_n)\n",
    "    for j in range(p):\n",
    "        out1 *= math.factorial(np.sum(table.iloc[:,j]))\n",
    "    \n",
    "    result = out1/out2\n",
    "    \n",
    "    return result\n",
    "\n",
    "print(\"Observed Probability : \", np.round(Ob_Pro(table),4))"
   ]
  },
  {
   "cell_type": "code",
   "execution_count": 48,
   "metadata": {},
   "outputs": [
    {
     "name": "stdout",
     "output_type": "stream",
     "text": [
      "P-Value :  0.2941\n",
      "귀무가설 채택 - 가설이 영향 없다\n"
     ]
    }
   ],
   "source": [
    "# Compute P-value\n",
    "\n",
    "from scipy.stats import fisher_exact\n",
    "\n",
    "_,pval = fisher_exact(table,alternative='two-sided')\n",
    "\n",
    "print(\"P-Value : \",np.round(pval,4))\n",
    "\n",
    "if (pval > 0.05):\n",
    "    print(\"귀무가설 채택 - 가설이 영향 없다\")\n",
    "else:\n",
    "    print(\"귀무가설 기각 - 가설이 영향 있다\")"
   ]
  }
 ],
 "metadata": {
  "kernelspec": {
   "display_name": "Python 3.9.13 ('base')",
   "language": "python",
   "name": "python3"
  },
  "language_info": {
   "codemirror_mode": {
    "name": "ipython",
    "version": 3
   },
   "file_extension": ".py",
   "mimetype": "text/x-python",
   "name": "python",
   "nbconvert_exporter": "python",
   "pygments_lexer": "ipython3",
   "version": "3.9.13 (main, Aug 25 2022, 23:51:50) [MSC v.1916 64 bit (AMD64)]"
  },
  "orig_nbformat": 4,
  "vscode": {
   "interpreter": {
    "hash": "ad2bdc8ecc057115af97d19610ffacc2b4e99fae6737bb82f5d7fb13d2f2c186"
   }
  }
 },
 "nbformat": 4,
 "nbformat_minor": 2
}
