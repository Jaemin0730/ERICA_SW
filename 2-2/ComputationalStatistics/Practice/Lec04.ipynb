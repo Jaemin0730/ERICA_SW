{
  "nbformat": 4,
  "nbformat_minor": 0,
  "metadata": {
    "colab": {
      "provenance": []
    },
    "kernelspec": {
      "name": "python3",
      "display_name": "Python 3"
    },
    "language_info": {
      "name": "python"
    }
  },
  "cells": [
    {
      "cell_type": "code",
      "execution_count": null,
      "metadata": {
        "id": "Uf2nzu7UiiPl"
      },
      "outputs": [],
      "source": [
        "import numpy as np\n",
        "from scipy.stats import ttest_1samp, chi2, norm\n",
        "from statsmodels.stats.proportion import proportions_ztest\n",
        "\n",
        "# p-value < alpha -> 귀무가설 기각, 대립가설 채택! H0 is rejected\n",
        "# p-value > alpha -> 귀무사걸 채택, 대립가설 기각! H0 is accepted"
      ]
    },
    {
      "cell_type": "code",
      "source": [
        "can = np.array([101.8, 101.5, 102.6, 101, 101.8, 96.8, 102.4, 100\n",
        "                ,98.8, 98.1,98.8, 98, 99.4, 95.5, 100.1, 100.5, 97.4\n",
        "                ,100.2, 101.4, 98.7,101.4, 99.4, 101.7, 99, 99.7, 98.9\n",
        "                ,99.5, 100, 99.7, 100.9,99.7, 99, 98.8, 99.7, 100.9, 99.9\n",
        "                ,97.5, 101.5, 98.2, 99.2,98.6, 101.4, 102.1, 102.9, 100.8\n",
        "                ,99.4, 103.7, 100.3, 100.2, 101.1,101.8, 100, 101.2, 100.5\n",
        "                ,101.2, 101.6, 99.9, 100.5, 100.4, 98.1,100.1, 101.6, 99.3\n",
        "                ,96.1, 100, 99.7, 99.7, 99.4, 101.5, 100.9,101.2, 99.9, 99.1\n",
        "                ,100.7, 100.8, 100.8, 101.4, 100.3, 98.4,97.2])"
      ],
      "metadata": {
        "id": "hul6a_XYpBBF"
      },
      "execution_count": null,
      "outputs": []
    },
    {
      "cell_type": "code",
      "source": [
        "# Large Sample\n",
        "# 여기 코드는 기본적으로 알고 들어가야됨!! 모르면 ㄹㅇㄹㅇㄹㅇㄹㅇ 큰일큰일!\n",
        "\n",
        "def z_stat (x, popmean, alpha, alternative):\n",
        "  # (x, popmean, alpha, alternative) = (배열, 배열의 평균, 알파값, alternative)\n",
        "  # alternative = 'two-sided' or 'less' or 'greater'\n",
        "  z_val = (np.mean(x) - popmean) / (np.std(x, ddof=1) / np.sqrt(len(x)))\n",
        "  print(\"Test statistic is {}\".format(np.round(z_val,4)))\n",
        "\n",
        "  if alternative == 'two-sided':\n",
        "    print('reject H0') if np.abs(z_val) > norm.ppf(1-alpha/2) else print('accept H0')\n",
        "  elif alternative == 'less':\n",
        "    print('reject H0') if z_val < norm.ppf(alpha) else print('accept H0')\n",
        "  else:\n",
        "    print('reject H0') if z_val > norm.ppf(1 - alpha) else print('accept H0')"
      ],
      "metadata": {
        "id": "GRoOkOTokKTX"
      },
      "execution_count": null,
      "outputs": []
    },
    {
      "cell_type": "code",
      "source": [
        "z_stat (can, 100, 0.05, 'two-sided')\n",
        "# u -> popmean"
      ],
      "metadata": {
        "colab": {
          "base_uri": "https://localhost:8080/"
        },
        "id": "Euf3YYFAo11E",
        "outputId": "3dececda-03c1-4dfb-9a27-61f2e3326351"
      },
      "execution_count": null,
      "outputs": [
        {
          "output_type": "stream",
          "name": "stdout",
          "text": [
            "Test statistic is 0.2352\n",
            "accept H0\n"
          ]
        }
      ]
    },
    {
      "cell_type": "code",
      "source": [
        "# Small Sample\n",
        "\n",
        "can_small = can[0:20]\n",
        "stat,pval = ttest_1samp (can_small, popmean = 100, alternative = 'greater')\n",
        "print(\"test statistic is {}\".format(np.round(stat,4)))\n",
        "print(\"p-value is {}\".format(np.round(pval,4)))\n",
        "print(\"H0 is rejected\") if pval < 0.05 else print(\"H0 is accepted\")"
      ],
      "metadata": {
        "colab": {
          "base_uri": "https://localhost:8080/"
        },
        "id": "YKRMHaO5pvjw",
        "outputId": "a92e6123-e749-42ba-ee96-ba6af255277b"
      },
      "execution_count": null,
      "outputs": [
        {
          "output_type": "stream",
          "name": "stdout",
          "text": [
            "test statistic is -0.5934\n",
            "p-value is 0.72\n",
            "H0 is accepted\n"
          ]
        }
      ]
    },
    {
      "cell_type": "code",
      "source": [
        "can_small = can[0:20]\n",
        "z_stat (can_small, 100, 0.05, 'greater')\n",
        "\n",
        "stat,pval = ttest_1samp (can, popmean = 100, alternative = 'two-sided')\n",
        "print(\"test statistic is {}\".format(np.round(stat,4)))\n",
        "print(\"p-value is {}\".format(np.round(pval,4)))\n",
        "print(\"H0 is rejected\") if pval < 0.05 else print(\"H0 is accepted\")\n",
        "\n",
        "# 이를 통해, ttest_1samp이랑 z_stat이랑 같은거 알 수 이뜸 -> 그냥 있는거 쓰자ㅎ"
      ],
      "metadata": {
        "colab": {
          "base_uri": "https://localhost:8080/"
        },
        "id": "pgRPK9-8oDbQ",
        "outputId": "4f94a3ad-bf57-4aeb-8f01-07e6ae3a07c0"
      },
      "execution_count": null,
      "outputs": [
        {
          "output_type": "stream",
          "name": "stdout",
          "text": [
            "Test statistic is -0.5934\n",
            "accept H0\n",
            "test statistic is 0.2352\n",
            "p-value is 0.8146\n",
            "H0 is accepted\n"
          ]
        }
      ]
    },
    {
      "cell_type": "code",
      "source": [
        "stat,pval = proportions_ztest(54,400,value = 0.15, alternative = 'smaller')   # -> (성공개수, 전체 시도, 비율, alternative)\n",
        "\n",
        "print(\"test statistic is {}\".format(np.round(stat,4)))\n",
        "print(\"p-value is {}\".format(np.round(pval,4)))\n",
        "print(\"H0 is rejected\") if pval < 0.05 else print(\"H0 is accepted\")"
      ],
      "metadata": {
        "colab": {
          "base_uri": "https://localhost:8080/"
        },
        "id": "ilmwEnPFsIju",
        "outputId": "463400d7-bd9f-441c-8e05-ecfa20d498a1"
      },
      "execution_count": null,
      "outputs": [
        {
          "output_type": "stream",
          "name": "stdout",
          "text": [
            "test statistic is -0.8779\n",
            "p-value is 0.19\n",
            "H0 is accepted\n"
          ]
        }
      ]
    },
    {
      "cell_type": "code",
      "source": [
        "# 카이제곱 사용! -> 암기는 힘드니까 적어가자!\n",
        "\n",
        "s20 = 2.1\n",
        "n = len(can)\n",
        "s2 = np.var(can, ddof=1)\n",
        "stat = (n-1) * s2/s20\n",
        "pval = 1 - chi2.cdf(stat, n-1)\n",
        "\n",
        "print(\"test statistic is {}\".format(np.round(stat,4)))\n",
        "print(\"p-value is {}\".format(np.round(pval,4)))\n",
        "print(\"H0 is rejected\") if pval < 0.1 else print(\"H0 is accepted\")"
      ],
      "metadata": {
        "colab": {
          "base_uri": "https://localhost:8080/"
        },
        "id": "nkekGy6wt8C8",
        "outputId": "7943ca94-c511-4bff-a4cc-7e962de98d22"
      },
      "execution_count": null,
      "outputs": [
        {
          "output_type": "stream",
          "name": "stdout",
          "text": [
            "test statistic is 87.0152\n",
            "p-value is 0.2515\n",
            "H0 is accepted\n"
          ]
        }
      ]
    }
  ]
}