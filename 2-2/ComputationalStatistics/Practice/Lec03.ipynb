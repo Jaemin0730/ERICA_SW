{
  "nbformat": 4,
  "nbformat_minor": 0,
  "metadata": {
    "colab": {
      "provenance": []
    },
    "kernelspec": {
      "name": "python3",
      "display_name": "Python 3"
    },
    "language_info": {
      "name": "python"
    }
  },
  "cells": [
    {
      "cell_type": "code",
      "execution_count": null,
      "metadata": {
        "id": "AxhGsmOX0bxI"
      },
      "outputs": [],
      "source": [
        "import numpy as np\n",
        "import matplotlib.pyplot as plt\n",
        "from scipy.stats import norm,t\n",
        "\n",
        "# t-> t-distribution\n",
        "# norm -> normal distribution\n",
        "\n",
        "# z alpha/2 -> *_norm.ppf(1 - alpha/2)\n",
        "# 주로 z_norm = norm(loc = 0, scale = 1) 사용함!!!!"
      ]
    },
    {
      "cell_type": "code",
      "source": [
        "can = np.array([101.8, 101.5, 102.6, 101, 101.8, 96.8, 102.4, 100\n",
        "                ,98.8, 98.1,98.8, 98, 99.4, 95.5, 100.1, 100.5, 97.4\n",
        "                ,100.2, 101.4, 98.7,101.4, 99.4, 101.7, 99, 99.7, 98.9\n",
        "                ,99.5, 100, 99.7, 100.9,99.7, 99, 98.8, 99.7, 100.9, 99.9\n",
        "                ,97.5, 101.5, 98.2, 99.2,98.6, 101.4, 102.1, 102.9, 100.8\n",
        "                ,99.4, 103.7, 100.3, 100.2, 101.1,101.8, 100, 101.2, 100.5\n",
        "                ,101.2, 101.6, 99.9, 100.5, 100.4, 98.1,100.1, 101.6, 99.3\n",
        "                ,96.1, 100, 99.7, 99.7, 99.4, 101.5, 100.9,101.2, 99.9, 99.1\n",
        "                ,100.7, 100.8, 100.8, 101.4, 100.3, 98.4,97.2])"
      ],
      "metadata": {
        "id": "BHAB6yFg108h"
      },
      "execution_count": null,
      "outputs": []
    },
    {
      "cell_type": "code",
      "source": [
        "# point estimator of the mean and 95% confidence intervals of the mean\n",
        "\n",
        "n = len(can)\n",
        "mean_can = np.mean(can)\n",
        "std_can = np.std(can, ddof=1) # -> 표준편차 (배열에 있는 모든 값의 표준 편차를 계산)\n",
        "can_norm = norm(loc = 0, scale = 1)\n",
        "# loc = 평균, scale = 표준편차\n",
        "\n",
        "\n",
        "# (1 - alpha)%의 신뢰구간 구하는 법!\n",
        "ll = mean_can - can_norm.ppf(0.975) * std_can/np.sqrt(n)\n",
        "ul = mean_can + can_norm.ppf(0.975) * std_can/np.sqrt(n)\n",
        "\n",
        "print(\"point estimator of mean is %.2f\" %mean_can)\n",
        "print(\"95% confidence intervals is {} and {}\".format(np.round(ll,4),np.round(ul,4)))"
      ],
      "metadata": {
        "colab": {
          "base_uri": "https://localhost:8080/"
        },
        "id": "MkP26tRi4T72",
        "outputId": "2c1678c5-eb39-4650-f189-5206b335c2ec"
      },
      "execution_count": null,
      "outputs": [
        {
          "output_type": "stream",
          "name": "stdout",
          "text": [
            "point estimator of mean is 100.04\n",
            "95% confidence intervals is 99.7067 and 100.3733\n"
          ]
        }
      ]
    },
    {
      "cell_type": "code",
      "source": [
        "# 이항분포 (binomial distribution) -> B(n,p)\n",
        "\n",
        "n = 250\n",
        "x = 70\n",
        "p_hat = x/n\n",
        "# n = 전체, x = 특정부분 , p_hat = 확률\n",
        "z_norm = norm(loc=0,scale=1)\n",
        "\n",
        "ll = p_hat - z_norm.ppf(0.95) * np.sqrt(p_hat * (1 - p_hat)/n)\n",
        "ul = p_hat + z_norm.ppf(0.95) * np.sqrt(p_hat * (1 - p_hat)/n)\n",
        "\n",
        "print(\"The propotion is :\", p_hat)\n",
        "print(\"90% confidence intervals of it is {} and {}\".format(np.round(ll,4),np.round(ul,4)))"
      ],
      "metadata": {
        "colab": {
          "base_uri": "https://localhost:8080/"
        },
        "id": "rthjHEIS-rj4",
        "outputId": "30f23236-2ca3-4a35-86b8-e42caf80b357"
      },
      "execution_count": null,
      "outputs": [
        {
          "output_type": "stream",
          "name": "stdout",
          "text": [
            "The propotion is : 0.28\n",
            "90% confidence intervals of it is 0.2333 and 0.3267\n"
          ]
        }
      ]
    },
    {
      "cell_type": "code",
      "source": [
        "# variance (분산)\n",
        "# -> (1 - alpha)% confidence intervals = (1-alpha)% 신뢰구간\n",
        "\n",
        "from scipy.stats import chi2\n",
        "\n",
        "n= len(can)\n",
        "s2 = np.var(can, ddof=1) # np.var() -> 분산 계산\n",
        "chi_dist = chi2(n-1)\n",
        "\n",
        "ll = (n-1) * s2/chi_dist.ppf(0.975)\n",
        "ul = (n-1) * s2/chi_dist.ppf(0.025)\n",
        "\n",
        "print(\"The variance estimator is :\", s2)\n",
        "print(\"95% confidence intervals of it is {} and {}\".format(np.round(ll,4),np.round(ul,4)))"
      ],
      "metadata": {
        "colab": {
          "base_uri": "https://localhost:8080/"
        },
        "id": "Ujfhmk6q_us4",
        "outputId": "c77c195d-2573-4e18-88a9-c4917500dae0"
      },
      "execution_count": null,
      "outputs": [
        {
          "output_type": "stream",
          "name": "stdout",
          "text": [
            "The variance estimator is : 2.3130632911392417\n",
            "95% confidence intervals of it is 1.7325 and 3.2452\n"
          ]
        }
      ]
    },
    {
      "cell_type": "code",
      "source": [
        "# Difference of two means -> 두 평균의 차이\n",
        "\n",
        "A_group = can[0:10]\n",
        "B_group = can[-10:]\n",
        "\n",
        "n1 = len(A_group)\n",
        "n2 = len(B_group)\n",
        "\n",
        "# --------------------------------------------------------------------------------------------------------\n",
        "# 분산의 합동분산...? 말 이상하니까 그냥 메모만 해두고 필요할때 쓰자!!!!!!!1\n",
        "s2_pool = ((n1-1) * np.var(A_group, ddof=1) + (n2-1) * np.var(B_group, ddof=1)) / (n1 + n2 - 2)\n",
        "print(\"pooled estimator of the variance is\", np.round(s2_pool,4))\n",
        "# --------------------------------------------------------------------------------------------------------\n",
        "\n",
        "a_mean = np.mean(A_group)\n",
        "b_mean = np.mean(B_group)\n",
        "t_can = t(n1 + n2 - 2)\n",
        "\n",
        "# 주의! 원래쓰던 Z alpha/2가 아니라서!! -> t_can 쓰는거 잊지말기 메모!!\n",
        "ll = (a_mean - b_mean) - t_can.ppf(0.975) * np.sqrt(s2_pool) * np.sqrt(1/n1 + 1/n2)\n",
        "ul = (a_mean - b_mean) + t_can.ppf(0.975) * np.sqrt(s2_pool) * np.sqrt(1/n1 + 1/n2)\n",
        "\n",
        "print(\"The Difference of two means :\", np.round(a_mean - b_mean,4))\n",
        "print(\"95% of CI of the difference of two means is {} and {}\".format(np.round(ll,4), np.round(ul,4)))"
      ],
      "metadata": {
        "colab": {
          "base_uri": "https://localhost:8080/"
        },
        "id": "Uz40VCe2B6JJ",
        "outputId": "ab0a4768-648e-4846-e7c5-cba98fd2d772"
      },
      "execution_count": null,
      "outputs": [
        {
          "output_type": "stream",
          "name": "stdout",
          "text": [
            "pooled estimator of the variance is 2.8729\n",
            "The Difference of two means : 0.5\n",
            "95% of CI of the difference of two means is -1.0925 and 2.0925\n"
          ]
        }
      ]
    },
    {
      "cell_type": "code",
      "source": [
        "# Difference of two proportions -> 두 비율의 차이\n",
        "\n",
        "n1 = n2 = 100\n",
        "p1_hat = 62/100\n",
        "p2_hat = 29/100\n",
        "z_norm = norm(loc = 0, scale = 1)\n",
        "ll = (p1_hat - p2_hat) - z_norm.ppf(0.975) * np.sqrt(p1_hat * (1 - p1_hat) / n1 + p2_hat * (1 - p2_hat)/ n2 )\n",
        "ul = (p1_hat - p2_hat) + z_norm.ppf(0.975) * np.sqrt(p1_hat * (1 - p1_hat) / n1 + p2_hat * (1 - p2_hat)/ n2 )\n",
        "\n",
        "print(\"The difference of two proportions :\", np.round(p1_hat - p2_hat,4)) # 두 비율의 차이\n",
        "print(\"95% of CI of the differnce of two proportions is {} and {}\".format(np.round(ll,4),np.round(ul,4))) # 두 비율의 차이를 구간으로 이해!\n",
        "# CI = confidence interval = 신뢰구간!"
      ],
      "metadata": {
        "colab": {
          "base_uri": "https://localhost:8080/"
        },
        "id": "daf7ttSaarZr",
        "outputId": "b7d0da2b-6b91-4cf7-c199-7db92ef50b7e"
      },
      "execution_count": null,
      "outputs": [
        {
          "output_type": "stream",
          "name": "stdout",
          "text": [
            "The difference of two proportions : 0.33\n",
            "95% of CI of the differnce of two proportions is 0.1998 and 0.4602\n"
          ]
        }
      ]
    }
  ]
}