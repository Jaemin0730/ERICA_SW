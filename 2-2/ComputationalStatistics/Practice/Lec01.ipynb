{
  "nbformat": 4,
  "nbformat_minor": 0,
  "metadata": {
    "colab": {
      "provenance": []
    },
    "kernelspec": {
      "name": "python3",
      "display_name": "Python 3"
    },
    "language_info": {
      "name": "python"
    }
  },
  "cells": [
    {
      "cell_type": "code",
      "execution_count": null,
      "metadata": {
        "id": "VaTaAys1wh4N"
      },
      "outputs": [],
      "source": [
        "import numpy as np\n",
        "import pandas as pd"
      ]
    },
    {
      "cell_type": "code",
      "source": [
        "# 1~100까지 숫자를 np를 이용해서 출력하기\n",
        "x = np.arange(1,101)\n",
        "print(x)"
      ],
      "metadata": {
        "colab": {
          "base_uri": "https://localhost:8080/"
        },
        "id": "CwdOf4jsw_7Y",
        "outputId": "1d8d0190-537b-4dd9-8f37-a88efa0f6cfb"
      },
      "execution_count": null,
      "outputs": [
        {
          "output_type": "stream",
          "name": "stdout",
          "text": [
            "[  1   2   3   4   5   6   7   8   9  10  11  12  13  14  15  16  17  18\n",
            "  19  20  21  22  23  24  25  26  27  28  29  30  31  32  33  34  35  36\n",
            "  37  38  39  40  41  42  43  44  45  46  47  48  49  50  51  52  53  54\n",
            "  55  56  57  58  59  60  61  62  63  64  65  66  67  68  69  70  71  72\n",
            "  73  74  75  76  77  78  79  80  81  82  83  84  85  86  87  88  89  90\n",
            "  91  92  93  94  95  96  97  98  99 100]\n"
          ]
        }
      ]
    },
    {
      "cell_type": "code",
      "source": [
        "def average(x): \n",
        "  return np.sum(x)/len(x)"
      ],
      "metadata": {
        "id": "CuiZ3mM7xWJD"
      },
      "execution_count": null,
      "outputs": []
    },
    {
      "cell_type": "code",
      "source": [
        "y = average(x)\n",
        "print(\"The mean of X is\",y)"
      ],
      "metadata": {
        "colab": {
          "base_uri": "https://localhost:8080/"
        },
        "id": "pJg3dnVHx33I",
        "outputId": "a80c70da-b868-40c4-93ec-ed02c8208d50"
      },
      "execution_count": null,
      "outputs": [
        {
          "output_type": "stream",
          "name": "stdout",
          "text": [
            "The mean of X is 50.5\n"
          ]
        }
      ]
    },
    {
      "cell_type": "code",
      "source": [
        "# Computation using axis -> 축을 사용해서 계산하기\n",
        "x = [[1,2,3,4,5],[-1,-2,-3,-4,-5]]\n",
        "print(\"sums of the colums are\",np.sum(x,axis=0))\n",
        "print(\"sums of the 1st and 2nd rows are\",np.sum(x,axis=1))\n",
        "print(\"Total sum is\",np.sum(x))"
      ],
      "metadata": {
        "colab": {
          "base_uri": "https://localhost:8080/"
        },
        "id": "9WQ5mjrGyILd",
        "outputId": "e7713136-5e11-47e9-88ab-737866d4527b"
      },
      "execution_count": null,
      "outputs": [
        {
          "output_type": "stream",
          "name": "stdout",
          "text": [
            "sums of the colums are [0 0 0 0 0]\n",
            "sums of the 1st and 2nd rows are [ 15 -15]\n",
            "Total sum is 0\n"
          ]
        }
      ]
    },
    {
      "cell_type": "code",
      "source": [
        "# IQR 계산 -> 적어가야겠지?\n",
        "\n",
        "class measure1:\n",
        "  def __init__(self,x):\n",
        "    self.x = x\n",
        "  \n",
        "  def iqr(self):\n",
        "    out_iqr = np.percentile(self.x,75) - np.percentile(self.x,25)\n",
        "    return out_iqr\n",
        "\n",
        "  def f_range(self):\n",
        "    out_range = np.max(self.x) - np.min(self.x)\n",
        "    return out_range"
      ],
      "metadata": {
        "id": "U1zmh4ys1OHs"
      },
      "execution_count": null,
      "outputs": []
    },
    {
      "cell_type": "code",
      "source": [
        "comp = measure1(x)\n",
        "print(\"IQR of X is %.2f\" %comp.iqr())\n",
        "print(\"Range of X is %.2f\" %comp.f_range())"
      ],
      "metadata": {
        "colab": {
          "base_uri": "https://localhost:8080/"
        },
        "id": "Efaj3NhQAT23",
        "outputId": "91856fa8-7567-4ea7-9a5e-8a26e5184e8d"
      },
      "execution_count": null,
      "outputs": [
        {
          "output_type": "stream",
          "name": "stdout",
          "text": [
            "IQR of X is 5.50\n",
            "Range of X is 10.00\n"
          ]
        }
      ]
    },
    {
      "cell_type": "code",
      "source": [
        "# np.percentile -> 백분위에 맞는 숫자 알려주기\n",
        "print(\"-----------------------------\")\n",
        "print(\"All x:\",x)\n",
        "print(\"The minimum :\",np.min(x))\n",
        "print(\"Q1          :\",np.percentile(x,25))\n",
        "print(\"Q1          :\",np.percentile(x,50))\n",
        "print(\"Q1          :\",np.percentile(x,75))\n",
        "print(\"The maximum :\",np.max(x))\n",
        "print(\"-----------------------------\")"
      ],
      "metadata": {
        "colab": {
          "base_uri": "https://localhost:8080/"
        },
        "id": "pKEBoLumBifC",
        "outputId": "27ca98f3-3641-4abe-a913-d6cab8e43b2d"
      },
      "execution_count": null,
      "outputs": [
        {
          "output_type": "stream",
          "name": "stdout",
          "text": [
            "-----------------------------\n",
            "All x: [[1, 2, 3, 4, 5], [-1, -2, -3, -4, -5]]\n",
            "The minimum : -5\n",
            "Q1          : -2.75\n",
            "Q1          : 0.0\n",
            "Q1          : 2.75\n",
            "The maximum : 5\n",
            "-----------------------------\n"
          ]
        }
      ]
    },
    {
      "cell_type": "code",
      "source": [
        "# crosstab 관련 예제 코드 -> 무조건 적어가야됨 (pandas 사용)\n",
        "blood = np.array(['A','B','B','A','A','O','A','AB','O','O','A','B','AB','B','A'])\n",
        "\n",
        "table1 = pd.crosstab(index = blood, colnames = ['Blood types'], columns = 'Frequency',margins = True)\n",
        "table1.index = ['A','AB','B','O','Total']\n",
        "\n",
        "for i in range(5):\n",
        "  table1.iloc[i,1] = table1.iloc[i,1] / table1.iloc[4,0]\n",
        "\n",
        "table1.rename(columns = {'All':'Relative Freq'}, inplace = True)\n",
        "print(table1)  "
      ],
      "metadata": {
        "colab": {
          "base_uri": "https://localhost:8080/"
        },
        "id": "dQl_8u_UC30i",
        "outputId": "a22d4953-46ef-4a33-c48d-4c76c12e0928"
      },
      "execution_count": null,
      "outputs": [
        {
          "output_type": "stream",
          "name": "stdout",
          "text": [
            "Blood types  Frequency  Relative Freq\n",
            "A                    6       0.400000\n",
            "AB                   2       0.133333\n",
            "B                    4       0.266667\n",
            "O                    3       0.200000\n",
            "Total               15       1.000000\n"
          ]
        }
      ]
    },
    {
      "cell_type": "code",
      "source": [
        "import matplotlib.pyplot as plt\n",
        "table2 = pd.crosstab(index = blood, colnames = ['Blood types'],columns= 'Frequency',margins=False)\n",
        "table2.index=['A','AB','B','O']\n",
        "print(table2)"
      ],
      "metadata": {
        "colab": {
          "base_uri": "https://localhost:8080/"
        },
        "id": "Q7l0kvcCJ7oF",
        "outputId": "278f2b16-44c8-4181-e0e8-1a5c9b77f6b4"
      },
      "execution_count": null,
      "outputs": [
        {
          "output_type": "stream",
          "name": "stdout",
          "text": [
            "Blood types  Frequency\n",
            "A                    6\n",
            "AB                   2\n",
            "B                    4\n",
            "O                    3\n"
          ]
        }
      ]
    },
    {
      "cell_type": "code",
      "source": [
        "table2.plot(kind = 'bar', color = 'pink',legend=True)\n",
        "# legend -> 오른쪽 상단에 있는 설명?서\n",
        "plt.xlabel(\"Blood types\")\n",
        "plt.ylabel(\"Frequency\")\n",
        "plt.title(\"Bar garph: Blood types\")\n",
        "plt.show()"
      ],
      "metadata": {
        "colab": {
          "base_uri": "https://localhost:8080/",
          "height": 299
        },
        "id": "NI9pYVcRLGtk",
        "outputId": "f169c42f-7565-4a97-97a6-63acc3874ca3"
      },
      "execution_count": null,
      "outputs": [
        {
          "output_type": "display_data",
          "data": {
            "text/plain": [
              "<Figure size 432x288 with 1 Axes>"
            ],
            "image/png": "[encoded data removed]"
          },
          "metadata": {
            "needs_background": "light"
          }
        }
      ]
    },
    {
      "cell_type": "code",
      "source": [
        "plt.pie(table2.iloc[:,0],labels=table2.index) # -> 적어서 가자 ㅎㅎ\n",
        "plt.title(\"Blood types\")\n",
        "plt.show()"
      ],
      "metadata": {
        "colab": {
          "base_uri": "https://localhost:8080/",
          "height": 264
        },
        "id": "qg4LUUl5MWdE",
        "outputId": "d8c03966-9101-4c3f-a052-6d41cd889b5d"
      },
      "execution_count": null,
      "outputs": [
        {
          "output_type": "display_data",
          "data": {
            "text/plain": [
              "<Figure size 432x288 with 1 Axes>"
            ],
            "image/png": "[encoded data removed]"
          },
          "metadata": {}
        }
      ]
    },
    {
      "cell_type": "code",
      "source": [
        "table3 = table2.sort_values(by='Frequency', ascending=False)\n",
        "table3['Cumulative rel freq'] = table3['Frequency'].cumsum() * 100 / table3['Frequency'].sum()\n",
        "print(table3)"
      ],
      "metadata": {
        "colab": {
          "base_uri": "https://localhost:8080/"
        },
        "id": "g8yn4wKFNP5y",
        "outputId": "e942411a-ecdb-4c06-b838-c44c84c67273"
      },
      "execution_count": null,
      "outputs": [
        {
          "output_type": "stream",
          "name": "stdout",
          "text": [
            "Blood types  Frequency  Cumulative rel freq\n",
            "A                    6            40.000000\n",
            "B                    4            66.666667\n",
            "O                    3            86.666667\n",
            "AB                   2           100.000000\n"
          ]
        }
      ]
    },
    {
      "cell_type": "code",
      "source": [
        "can = np.array([101.8, 101.5, 102.6, 101, 101.8, 96.8, 102.4, 100\n",
        "                ,98.8, 98.1,98.8, 98, 99.4, 95.5, 100.1, 100.5, 97.4\n",
        "                ,100.2, 101.4, 98.7,101.4, 99.4, 101.7, 99, 99.7, 98.9\n",
        "                ,99.5, 100, 99.7, 100.9,99.7, 99, 98.8, 99.7, 100.9, 99.9\n",
        "                ,97.5, 101.5, 98.2, 99.2,98.6, 101.4, 102.1, 102.9, 100.8\n",
        "                ,99.4, 103.7, 100.3, 100.2, 101.1,101.8, 100, 101.2, 100.5\n",
        "                ,101.2, 101.6, 99.9, 100.5, 100.4, 98.1,100.1, 101.6, 99.3\n",
        "                ,96.1, 100, 99.7, 99.7, 99.4, 101.5, 100.9,101.2, 99.9, 99.1\n",
        "                ,100.7, 100.8, 100.8, 101.4, 100.3, 98.4,97.2])"
      ],
      "metadata": {
        "id": "v-qvt62qXwLr"
      },
      "execution_count": null,
      "outputs": []
    },
    {
      "cell_type": "code",
      "source": [
        "plt.hist(can,bins=30,facecolor='blue') # -> 적어가자, bins : 구간의 개수\n",
        "plt.title('Histogram')\n",
        "plt.xlabel('Nutritional Values')"
      ],
      "metadata": {
        "colab": {
          "base_uri": "https://localhost:8080/",
          "height": 313
        },
        "id": "zpKI6KDQXTC7",
        "outputId": "513a0ca2-32a7-4b61-fb92-bfa22a10ae95"
      },
      "execution_count": null,
      "outputs": [
        {
          "output_type": "execute_result",
          "data": {
            "text/plain": [
              "Text(0.5, 0, 'Nutritional Values')"
            ]
          },
          "metadata": {},
          "execution_count": 15
        },
        {
          "output_type": "display_data",
          "data": {
            "text/plain": [
              "<Figure size 432x288 with 1 Axes>"
            ],
            "image/png": "[encoded data removed]"
          },
          "metadata": {
            "needs_background": "light"
          }
        }
      ]
    },
    {
      "cell_type": "code",
      "source": [
        "# 나올까...? -> 일단 적어가는걸로~\n",
        "plt.boxplot(can)\n",
        "plt.show()"
      ],
      "metadata": {
        "colab": {
          "base_uri": "https://localhost:8080/",
          "height": 267
        },
        "id": "B141NFycYLHp",
        "outputId": "96a5d970-22e5-4df6-882a-2fb3fbe53f5e"
      },
      "execution_count": null,
      "outputs": [
        {
          "output_type": "display_data",
          "data": {
            "text/plain": [
              "<Figure size 432x288 with 1 Axes>"
            ],
            "image/png": "[encoded data removed]"
          },
          "metadata": {
            "needs_background": "light"
          }
        }
      ]
    },
    {
      "cell_type": "code",
      "source": [
        "import sys\n",
        "!{sys.executable} -m pip install stemgraphic"
      ],
      "metadata": {
        "colab": {
          "base_uri": "https://localhost:8080/"
        },
        "id": "xprewT2WYUN6",
        "outputId": "ea580428-d28d-4045-9c75-65ad1a9f200e"
      },
      "execution_count": null,
      "outputs": [
        {
          "output_type": "stream",
          "name": "stdout",
          "text": [
            "Looking in indexes: https://pypi.org/simple, https://us-python.pkg.dev/colab-wheels/public/simple/\n",
            "Collecting stemgraphic\n",
            "  Downloading stemgraphic-0.9.1-py3-none-any.whl (61 kB)\n",
            "\u001b[K     |████████████████████████████████| 61 kB 437 kB/s \n",
            "\u001b[?25hCollecting docopt\n",
            "  Downloading docopt-0.6.2.tar.gz (25 kB)\n",
            "Requirement already satisfied: pandas in /usr/local/lib/python3.7/dist-packages (from stemgraphic) (1.3.5)\n",
            "Requirement already satisfied: seaborn in /usr/local/lib/python3.7/dist-packages (from stemgraphic) (0.11.2)\n",
            "Requirement already satisfied: matplotlib in /usr/local/lib/python3.7/dist-packages (from stemgraphic) (3.2.2)\n",
            "Requirement already satisfied: numpy>=1.11 in /usr/local/lib/python3.7/dist-packages (from matplotlib->stemgraphic) (1.21.6)\n",
            "Requirement already satisfied: kiwisolver>=1.0.1 in /usr/local/lib/python3.7/dist-packages (from matplotlib->stemgraphic) (1.4.4)\n",
            "Requirement already satisfied: pyparsing!=2.0.4,!=2.1.2,!=2.1.6,>=2.0.1 in /usr/local/lib/python3.7/dist-packages (from matplotlib->stemgraphic) (3.0.9)\n",
            "Requirement already satisfied: python-dateutil>=2.1 in /usr/local/lib/python3.7/dist-packages (from matplotlib->stemgraphic) (2.8.2)\n",
            "Requirement already satisfied: cycler>=0.10 in /usr/local/lib/python3.7/dist-packages (from matplotlib->stemgraphic) (0.11.0)\n",
            "Requirement already satisfied: typing-extensions in /usr/local/lib/python3.7/dist-packages (from kiwisolver>=1.0.1->matplotlib->stemgraphic) (4.1.1)\n",
            "Requirement already satisfied: six>=1.5 in /usr/local/lib/python3.7/dist-packages (from python-dateutil>=2.1->matplotlib->stemgraphic) (1.15.0)\n",
            "Requirement already satisfied: pytz>=2017.3 in /usr/local/lib/python3.7/dist-packages (from pandas->stemgraphic) (2022.4)\n",
            "Requirement already satisfied: scipy>=1.0 in /usr/local/lib/python3.7/dist-packages (from seaborn->stemgraphic) (1.7.3)\n",
            "Building wheels for collected packages: docopt\n",
            "  Building wheel for docopt (setup.py) ... \u001b[?25l\u001b[?25hdone\n",
            "  Created wheel for docopt: filename=docopt-0.6.2-py2.py3-none-any.whl size=13723 sha256=6f064e2dfe320afecbbca8d38f35fbeba1504afc19b7f78fe30433df433e79cd\n",
            "  Stored in directory: /root/.cache/pip/wheels/72/b0/3f/1d95f96ff986c7dfffe46ce2be4062f38ebd04b506c77c81b9\n",
            "Successfully built docopt\n",
            "Installing collected packages: docopt, stemgraphic\n",
            "Successfully installed docopt-0.6.2 stemgraphic-0.9.1\n"
          ]
        }
      ]
    },
    {
      "cell_type": "code",
      "source": [
        "import stemgraphic"
      ],
      "metadata": {
        "id": "AxafgqdPYaB1"
      },
      "execution_count": null,
      "outputs": []
    },
    {
      "cell_type": "code",
      "source": [
        "stemgraphic.stem_graphic(can,scale = 1) # 적고 공간부족하면 빼자"
      ],
      "metadata": {
        "colab": {
          "base_uri": "https://localhost:8080/",
          "height": 261
        },
        "id": "32d9_C6-Yfvj",
        "outputId": "bec31503-76d7-4a68-982a-0b5964dd2b07"
      },
      "execution_count": null,
      "outputs": [
        {
          "output_type": "execute_result",
          "data": {
            "text/plain": [
              "(<Figure size 540x216 with 1 Axes>,\n",
              " <matplotlib.axes._axes.Axes at 0x7f009eb402d0>)"
            ]
          },
          "metadata": {},
          "execution_count": 23
        },
        {
          "output_type": "display_data",
          "data": {
            "text/plain": [
              "<Figure size 540x216 with 1 Axes>"
            ],
            "image/png": "[encoded data removed]"
          },
          "metadata": {
            "needs_background": "light"
          }
        }
      ]
    }
  ]
}