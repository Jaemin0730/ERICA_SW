{
  "nbformat": 4,
  "nbformat_minor": 0,
  "metadata": {
    "colab": {
      "provenance": []
    },
    "kernelspec": {
      "name": "python3",
      "display_name": "Python 3"
    },
    "language_info": {
      "name": "python"
    }
  },
  "cells": [
    {
      "cell_type": "code",
      "source": [
        "import numpy as np\n",
        "import matplotlib.pyplot as plt\n",
        "\n",
        "# 참고 사이트 https://rfriend.tistory.com/m/284"
      ],
      "metadata": {
        "id": "bDA3jRDfawmQ"
      },
      "execution_count": null,
      "outputs": []
    },
    {
      "cell_type": "code",
      "execution_count": null,
      "metadata": {
        "colab": {
          "base_uri": "https://localhost:8080/",
          "height": 299
        },
        "id": "6S5bxLOcZEGh",
        "outputId": "eecc670f-f481-4b91-e0c7-4b87fe5e79c4"
      },
      "outputs": [
        {
          "output_type": "execute_result",
          "data": {
            "text/plain": [
              "Text(0.5, 1.0, 'Sample Means (n = 10)')"
            ]
          },
          "metadata": {},
          "execution_count": 2
        },
        {
          "output_type": "display_data",
          "data": {
            "text/plain": [
              "<Figure size 432x288 with 1 Axes>"
            ],
            "image/png": "[encoded data removed]"
          },
          "metadata": {
            "needs_background": "light"
          }
        }
      ],
      "source": [
        "n = 10\n",
        "s = np.arange(1,101)\n",
        "s_mean = np.zeros(n) # -> np.zeros(n) -> n개의 크기만큼 0으로 가득 채운다\n",
        "\n",
        "# 배열에 있는거 랜덤으로 고르는 명령어\n",
        "for i in range(n):\n",
        "  x = np.random.choice(s,3,replace=False) \n",
        "  # replace -> 중복여부!\n",
        "  s_mean[i] = np.mean(x)\n",
        "  # np.mean -> 평균값, 여기서는 3개 랜덤으로 고른 후, 그 3개의 숫자의 평균을 s_mean 배열에 넣어준다.\n",
        "\n",
        "plt.hist(s_mean) # 히스토그램 그려주기 -> 적어가자\n",
        "plt.title('Sample Means (n = 10)')  # 히스토그램의 제목 적어주기! -> 같이 적자"
      ]
    },
    {
      "cell_type": "code",
      "source": [
        "# 베르누이 시행 (n,p,size -> 개수, 나올 확률, 총 출력 사이즈)\n",
        "x = np.random.binomial(1,0.5,5)\n",
        "print(x)\n",
        "\n",
        "# 0~1사이 랜덤 추출\n",
        "x = np.random.random(5)\n",
        "print(np.round(x,3))\n",
        "\n",
        "# low ~ high 랜덤 추출\n",
        "x = np.random.uniform(1,5,3)\n",
        "print(x)"
      ],
      "metadata": {
        "colab": {
          "base_uri": "https://localhost:8080/"
        },
        "id": "PuKt0BMElNUi",
        "outputId": "4fbaf418-1661-4897-94fe-3f4fe6758e42"
      },
      "execution_count": null,
      "outputs": [
        {
          "output_type": "stream",
          "name": "stdout",
          "text": [
            "[0 0 0 0 0]\n",
            "[0.262 0.743 0.186 0.067 0.774]\n",
            "[4.79036306 2.47756991 2.75003619]\n"
          ]
        }
      ]
    },
    {
      "cell_type": "code",
      "source": [
        "# Draw 100 random sample from uniform(0,1) -> 혹시모르니까 적어가자\n",
        "np.random.seed(10)\n",
        "out1 = np.random.random(10000)\n",
        "plt.hist(out1)"
      ],
      "metadata": {
        "colab": {
          "base_uri": "https://localhost:8080/",
          "height": 374
        },
        "id": "l5rdCUVIapvz",
        "outputId": "9f3ad586-ad05-4ae4-bd85-d507a4e958be"
      },
      "execution_count": null,
      "outputs": [
        {
          "output_type": "execute_result",
          "data": {
            "text/plain": [
              "(array([1099., 1015., 1005., 1001.,  972.,  993.,  986.,  997.,  977.,\n",
              "         955.]),\n",
              " array([2.68708744e-04, 1.00240818e-01, 2.00212928e-01, 3.00185038e-01,\n",
              "        4.00157148e-01, 5.00129257e-01, 6.00101367e-01, 7.00073477e-01,\n",
              "        8.00045587e-01, 9.00017696e-01, 9.99989806e-01]),\n",
              " <a list of 10 Patch objects>)"
            ]
          },
          "metadata": {},
          "execution_count": 12
        },
        {
          "output_type": "display_data",
          "data": {
            "text/plain": [
              "<Figure size 432x288 with 1 Axes>"
            ],
            "image/png": "[encoded data removed]"
          },
          "metadata": {
            "needs_background": "light"
          }
        }
      ]
    },
    {
      "cell_type": "code",
      "source": [
        "# 정규분포로부터 랜덤으로 난수 생성 (평균,표준편차,출력 사이즈)\n",
        "x = np.random.normal(3, 0.2, 5)\n",
        "print(x)\n",
        "\n",
        "# 카이제곱분포로부터 랜덤으로 난수 생성 (자유도?, 출력 사이즈)\n",
        "x = np.random.chisquare(5,3)\n",
        "print(x)"
      ],
      "metadata": {
        "colab": {
          "base_uri": "https://localhost:8080/"
        },
        "id": "-SdWLRp4_rXV",
        "outputId": "c50e5dbc-ae96-4ee1-e905-167854cc1364"
      },
      "execution_count": null,
      "outputs": [
        {
          "output_type": "stream",
          "name": "stdout",
          "text": [
            "[3.11671158 2.98219324 2.88131048 2.99540493 3.25587411]\n",
            "[ 6.90598366  1.39316553 10.74123441]\n"
          ]
        }
      ]
    },
    {
      "cell_type": "code",
      "source": [
        "from scipy.stats import binom,uniform,chi2,t,norm \n",
        "# 이거는 필수로 넣고가자"
      ],
      "metadata": {
        "id": "fFMTOdTecGw9"
      },
      "execution_count": null,
      "outputs": []
    },
    {
      "cell_type": "code",
      "source": [
        "# Normal distribution (정규분포)\n",
        "\n",
        "# rvs -> 랜덤 형성, loc = 평균, scale = 표준편차\n",
        "rs = norm.rvs(loc=0,scale=1,size=1000)\n",
        "# linspace -> 구간 시작점, 구간 끝점, 구간 내 숫자 개수 \n",
        "x = np.linspace(-4,4,1000)\n",
        "\n",
        "# 그래프 디자인 -> plt.hist(요소, 밀도,타입)\n",
        "plt.hist(rs,density=True,histtype='stepfilled')\n",
        "# 히스토그램 종류 - bar,barstacked,step,stepfilled\n",
        "\n",
        "# 함수 디테일 -> plt.plot(x축,(y축->확률밀도함수 사용!!),r- : red + 직선)\n",
        "# 확률밀도함수 -> norm.pdf() 사용 (확률변수, 평균, 표준편차)\n",
        "# 변수 이해 안가면 https://losskatsu.github.io/statistics/random-variable/#%ED%99%95%EB%A5%A0%EB%B3%80%EC%88%98%EC%9D%98-%EA%B0%9C%EB%85%90 다시보자!!!!!!\n",
        "plt.plot(x,norm.pdf(x, loc=0, scale=1), 'r-')\n",
        "plt.show()"
      ],
      "metadata": {
        "colab": {
          "base_uri": "https://localhost:8080/",
          "height": 265
        },
        "id": "yg5PV2zyeIBU",
        "outputId": "27897822-fbde-477f-df76-9d57fd878f24"
      },
      "execution_count": null,
      "outputs": [
        {
          "output_type": "display_data",
          "data": {
            "text/plain": [
              "<Figure size 432x288 with 1 Axes>"
            ],
            "image/png": "[encoded data removed]"
          },
          "metadata": {
            "needs_background": "light"
          }
        }
      ]
    },
    {
      "cell_type": "code",
      "source": [
        "a = norm.cdf(0,loc=0,scale=1)\n",
        "b = norm.cdf(1,loc=0,scale=1)\n",
        "# cdf = 누적 분포 -> (확률변수, 평균, 표준편차)\n",
        "print(\"The probability between 0 and 1:\", b-a)\n",
        "print(\"The point upto 0.5:\",norm.ppf(0.5,loc=0,scale=1))\n",
        "# ppf -> (확률,평균,표준편차)"
      ],
      "metadata": {
        "colab": {
          "base_uri": "https://localhost:8080/"
        },
        "id": "UeHlQiTAf1Lj",
        "outputId": "922303e7-1ae5-433f-f8a0-c90f820d79d1"
      },
      "execution_count": null,
      "outputs": [
        {
          "output_type": "stream",
          "name": "stdout",
          "text": [
            "The probability between 0 and 1: 0.3413447460685429\n",
            "The point upto 0.5: 0.0\n"
          ]
        }
      ]
    }
  ]
}