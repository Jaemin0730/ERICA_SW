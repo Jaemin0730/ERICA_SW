{
  "nbformat": 4,
  "nbformat_minor": 0,
  "metadata": {
    "colab": {
      "provenance": []
    },
    "kernelspec": {
      "name": "python3",
      "display_name": "Python 3"
    },
    "language_info": {
      "name": "python"
    }
  },
  "cells": [
    {
      "cell_type": "code",
      "execution_count": null,
      "metadata": {
        "id": "sf5tynpBujHZ"
      },
      "outputs": [],
      "source": [
        "import numpy as np\n",
        "import seaborn as sns           # sns 사용할때 씀!\n",
        "from scipy.stats import ttest_ind, ttest_rel\n",
        "\n",
        "# ttest_ind -> 두 독립적인 샘플\n",
        "# ttest_rel -> 두 연관적인 샘플"
      ]
    },
    {
      "cell_type": "code",
      "source": [
        "can = np.array([101.8, 101.5, 102.6, 101, 101.8, 96.8, 102.4, 100\n",
        "                ,98.8, 98.1,98.8, 98, 99.4, 95.5, 100.1, 100.5, 97.4\n",
        "                ,100.2, 101.4, 98.7,101.4, 99.4, 101.7, 99, 99.7, 98.9\n",
        "                ,99.5, 100, 99.7, 100.9,99.7, 99, 98.8, 99.7, 100.9, 99.9\n",
        "                ,97.5, 101.5, 98.2, 99.2,98.6, 101.4, 102.1, 102.9, 100.8\n",
        "                ,99.4, 103.7, 100.3, 100.2, 101.1,101.8, 100, 101.2, 100.5\n",
        "                ,101.2, 101.6, 99.9, 100.5, 100.4, 98.1,100.1, 101.6, 99.3\n",
        "                ,96.1, 100, 99.7, 99.7, 99.4, 101.5, 100.9,101.2, 99.9, 99.1\n",
        "                ,100.7, 100.8, 100.8, 101.4, 100.3, 98.4,97.2])"
      ],
      "metadata": {
        "id": "VSEGrjOxyZQ2"
      },
      "execution_count": null,
      "outputs": []
    },
    {
      "cell_type": "code",
      "source": [
        "A_group = can[0:10]\n",
        "B_group = can[-10:]\n",
        "\n",
        "# 두 독립적인 샘플\n",
        "tstat, pval = ttest_ind(A_group, B_group, equal_var = True, alternative = 'two-sided')\n",
        "# equal_var = 분산이 같은지 다른지!\n",
        "print(\"tstat is \", np.round(tstat,4))\n",
        "print(\"pval is \", np.round(pval,4))\n",
        "\n",
        "sns.boxplot(data = [A_group, B_group], orient = 'h', showmeans = True)"
      ],
      "metadata": {
        "colab": {
          "base_uri": "https://localhost:8080/",
          "height": 319
        },
        "id": "m0in8boavPYi",
        "outputId": "198ba4d0-5817-442a-ed48-ea326100e265"
      },
      "execution_count": null,
      "outputs": [
        {
          "output_type": "stream",
          "name": "stdout",
          "text": [
            "tstat is  0.6596\n",
            "pval is  0.5178\n"
          ]
        },
        {
          "output_type": "execute_result",
          "data": {
            "text/plain": [
              "<matplotlib.axes._subplots.AxesSubplot at 0x7fd1369c6c90>"
            ]
          },
          "metadata": {},
          "execution_count": 3
        },
        {
          "output_type": "display_data",
          "data": {
            "text/plain": [
              "<Figure size 432x288 with 1 Axes>"
            ],
            "image/png": "[encoded data removed]"
          },
          "metadata": {
            "needs_background": "light"
          }
        }
      ]
    },
    {
      "cell_type": "code",
      "source": [
        "midterm = np.array([80,73,70,60,88,84,65,37,91,98,52,78,40,79,59])\n",
        "final = np.array([82,71,95,69,100,71,75,60,95,99,65,83,60,86,62])\n",
        "\n",
        "# 두 연관적인 샘플\n",
        "tstat, pval = ttest_rel(midterm,final, alternative = 'less') \n",
        "print(\"tstat is \", np.round(tstat,4))\n",
        "print(\"pval is \", np.round(pval,4))\n",
        "\n",
        "sns.boxplot(data = [midterm, final], orient = 'h', showmeans = True)"
      ],
      "metadata": {
        "colab": {
          "base_uri": "https://localhost:8080/",
          "height": 319
        },
        "id": "NLcSR56Uy4Cp",
        "outputId": "c05542e7-d23b-4f0e-ba85-bb328450e282"
      },
      "execution_count": null,
      "outputs": [
        {
          "output_type": "stream",
          "name": "stdout",
          "text": [
            "tstat is  -3.0937\n",
            "pval is  0.004\n"
          ]
        },
        {
          "output_type": "execute_result",
          "data": {
            "text/plain": [
              "<matplotlib.axes._subplots.AxesSubplot at 0x7fd136149290>"
            ]
          },
          "metadata": {},
          "execution_count": 4
        },
        {
          "output_type": "display_data",
          "data": {
            "text/plain": [
              "<Figure size 432x288 with 1 Axes>"
            ],
            "image/png": "[encoded data removed]"
          },
          "metadata": {
            "needs_background": "light"
          }
        }
      ]
    },
    {
      "cell_type": "code",
      "source": [
        "from scipy.stats import norm\n",
        "\n",
        "# 이거는 내가 만들어야되네....ㅎㅎ -> 메모해가자!!!\n",
        "def two_prop (x,n1,y,n2,alternative):\n",
        "  phat1 = x/n1\n",
        "  phat2 = y/n2\n",
        "  phat = (x + y) / (n1 + n2)\n",
        "  tstat = (phat1 - phat2) / (np.sqrt(phat * (1- phat)) * np.sqrt(1/n1 + 1/n2))\n",
        "  if alternative == 'less':\n",
        "    pval = norm.cdf(tstat)\n",
        "  elif alternative == 'greater':\n",
        "    pval = 1 - norm.cdf(tstat)\n",
        "  else:\n",
        "    pval = 2 * (1 - norm.cdf(tstat))\n",
        "  \n",
        "  return tstat,pval"
      ],
      "metadata": {
        "id": "AgNvHDNs8SEf"
      },
      "execution_count": null,
      "outputs": []
    },
    {
      "cell_type": "code",
      "source": [
        "tstat,pval = two_prop ( 4,25, 6,20, 'less')\n",
        "\n",
        "print(\"tstat is \", np.round(tstat,4))\n",
        "print(\"pval is \", np.round(pval,4))"
      ],
      "metadata": {
        "colab": {
          "base_uri": "https://localhost:8080/"
        },
        "id": "F9mEBWOi9eaD",
        "outputId": "b6c70460-c26d-4bc1-d5b2-edc74711e480"
      },
      "execution_count": null,
      "outputs": [
        {
          "output_type": "stream",
          "name": "stdout",
          "text": [
            "tstat is  -1.1225\n",
            "pval is  0.1308\n"
          ]
        }
      ]
    },
    {
      "cell_type": "code",
      "source": [
        "A_group = can[0:10]\n",
        "B_group = can[-10:]\n",
        "\n",
        "from scipy.stats import f\n",
        "def test_var2(x,y,alternative):\n",
        "  tstat = np.var(x,ddof=1) / np.var(y,ddof=1)\n",
        "  df1 = len(x) - 1\n",
        "  df2 = len(y) - 1\n",
        "  if alternative == 'less':\n",
        "    pval = f.cdf(tstat,df1,df2)\n",
        "  elif alternative == 'greater':\n",
        "    pval = 1 - f.cdf(tstat,df1,df2)\n",
        "  else :\n",
        "    pval = 2 * (1 - f.cdf(tstat,df1,df2))\n",
        "\n",
        "  return tstat, pval"
      ],
      "metadata": {
        "id": "a8IO33QA94qq"
      },
      "execution_count": null,
      "outputs": []
    },
    {
      "cell_type": "code",
      "source": [
        "tstat, pval = test_var2(A_group,B_group,'two-sided')\n",
        "print(\"tstat is \", np.round(tstat,4))\n",
        "print(\"pval is \", np.round(pval,4))"
      ],
      "metadata": {
        "colab": {
          "base_uri": "https://localhost:8080/"
        },
        "id": "lVhsc8OU_Isv",
        "outputId": "b4b8df9e-876f-4184-be8a-1cc87c9735f0"
      },
      "execution_count": null,
      "outputs": [
        {
          "output_type": "stream",
          "name": "stdout",
          "text": [
            "tstat is  2.1386\n",
            "pval is  0.2729\n"
          ]
        }
      ]
    }
  ]
}