{
 "cells": [
  {
   "cell_type": "code",
   "execution_count": 45,
   "metadata": {},
   "outputs": [],
   "source": [
    "# Logistic Regression\n",
    "\n",
    "import pandas as pd\n",
    "import numpy as np\n"
   ]
  },
  {
   "cell_type": "code",
   "execution_count": 46,
   "metadata": {},
   "outputs": [
    {
     "data": {
      "text/html": [
       "<div>\n",
       "<style scoped>\n",
       "    .dataframe tbody tr th:only-of-type {\n",
       "        vertical-align: middle;\n",
       "    }\n",
       "\n",
       "    .dataframe tbody tr th {\n",
       "        vertical-align: top;\n",
       "    }\n",
       "\n",
       "    .dataframe thead th {\n",
       "        text-align: right;\n",
       "    }\n",
       "</style>\n",
       "<table border=\"1\" class=\"dataframe\">\n",
       "  <thead>\n",
       "    <tr style=\"text-align: right;\">\n",
       "      <th></th>\n",
       "      <th>Y</th>\n",
       "      <th>X1</th>\n",
       "      <th>X2</th>\n",
       "      <th>X3</th>\n",
       "      <th>X4</th>\n",
       "      <th>X5</th>\n",
       "      <th>X5.1</th>\n",
       "    </tr>\n",
       "  </thead>\n",
       "  <tbody>\n",
       "    <tr>\n",
       "      <th>0</th>\n",
       "      <td>1</td>\n",
       "      <td>0.8</td>\n",
       "      <td>0.83</td>\n",
       "      <td>0.66</td>\n",
       "      <td>1.9</td>\n",
       "      <td>1.10</td>\n",
       "      <td>1.00</td>\n",
       "    </tr>\n",
       "    <tr>\n",
       "      <th>1</th>\n",
       "      <td>1</td>\n",
       "      <td>0.9</td>\n",
       "      <td>0.36</td>\n",
       "      <td>0.32</td>\n",
       "      <td>1.4</td>\n",
       "      <td>0.74</td>\n",
       "      <td>0.99</td>\n",
       "    </tr>\n",
       "    <tr>\n",
       "      <th>2</th>\n",
       "      <td>0</td>\n",
       "      <td>0.8</td>\n",
       "      <td>0.88</td>\n",
       "      <td>0.70</td>\n",
       "      <td>0.8</td>\n",
       "      <td>0.18</td>\n",
       "      <td>0.98</td>\n",
       "    </tr>\n",
       "    <tr>\n",
       "      <th>3</th>\n",
       "      <td>0</td>\n",
       "      <td>1.0</td>\n",
       "      <td>0.87</td>\n",
       "      <td>0.87</td>\n",
       "      <td>0.7</td>\n",
       "      <td>1.05</td>\n",
       "      <td>0.99</td>\n",
       "    </tr>\n",
       "    <tr>\n",
       "      <th>4</th>\n",
       "      <td>1</td>\n",
       "      <td>0.9</td>\n",
       "      <td>0.75</td>\n",
       "      <td>0.68</td>\n",
       "      <td>1.3</td>\n",
       "      <td>0.52</td>\n",
       "      <td>0.98</td>\n",
       "    </tr>\n",
       "  </tbody>\n",
       "</table>\n",
       "</div>"
      ],
      "text/plain": [
       "   Y   X1    X2    X3   X4    X5  X5.1\n",
       "0  1  0.8  0.83  0.66  1.9  1.10  1.00\n",
       "1  1  0.9  0.36  0.32  1.4  0.74  0.99\n",
       "2  0  0.8  0.88  0.70  0.8  0.18  0.98\n",
       "3  0  1.0  0.87  0.87  0.7  1.05  0.99\n",
       "4  1  0.9  0.75  0.68  1.3  0.52  0.98"
      ]
     },
     "execution_count": 46,
     "metadata": {},
     "output_type": "execute_result"
    }
   ],
   "source": [
    "data = pd.read_csv(\"C:/Users/82102/Desktop/SW Study/2022_2학년 2학기/전산통계학/데이터/Lec10_logi.csv\")\n",
    "data.head()"
   ]
  },
  {
   "cell_type": "code",
   "execution_count": 47,
   "metadata": {},
   "outputs": [
    {
     "name": "stdout",
     "output_type": "stream",
     "text": [
      "      X1    X2    X3   X4    X5  X5.1\n",
      "14  1.00  0.90  0.90  1.1  1.04  0.99\n",
      "25  1.00  0.69  0.69  0.9  0.40  0.99\n",
      "10  0.85  0.39  0.33  0.7  0.28  0.99\n",
      "9   0.95  0.36  0.34  0.5  0.00  1.04\n",
      "12  0.80  0.46  0.37  0.4  0.38  1.01\n",
      "8   1.00  0.45  0.45  0.8  0.32  1.00\n",
      "3   1.00  0.87  0.87  0.7  1.05  0.99\n",
      "22  1.00  0.58  0.58  1.0  0.53  1.00\n",
      "0   0.80  0.83  0.66  1.9  1.10  1.00\n",
      "17  1.00  0.75  0.75  1.0  1.32  1.00\n",
      "15  1.00  0.84  0.84  1.9  2.06  1.02\n",
      "23  0.95  0.32  0.30  1.6  0.89  0.99\n",
      "13  0.20  0.39  0.08  0.8  0.11  0.99\n",
      "4   0.90  0.75  0.68  1.3  0.52  0.98\n",
      "16  0.65  0.42  0.27  0.5  0.11  1.01\n",
      "6   0.95  0.97  0.92  1.0  1.23  0.99\n",
      "1   0.90  0.36  0.32  1.4  0.74  0.99\n",
      "18  0.50  0.44  0.22  0.6  0.11  0.99\n",
      "24  1.00  0.60  0.60  1.7  0.96  0.99\n",
      "26  1.00  0.73  0.73  0.7  0.40  0.99\n",
      "20  1.00  0.33  0.33  0.4  0.18  1.01\n",
      "14    0\n",
      "25    1\n",
      "10    0\n",
      "9     0\n",
      "12    0\n",
      "8     0\n",
      "3     0\n",
      "22    1\n",
      "0     1\n",
      "17    0\n",
      "15    1\n",
      "23    0\n",
      "13    0\n",
      "4     1\n",
      "16    0\n",
      "6     1\n",
      "1     1\n",
      "18    0\n",
      "24    1\n",
      "26    0\n",
      "20    0\n",
      "Name: Y, dtype: int64\n",
      "      X1    X2    X3   X4    X5  X5.1\n",
      "19  1.00  0.63  0.63  1.1  1.07  0.99\n",
      "2   0.80  0.88  0.70  0.8  0.18  0.98\n",
      "7   0.95  0.87  0.83  1.9  1.35  1.02\n",
      "21  0.90  0.93  0.84  0.6  1.59  1.02\n",
      "11  0.70  0.76  0.53  1.2  0.15  0.98\n",
      "5   1.00  0.65  0.65  0.6  0.52  0.98\n",
      "19    1\n",
      "2     0\n",
      "7     0\n",
      "21    0\n",
      "11    0\n",
      "5     0\n",
      "Name: Y, dtype: int64\n"
     ]
    }
   ],
   "source": [
    "# Data Split\n",
    "from sklearn.model_selection import train_test_split\n",
    "\n",
    "x_train,x_test,y_train,y_test = train_test_split(data[['X1','X2','X3','X4','X5','X5.1']],   \n",
    "                                                    data['Y'],\n",
    "                                                    test_size = 0.2,\n",
    "                                                    shuffle=True)\n",
    "print(x_train)\n",
    "print(y_train)\n",
    "print(x_test)\n",
    "print(y_test)"
   ]
  },
  {
   "cell_type": "code",
   "execution_count": 48,
   "metadata": {},
   "outputs": [
    {
     "data": {
      "text/plain": [
       "LogisticRegression(tol=1e-06)"
      ]
     },
     "execution_count": 48,
     "metadata": {},
     "output_type": "execute_result"
    }
   ],
   "source": [
    "# Fitting the Model\n",
    "from sklearn.linear_model import LogisticRegression\n",
    "\n",
    "# LogisticRegression(tol, solver) -> tot=1e-06으로 고정!\n",
    "# .fit(x,y) -> fit the model with x and y\n",
    "#   1) .intercept_       : 추정된 상수항\n",
    "#   2) .coef_            : 추정된 가중치 벡터\n",
    "#   3) .classes_         : \n",
    "#   4) .predict_proba(x) : X_test값이 주어졌을 때 레이블 값이 [0으로 분류될 확률, 1로 분류될 확률]... 이 담긴 배열로 반환\n",
    "#   5) .predict(x)       : 0/1로 분리된 배열을 반환\n",
    "#   6) .score(x,y)       : 정확한 예측의 비율을 반환\n",
    "\n",
    "model = LogisticRegression(tol=1e-06)\n",
    "model.fit(x_train,y_train)"
   ]
  },
  {
   "cell_type": "code",
   "execution_count": 49,
   "metadata": {},
   "outputs": [
    {
     "data": {
      "text/plain": [
       "array([[0.5383135 , 0.4616865 ],\n",
       "       [0.70702622, 0.29297378],\n",
       "       [0.23042094, 0.76957906],\n",
       "       [0.60496316, 0.39503684],\n",
       "       [0.6189495 , 0.3810505 ],\n",
       "       [0.74263741, 0.25736259]])"
      ]
     },
     "execution_count": 49,
     "metadata": {},
     "output_type": "execute_result"
    }
   ],
   "source": [
    "# Prediction with test dataset\n",
    "\n",
    "# predict_proba()에서 나오는 pro1과 pro2는 확률로서 둘의 합은 1!\n",
    "# 분류 모델이 각 클래스에 대한 확률을 일일히 출력\n",
    "model.predict_proba(x_test)"
   ]
  },
  {
   "cell_type": "code",
   "execution_count": 50,
   "metadata": {},
   "outputs": [
    {
     "name": "stdout",
     "output_type": "stream",
     "text": [
      "Predicted labels :  [0 0 1 0 0 0]\n"
     ]
    }
   ],
   "source": [
    "# predict -> 가장 확률 높은 클래스를 출력!\n",
    "\n",
    "# 참고: https://datascienceschool.net/03%20machine%20learning/09.04%20%EB%B6%84%EB%A5%98%20%EC%84%B1%EB%8A%A5%ED%8F%89%EA%B0%80.html\n",
    "\n",
    "y_pred = model.predict(x_test)\n",
    "print(\"Predicted labels : \", y_pred)"
   ]
  },
  {
   "cell_type": "code",
   "execution_count": 51,
   "metadata": {},
   "outputs": [
    {
     "name": "stdout",
     "output_type": "stream",
     "text": [
      "[[4 1]\n",
      " [1 0]]\n"
     ]
    }
   ],
   "source": [
    "# Evaluation: How Well???\n",
    "from sklearn import metrics\n",
    "\n",
    "matrix = metrics.confusion_matrix(y_test,y_pred)\n",
    "print(matrix)"
   ]
  },
  {
   "cell_type": "code",
   "execution_count": 52,
   "metadata": {},
   "outputs": [
    {
     "name": "stdout",
     "output_type": "stream",
     "text": [
      "Accuracy_score:  0.6666666666666666\n",
      "              precision    recall  f1-score   support\n",
      "\n",
      "     class 0       0.80      0.80      0.80         5\n",
      "     class 1       0.00      0.00      0.00         1\n",
      "\n",
      "    accuracy                           0.67         6\n",
      "   macro avg       0.40      0.40      0.40         6\n",
      "weighted avg       0.67      0.67      0.67         6\n",
      "\n"
     ]
    }
   ],
   "source": [
    "from sklearn.metrics import classification_report, accuracy_score\n",
    "import numpy as np\n",
    "\n",
    "print('Accuracy_score: ',accuracy_score(y_test,y_pred))\n",
    "print(classification_report(y_test,y_pred,target_names=['class 0','class 1']))"
   ]
  }
 ],
 "metadata": {
  "kernelspec": {
   "display_name": "Python 3.9.13 ('base')",
   "language": "python",
   "name": "python3"
  },
  "language_info": {
   "codemirror_mode": {
    "name": "ipython",
    "version": 3
   },
   "file_extension": ".py",
   "mimetype": "text/x-python",
   "name": "python",
   "nbconvert_exporter": "python",
   "pygments_lexer": "ipython3",
   "version": "3.9.13 (main, Aug 25 2022, 23:51:50) [MSC v.1916 64 bit (AMD64)]"
  },
  "orig_nbformat": 4,
  "vscode": {
   "interpreter": {
    "hash": "ad2bdc8ecc057115af97d19610ffacc2b4e99fae6737bb82f5d7fb13d2f2c186"
   }
  }
 },
 "nbformat": 4,
 "nbformat_minor": 2
}
