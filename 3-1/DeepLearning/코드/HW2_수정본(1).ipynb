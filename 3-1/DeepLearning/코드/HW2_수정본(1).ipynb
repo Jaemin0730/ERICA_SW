{
  "cells": [
    {
      "cell_type": "code",
      "execution_count": 1,
      "metadata": {
        "id": "8HJDmBvPkFx7"
      },
      "outputs": [],
      "source": [
        "import random\n",
        "import math\n",
        "import numpy as np\n",
        "import matplotlib.pyplot as plt"
      ]
    },
    {
      "cell_type": "code",
      "execution_count": 2,
      "metadata": {
        "id": "qg7PYx4Qo9CI"
      },
      "outputs": [],
      "source": [
        "# XOR Data\n",
        "x_seeds = np.array([(0,0), (1,0), (0,1), (1,1)], dtype = np.float64)\n",
        "y_seeds = np.array([0,1,1,0])"
      ]
    },
    {
      "cell_type": "code",
      "execution_count": 3,
      "metadata": {
        "id": "WUQrXGlesy9A"
      },
      "outputs": [],
      "source": [
        "N = 1000\n",
        "idxs = np.random.randint(0,4,N)"
      ]
    },
    {
      "cell_type": "code",
      "execution_count": 4,
      "metadata": {
        "id": "-SYKTii9s4_e"
      },
      "outputs": [],
      "source": [
        "X = x_seeds[idxs]\n",
        "Y = y_seeds[idxs]"
      ]
    },
    {
      "cell_type": "code",
      "execution_count": 5,
      "metadata": {
        "id": "EXEOfOC2s9JC"
      },
      "outputs": [],
      "source": [
        "X += np.random.normal(scale = 0.25, size = X.shape)"
      ]
    },
    {
      "cell_type": "code",
      "execution_count": 6,
      "metadata": {
        "id": "o4ZcfULftD5h"
      },
      "outputs": [],
      "source": [
        "class shallow_neural_network():\n",
        "    def __init__(self, num_input_features, num_hiddens):\n",
        "        self.num_input_features = num_input_features\n",
        "        self.num_hiddens = num_hiddens\n",
        "\n",
        "        self.W1 = np.random.normal(size=(num_hiddens, num_input_features))\n",
        "        self.b1 = np.random.normal(size=num_hiddens)\n",
        "        self.W2 = np.random.normal(size=num_hiddens)\n",
        "        self.b2 = np.random.normal(size=1)\n",
        "\n",
        "    def sigmoid(self, z):\n",
        "        return 1 / (1 + np.exp(-z))\n",
        "\n",
        "    def predict(self, x):\n",
        "        z1 = np.matmul(self.W1, x) + self.b1\n",
        "        a1 = np.tanh(z1)\n",
        "        z2 = np.matmul(self.W2, a1) + self.b2\n",
        "        a2 = self.sigmoid(z2)\n",
        "        return a2, (z1, a1, z2, a2)\n"
      ]
    },
    {
      "cell_type": "code",
      "execution_count": 7,
      "metadata": {
        "id": "I50ylOckKrbE"
      },
      "outputs": [],
      "source": [
        "model = shallow_neural_network(2,3)"
      ]
    },
    {
      "cell_type": "code",
      "execution_count": 8,
      "metadata": {
        "id": "vtMm3I9nohWZ"
      },
      "outputs": [],
      "source": [
        "# 기존 train 모델 (Vector 계산 없음)\n",
        "def train1(X, Y, model, lr=0.1):\n",
        "  \"\"\"\n",
        "  신경망 모델을 훈련하는 함수\n",
        "\n",
        "  Args:\n",
        "    X: 입력 데이터 (numpy 배열)\n",
        "    Y: 레이블 데이터 (numpy 배열)\n",
        "    model: 훈련할 신경망 모델 객체\n",
        "    lr: 학습률 (기본값: 0.1)\n",
        "\n",
        "  Returns:\n",
        "    훈련 후의 손실 값\n",
        "  \"\"\"\n",
        "\n",
        "  # 모델의 가중치 및 편향과 동일한 모양의 0으로 채워진 배열 초기화\n",
        "  dW1 = np.zeros_like(model.W1)\n",
        "  db1 = np.zeros_like(model.b1)\n",
        "  dW2 = np.zeros_like(model.W2)\n",
        "  db2 = np.zeros_like(model.b2)\n",
        "\n",
        "  m = len(X)  # 데이터 샘플 수\n",
        "  cost = 0.0  # 손실 초기화\n",
        "\n",
        "  # 각 데이터 샘플에 대해 반복\n",
        "  for x, y in zip(X, Y):\n",
        "    # 모델 예측\n",
        "    a2, (z1, a1, z2, _) = model.predict(x)\n",
        "\n",
        "    # 손실 계산 (이진 교차 엔트로피)\n",
        "    if y == 1:\n",
        "      cost -= np.log(a2)\n",
        "    else:\n",
        "      cost -= np.log(1 - a2)\n",
        "\n",
        "    # 출력층 오차 계산\n",
        "    diff = a2 - y\n",
        "\n",
        "    # 출력층 가중치 및 편향 업데이트\n",
        "    db2 += diff\n",
        "\n",
        "    for i in range(model.num_hiddens):\n",
        "      dW2[i] += a1[i] * diff\n",
        "\n",
        "    # 은닉층 오차 계산 및 가중치 및 편향 업데이트\n",
        "    for i in range(model.num_hiddens):\n",
        "      db1[i] += (1 - a1[i]**2) * model.W2[i] * diff\n",
        "    for i in range(model.num_hiddens):\n",
        "      for j in range(model.num_input_features):\n",
        "        dW1[i, j] += x[j] * (1 - a1[i]**2) * model.W2[i] * diff\n",
        "\n",
        "  # 평균 손실 계산\n",
        "  cost /= m\n",
        "\n",
        "  # 가중치 및 편향 업데이트\n",
        "  model.W1 -= lr * dW1 / m\n",
        "  model.b1 -= lr * db1 / m\n",
        "  model.W2 -= lr * dW2 / m\n",
        "  model.b2 -= lr * db2 / m\n",
        "\n",
        "  return cost"
      ]
    },
    {
      "cell_type": "code",
      "execution_count": 9,
      "metadata": {
        "id": "KvOb5R__FUv4"
      },
      "outputs": [],
      "source": [
        "# 벡터 계산으로 변경된 train 모델\n",
        "def train2(X, Y, model, lr=0.1):\n",
        "    \"\"\"\n",
        "    신경망 모델을 훈련하는 함수 (벡터 계산 적용)\n",
        "\n",
        "    Args:\n",
        "        X: 입력 데이터 (numpy 배열)\n",
        "        Y: 레이블 데이터 (numpy 배열)\n",
        "        model: 훈련할 신경망 모델 객체\n",
        "        lr: 학습률 (기본값: 0.1)\n",
        "\n",
        "    Returns:\n",
        "        훈련 후의 손실 값\n",
        "    \"\"\"\n",
        "\n",
        "    # 모델 예측\n",
        "    Z1 = np.dot(X, model.W1.T) + model.b1\n",
        "    A1 = np.tanh(Z1)\n",
        "    Z2 = np.dot(A1, model.W2) + model.b2\n",
        "    A2 = model.sigmoid(Z2)\n",
        "\n",
        "    # 손실 계산 (이진 교차 엔트로피)\n",
        "    cost = -np.mean(Y * np.log(A2.flatten()) + (1 - Y) * np.log(1 - A2.flatten()))\n",
        "\n",
        "    # 출력층 오차 계산\n",
        "    diff = A2.flatten() - Y\n",
        "\n",
        "    # 출력층 가중치 및 편향 업데이트 (벡터 연산)\n",
        "    db2 = np.sum(diff)\n",
        "    dW2 = np.dot(A1.T, diff)\n",
        "\n",
        "    # 은닉층 오차 계산 및 가중치 및 편향 업데이트 (벡터 연산)\n",
        "    delta1 = (1 - A1**2) * (diff.reshape(-1, 1) @ model.W2.T.reshape(1, -1)) # 수정된 부분\n",
        "    db1 = np.sum(delta1, axis=0)\n",
        "    dW1 = np.dot(delta1.T, X)\n",
        "\n",
        "    # 가중치 및 편향 업데이트\n",
        "    model.W1 -= lr * dW1 / len(X)\n",
        "    model.b1 -= lr * db1 / len(X)\n",
        "    model.W2 -= lr * dW2 / len(X)\n",
        "    model.b2 -= lr * db2 / len(X)\n",
        "\n",
        "    return cost"
      ]
    },
    {
      "cell_type": "code",
      "execution_count": 10,
      "metadata": {
        "colab": {
          "base_uri": "https://localhost:8080/"
        },
        "id": "oMqjjjYFItzm",
        "outputId": "8d42c943-f79a-42ae-ac46-671bf76a62f5"
      },
      "outputs": [
        {
          "name": "stdout",
          "output_type": "stream",
          "text": [
            "0 1.367043445665047\n",
            "10 0.6679738325043929\n",
            "20 0.6092383432850097\n",
            "30 0.5315309951175573\n",
            "40 0.4464677741830104\n",
            "50 0.3820837974468933\n",
            "60 0.3410457590117444\n",
            "70 0.31561674493002395\n",
            "80 0.29952787717410784\n",
            "90 0.2890155383695235\n"
          ]
        }
      ],
      "source": [
        "for epoch in range(100):\n",
        "  cost = train2(X,Y, model, 1.0)\n",
        "  if epoch % 10 == 0:\n",
        "    print(epoch, cost)"
      ]
    },
    {
      "cell_type": "code",
      "execution_count": 11,
      "metadata": {
        "colab": {
          "base_uri": "https://localhost:8080/"
        },
        "id": "m8Ta-6aRTVPo",
        "outputId": "51c3ec37-b568-46a2-8a2b-0a16711c48bb"
      },
      "outputs": [
        {
          "data": {
            "text/plain": [
              "0.06848097090270096"
            ]
          },
          "execution_count": 11,
          "metadata": {},
          "output_type": "execute_result"
        }
      ],
      "source": [
        "model.predict((0,0))[0].item()"
      ]
    },
    {
      "cell_type": "code",
      "execution_count": 12,
      "metadata": {
        "colab": {
          "base_uri": "https://localhost:8080/"
        },
        "id": "JbidaxRIWBy0",
        "outputId": "0084f7f5-47b6-47be-b7df-68c8a1aee11e"
      },
      "outputs": [
        {
          "data": {
            "text/plain": [
              "0.9011783965454454"
            ]
          },
          "execution_count": 12,
          "metadata": {},
          "output_type": "execute_result"
        }
      ],
      "source": [
        "model.predict((0,1))[0].item()"
      ]
    },
    {
      "cell_type": "code",
      "execution_count": 13,
      "metadata": {
        "colab": {
          "base_uri": "https://localhost:8080/"
        },
        "id": "ErmKjc5SWBpT",
        "outputId": "d8adbcfb-b30a-4d8d-be83-3b50a005db87"
      },
      "outputs": [
        {
          "data": {
            "text/plain": [
              "0.881318422217531"
            ]
          },
          "execution_count": 13,
          "metadata": {},
          "output_type": "execute_result"
        }
      ],
      "source": [
        "model.predict((1,0))[0].item()"
      ]
    },
    {
      "cell_type": "code",
      "execution_count": 14,
      "metadata": {
        "colab": {
          "base_uri": "https://localhost:8080/"
        },
        "id": "T3DmhwYUWBZE",
        "outputId": "235baa3c-d1c8-4cf9-ba92-3ae60c5ad1f9"
      },
      "outputs": [
        {
          "data": {
            "text/plain": [
              "0.06708234304255642"
            ]
          },
          "execution_count": 14,
          "metadata": {},
          "output_type": "execute_result"
        }
      ],
      "source": [
        "model.predict((1,1))[0].item()"
      ]
    },
    {
      "cell_type": "code",
      "execution_count": 15,
      "metadata": {
        "id": "Lb7pg4J9ZU4j"
      },
      "outputs": [],
      "source": [
        "idxs_1 = np.where(Y==1)\n",
        "idxs_0 = np.where(Y==0)"
      ]
    },
    {
      "cell_type": "code",
      "execution_count": 16,
      "metadata": {
        "id": "qTSQZqx2ZdVn"
      },
      "outputs": [],
      "source": [
        "X_0 = X[idxs_0]\n",
        "Y_0 = Y[idxs_0]"
      ]
    },
    {
      "cell_type": "code",
      "execution_count": 17,
      "metadata": {
        "id": "rt_LV1VzZjFJ"
      },
      "outputs": [],
      "source": [
        "X_1 = X[idxs_1]\n",
        "Y_1 = Y[idxs_1]"
      ]
    },
    {
      "cell_type": "code",
      "execution_count": 18,
      "metadata": {
        "colab": {
          "base_uri": "https://localhost:8080/",
          "height": 430
        },
        "id": "0zJYniVxZpt_",
        "outputId": "070aed74-60ba-4b45-9192-c6e5d32ec7e5"
      },
      "outputs": [
        {
          "data": {
            "image/png": "[encoded data removed]",
            "text/plain": [
              "<Figure size 640x480 with 1 Axes>"
            ]
          },
          "metadata": {},
          "output_type": "display_data"
        }
      ],
      "source": [
        "# plot\n",
        "plt.plot(X_0[:,0], X_0[:,1],\"r^\")\n",
        "plt.plot(X_1[:,0], X_1[:,1],\"bx\")\n",
        "plt.show()"
      ]
    }
  ],
  "metadata": {
    "colab": {
      "provenance": []
    },
    "kernelspec": {
      "display_name": "base",
      "language": "python",
      "name": "python3"
    },
    "language_info": {
      "codemirror_mode": {
        "name": "ipython",
        "version": 3
      },
      "file_extension": ".py",
      "mimetype": "text/x-python",
      "name": "python",
      "nbconvert_exporter": "python",
      "pygments_lexer": "ipython3",
      "version": "3.9.13"
    }
  },
  "nbformat": 4,
  "nbformat_minor": 0
}
