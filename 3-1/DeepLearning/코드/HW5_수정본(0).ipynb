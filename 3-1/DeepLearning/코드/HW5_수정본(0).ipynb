{
  "nbformat": 4,
  "nbformat_minor": 0,
  "metadata": {
    "colab": {
      "provenance": []
    },
    "kernelspec": {
      "name": "python3",
      "display_name": "Python 3"
    },
    "language_info": {
      "name": "python"
    }
  },
  "cells": [
    {
      "cell_type": "code",
      "execution_count": null,
      "metadata": {
        "id": "F65qKZKbzliA"
      },
      "outputs": [],
      "source": [
        "import torch\n",
        "from torch import nn, optim\n",
        "import torchvision\n",
        "from torchvision import datasets, transforms\n",
        "\n",
        "import tqdm\n",
        "\n",
        "from torch.nn import ModuleList"
      ]
    },
    {
      "cell_type": "code",
      "source": [
        "# Hyperparameters\n",
        "learning_rate = 1e-3\n",
        "batch_size = 64\n",
        "\n",
        "# Data\n",
        "train_data_mnist = datasets.MNIST('D#datasets', train=True, download=True, transform=transforms.ToTensor())\n",
        "test_data_mnist = datasets.MNIST('D#datasets', train=False, download=True, transform=transforms.ToTensor())\n",
        "\n",
        "print(len(train_data_mnist))\n",
        "train_set, val_set = torch.utils.data.random_split(train_data_mnist, [50000, 10000])\n",
        "\n",
        "train_loader = torch.utils.data.DataLoader(train_set, batch_size=batch_size, shuffle=True)\n",
        "dev_loader = torch.utils.data.DataLoader(val_set, batch_size=batch_size)\n",
        "test_loader = torch.utils.data.DataLoader(test_data_mnist, batch_size=batch_size)"
      ],
      "metadata": {
        "colab": {
          "base_uri": "https://localhost:8080/"
        },
        "id": "ipZp4Cd5zr9H",
        "outputId": "dc3fc0cc-47f9-4591-b65b-683ee0d33ccb"
      },
      "execution_count": null,
      "outputs": [
        {
          "output_type": "stream",
          "name": "stderr",
          "text": [
            "100%|██████████| 9.91M/9.91M [00:00<00:00, 45.0MB/s]\n",
            "100%|██████████| 28.9k/28.9k [00:00<00:00, 1.77MB/s]\n",
            "100%|██████████| 1.65M/1.65M [00:00<00:00, 14.7MB/s]\n",
            "100%|██████████| 4.54k/4.54k [00:00<00:00, 6.74MB/s]\n"
          ]
        },
        {
          "output_type": "stream",
          "name": "stdout",
          "text": [
            "60000\n"
          ]
        }
      ]
    },
    {
      "cell_type": "code",
      "source": [
        "# Model Init\n",
        "\n",
        "class CNN(torch.nn.Module):\n",
        "    def __init__(self):\n",
        "        super(CNN, self).__init__()\n",
        "        self.keep_prob = 0.5\n",
        "\n",
        "        n_channels_1 = 6\n",
        "        n_channels_2 = 16\n",
        "\n",
        "        self.layer1 = torch.nn.Sequential(\n",
        "            torch.nn.Conv2d(1, n_channels_1, kernel_size=3, stride=1),\n",
        "            torch.nn.ReLU(),\n",
        "            torch.nn.MaxPool2d(kernel_size=2, stride=2)\n",
        "        )\n",
        "\n",
        "        self.layer2 = torch.nn.Sequential(\n",
        "            torch.nn.Conv2d(n_channels_1, n_channels_2, kernel_size=5, stride=1),\n",
        "            torch.nn.ReLU(),\n",
        "            torch.nn.MaxPool2d(kernel_size=2, stride=2)\n",
        "        )\n",
        "\n",
        "        self.fc3 = torch.nn.Linear(4 * 4 * n_channels_2, 120, bias=True)\n",
        "        torch.nn.init.xavier_uniform_(self.fc3.weight)\n",
        "        self.layer3 = torch.nn.Sequential(\n",
        "            self.fc3,\n",
        "            torch.nn.ReLU(),\n",
        "            torch.nn.Dropout(p=1 - self.keep_prob)\n",
        "        )\n",
        "\n",
        "        self.fc4 = torch.nn.Linear(120, 80, bias=True)\n",
        "        torch.nn.init.xavier_uniform_(self.fc4.weight)\n",
        "        self.layer4 = torch.nn.Sequential(\n",
        "            self.fc4,\n",
        "            torch.nn.ReLU(),\n",
        "            torch.nn.Dropout(p=1 - self.keep_prob)\n",
        "        )\n",
        "\n",
        "        self.fc5 = torch.nn.Linear(80, 10, bias=True)\n",
        "        torch.nn.init.xavier_uniform_(self.fc5.weight)\n",
        "\n",
        "    def forward(self, x):\n",
        "        out = self.layer1(x)\n",
        "        out = self.layer2(out)\n",
        "        out = out.view(out.size(0), -1)  # Flatten them for FC\n",
        "\n",
        "        out = self.layer3(out)\n",
        "        out = self.layer4(out)\n",
        "        out = self.fc5(out)\n",
        "        return out"
      ],
      "metadata": {
        "id": "WvVOG8BIzuvn"
      },
      "execution_count": null,
      "outputs": []
    },
    {
      "cell_type": "code",
      "source": [
        "# Test Function\n",
        "\n",
        "def test(data_loader, model):\n",
        "    model.eval()\n",
        "    n_predict = 0\n",
        "    n_correct = 0\n",
        "    with torch.no_grad():\n",
        "        for X, Y in tqdm.tqdm(data_loader):\n",
        "            y_hat = model(X)\n",
        "            _, predicted = torch.max(y_hat, 1)\n",
        "\n",
        "            n_predict += len(predicted)\n",
        "            n_correct += (Y == predicted).sum()\n",
        "\n",
        "    accuracy = n_correct / n_predict\n",
        "    print(f\"Accuracy: {accuracy} ()\")\n"
      ],
      "metadata": {
        "id": "dM9s4DzVzxFC"
      },
      "execution_count": null,
      "outputs": []
    },
    {
      "cell_type": "code",
      "source": [
        "# Initialize\n",
        "\n",
        "model = CNN()\n",
        "criterion = torch.nn.CrossEntropyLoss()  # 비용 함수에 소프트맥스 포함됨\n",
        "optimizer = torch.optim.Adam(model.parameters(), lr=learning_rate)"
      ],
      "metadata": {
        "id": "DqHNJW3NzyCy"
      },
      "execution_count": null,
      "outputs": []
    },
    {
      "cell_type": "code",
      "source": [
        "# Training\n",
        "\n",
        "training_epochs = 5\n",
        "\n",
        "for epoch in range(training_epochs):\n",
        "    model.train()\n",
        "    cost = 0\n",
        "    n_batches = 0\n",
        "\n",
        "    for X, Y in tqdm.tqdm(train_loader):  # 미니 배치 단위\n",
        "        # X: (batch_size, 1, 28, 28) — 채널 수 1\n",
        "        optimizer.zero_grad()\n",
        "        y_hat = model(X)\n",
        "        loss = criterion(y_hat, Y)\n",
        "        loss.backward()\n",
        "        optimizer.step()\n",
        "\n",
        "        cost += loss.item()\n",
        "        n_batches += 1\n",
        "\n",
        "    cost /= n_batches\n",
        "    print('[Epoch: {:>4}] cost = {:>.9}'.format(epoch + 1, cost))\n",
        "    print(\"Dev\")\n",
        "    test(dev_loader, model)\n"
      ],
      "metadata": {
        "colab": {
          "base_uri": "https://localhost:8080/"
        },
        "id": "2npy103VzzJP",
        "outputId": "0afb055d-7f74-447f-973a-3996d00b1371"
      },
      "execution_count": null,
      "outputs": [
        {
          "output_type": "stream",
          "name": "stderr",
          "text": [
            "100%|██████████| 782/782 [00:21<00:00, 35.85it/s]\n"
          ]
        },
        {
          "output_type": "stream",
          "name": "stdout",
          "text": [
            "[Epoch:    1] cost = 0.619917656\n",
            "Dev\n"
          ]
        },
        {
          "output_type": "stream",
          "name": "stderr",
          "text": [
            "100%|██████████| 157/157 [00:02<00:00, 77.96it/s]\n"
          ]
        },
        {
          "output_type": "stream",
          "name": "stdout",
          "text": [
            "Accuracy: 0.9541000127792358 ()\n"
          ]
        },
        {
          "output_type": "stream",
          "name": "stderr",
          "text": [
            "100%|██████████| 782/782 [00:17<00:00, 44.44it/s]\n"
          ]
        },
        {
          "output_type": "stream",
          "name": "stdout",
          "text": [
            "[Epoch:    2] cost = 0.206069446\n",
            "Dev\n"
          ]
        },
        {
          "output_type": "stream",
          "name": "stderr",
          "text": [
            "100%|██████████| 157/157 [00:02<00:00, 58.61it/s]\n"
          ]
        },
        {
          "output_type": "stream",
          "name": "stdout",
          "text": [
            "Accuracy: 0.9666000008583069 ()\n"
          ]
        },
        {
          "output_type": "stream",
          "name": "stderr",
          "text": [
            "100%|██████████| 782/782 [00:17<00:00, 44.88it/s]\n"
          ]
        },
        {
          "output_type": "stream",
          "name": "stdout",
          "text": [
            "[Epoch:    3] cost = 0.15150107\n",
            "Dev\n"
          ]
        },
        {
          "output_type": "stream",
          "name": "stderr",
          "text": [
            "100%|██████████| 157/157 [00:02<00:00, 75.18it/s]\n"
          ]
        },
        {
          "output_type": "stream",
          "name": "stdout",
          "text": [
            "Accuracy: 0.973800003528595 ()\n"
          ]
        },
        {
          "output_type": "stream",
          "name": "stderr",
          "text": [
            "100%|██████████| 782/782 [00:18<00:00, 41.35it/s]\n"
          ]
        },
        {
          "output_type": "stream",
          "name": "stdout",
          "text": [
            "[Epoch:    4] cost = 0.128635042\n",
            "Dev\n"
          ]
        },
        {
          "output_type": "stream",
          "name": "stderr",
          "text": [
            "100%|██████████| 157/157 [00:02<00:00, 76.05it/s]\n"
          ]
        },
        {
          "output_type": "stream",
          "name": "stdout",
          "text": [
            "Accuracy: 0.9781000018119812 ()\n"
          ]
        },
        {
          "output_type": "stream",
          "name": "stderr",
          "text": [
            "100%|██████████| 782/782 [00:18<00:00, 41.89it/s]\n"
          ]
        },
        {
          "output_type": "stream",
          "name": "stdout",
          "text": [
            "[Epoch:    5] cost = 0.110910387\n",
            "Dev\n"
          ]
        },
        {
          "output_type": "stream",
          "name": "stderr",
          "text": [
            "100%|██████████| 157/157 [00:02<00:00, 67.28it/s]"
          ]
        },
        {
          "output_type": "stream",
          "name": "stdout",
          "text": [
            "Accuracy: 0.9789000153541565 ()\n"
          ]
        },
        {
          "output_type": "stream",
          "name": "stderr",
          "text": [
            "\n"
          ]
        }
      ]
    },
    {
      "cell_type": "code",
      "source": [
        "# Test\n",
        "\n",
        "test(test_loader, model)"
      ],
      "metadata": {
        "colab": {
          "base_uri": "https://localhost:8080/"
        },
        "id": "ME-OzU_xz0EN",
        "outputId": "b8466f9a-bca5-4534-ba84-d981047b83ec"
      },
      "execution_count": null,
      "outputs": [
        {
          "output_type": "stream",
          "name": "stderr",
          "text": [
            "100%|██████████| 157/157 [00:02<00:00, 56.57it/s]"
          ]
        },
        {
          "output_type": "stream",
          "name": "stdout",
          "text": [
            "Accuracy: 0.9850000143051147 ()\n"
          ]
        },
        {
          "output_type": "stream",
          "name": "stderr",
          "text": [
            "\n"
          ]
        }
      ]
    }
  ]
}