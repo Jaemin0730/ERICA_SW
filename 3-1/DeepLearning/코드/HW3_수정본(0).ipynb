{
  "cells": [
    {
      "cell_type": "markdown",
      "metadata": {
        "id": "7a_nRoD0D-WJ"
      },
      "source": [
        "## 1. XOR 데이터 생성 (NumPy 사용)"
      ]
    },
    {
      "cell_type": "code",
      "execution_count": null,
      "metadata": {
        "id": "9DEdybAZ3JBJ"
      },
      "outputs": [],
      "source": [
        "# [1] 라이브러리 import\n",
        "import numpy as np\n",
        "import torch\n",
        "import torch.optim as optim"
      ]
    },
    {
      "cell_type": "code",
      "execution_count": null,
      "metadata": {
        "id": "j6aYWDfhET-9"
      },
      "outputs": [],
      "source": [
        "# [2] XOR 데이터 정의\n",
        "x_seeds = np.array([[0, 0], [1, 0], [0, 1], [1, 1]], dtype=np.float32)\n",
        "y_seeds = np.array([0, 1, 1, 0])  # XOR 정답"
      ]
    },
    {
      "cell_type": "code",
      "execution_count": null,
      "metadata": {
        "id": "j6eTOM35EVnA"
      },
      "outputs": [],
      "source": [
        "# [3] 1000개의 샘플 랜덤 생성 (복원 추출)\n",
        "N = 1000\n",
        "idxs = np.random.randint(0, 4, N)  # 0~3 인덱스 중 하나 랜덤 선택"
      ]
    },
    {
      "cell_type": "code",
      "execution_count": null,
      "metadata": {
        "id": "hZo0OVzXEW8a"
      },
      "outputs": [],
      "source": [
        "# [4] 샘플 복제\n",
        "X = x_seeds[idxs]  # shape: (1000, 2)\n",
        "Y = y_seeds[idxs]  # shape: (1000,)"
      ]
    },
    {
      "cell_type": "code",
      "execution_count": null,
      "metadata": {
        "id": "ojL51-_yFgag"
      },
      "outputs": [],
      "source": [
        "# [5] 입력 데이터에 노이즈 추가\n",
        "X += np.random.normal(scale=0.25, size=X.shape)\n",
        "\n",
        "# 노이즈 사용 이유 : 모델이 더 일반화된 학습을 하게 되고, 단순히 \"외우는 것\"이 아니라 패턴을 이해하는 것에 더 가까워진다."
      ]
    },
    {
      "cell_type": "markdown",
      "metadata": {
        "id": "D5E3z3ZIEFbN"
      },
      "source": [
        "## 2. Shallow Neural Network (PyTorch 사용)"
      ]
    },
    {
      "cell_type": "code",
      "execution_count": null,
      "metadata": {
        "id": "2ee-k3tKIKhZ"
      },
      "outputs": [],
      "source": [
        "import torch.nn as nn\n",
        "import torch.nn.functional as F\n",
        "\n",
        "class shallow_neural_network(nn.Module):\n",
        "    def __init__(self, num_input_features, num_hiddens):\n",
        "        super().__init__()\n",
        "        self.num_input_features = num_input_features\n",
        "        self.num_hiddens = num_hiddens\n",
        "\n",
        "        # [PyTorch] 레이어 정의\n",
        "        self.linear1 = nn.Linear(num_input_features, num_hiddens)  # 입력 → 은닉층\n",
        "        self.linear2 = nn.Linear(num_hiddens, 1)                   # 은닉층 → 출력\n",
        "\n",
        "        # [PyTorch] 비선형 활성 함수 정의\n",
        "        self.tanh = nn.Tanh()\n",
        "        self.sigmoid = nn.Sigmoid()\n",
        "\n",
        "    def forward(self, x):\n",
        "        z1 = self.linear1(x)        # 선형 변환\n",
        "        a1 = self.tanh(z1)          # 비선형 활성화\n",
        "        z2 = self.linear2(a1)\n",
        "        a2 = self.sigmoid(z2)       # 출력 확률화\n",
        "        return a2"
      ]
    },
    {
      "cell_type": "markdown",
      "metadata": {
        "id": "QDAdjQpOclzu"
      },
      "source": [
        "## SGD"
      ]
    },
    {
      "cell_type": "code",
      "execution_count": null,
      "metadata": {
        "id": "_BzJOO2tclSE"
      },
      "outputs": [],
      "source": [
        "# 하이퍼파라미터 설정\n",
        "num_epochs = 100\n",
        "lr = 1.0\n",
        "num_hiddens = 3\n",
        "\n",
        "# 모델, 옵티마이저, 손실 함수 정의\n",
        "model = shallow_neural_network(2, num_hiddens)\n",
        "optimizer = optim.SGD(model.parameters(), lr=lr)\n",
        "loss_fn = nn.BCELoss()  # Binary Cross Entropy Loss"
      ]
    },
    {
      "cell_type": "code",
      "execution_count": null,
      "metadata": {
        "colab": {
          "base_uri": "https://localhost:8080/"
        },
        "id": "6JEyNMCBdg_z",
        "outputId": "bc02dc48-f7f1-4bb0-988c-82796521eb85"
      },
      "outputs": [
        {
          "name": "stdout",
          "output_type": "stream",
          "text": [
            "0 0.6490769769730396\n",
            "10 0.40723718070657744\n",
            "20 0.4217062960174198\n",
            "30 0.4116158128803936\n",
            "40 0.40428774995582534\n",
            "50 0.400452262459874\n",
            "60 0.39858843055778836\n",
            "70 0.3940070871035341\n",
            "80 0.3995615531542262\n",
            "90 0.4044992880507343\n"
          ]
        }
      ],
      "source": [
        "# 학습 루프\n",
        "for epoch in range(num_epochs):\n",
        "    cost = 0.0\n",
        "\n",
        "    for x, y in zip(X, Y):\n",
        "        x_torch = torch.from_numpy(x)               # 입력을 텐서로 변환\n",
        "        y_torch = torch.FloatTensor([y])            # 정답도 텐서로 변환\n",
        "\n",
        "        y_hat = model(x_torch)                      # 예측 수행\n",
        "\n",
        "        loss = loss_fn(y_hat, y_torch)              # 손실 계산\n",
        "        optimizer.zero_grad()\n",
        "        loss.backward()                             # 전체 배치에 대해 역전파\n",
        "        optimizer.step()                            # 파라미터 업데이트\n",
        "\n",
        "        cost += loss.item()                          # 비용 누적\n",
        "\n",
        "    cost = cost / len(X)                             # 평균 손실\n",
        "\n",
        "    if epoch % 10 == 0:\n",
        "        print(epoch, cost)                           # 출력"
      ]
    },
    {
      "cell_type": "code",
      "execution_count": null,
      "metadata": {
        "colab": {
          "base_uri": "https://localhost:8080/"
        },
        "id": "BysKT38ig776",
        "outputId": "b779b15a-a6d5-4d30-f980-4205b3cd8ff9"
      },
      "outputs": [
        {
          "name": "stdout",
          "output_type": "stream",
          "text": [
            "[0. 0.]\n",
            "0 0.00021113091497682035\n",
            "[1. 0.]\n",
            "1 0.9409389495849609\n",
            "[0. 1.]\n",
            "1 0.9977951049804688\n",
            "[1. 1.]\n",
            "0 0.07199577242136002\n"
          ]
        }
      ],
      "source": [
        "for x, y in zip(x_seeds, y_seeds):\n",
        "    print(x)  # 입력 벡터 출력\n",
        "\n",
        "    x_torch = torch.FloatTensor(x)       # 입력 벡터를 텐서로 변환\n",
        "    y_hat = model(x_torch)               # 모델 예측 수행\n",
        "\n",
        "    print(y, y_hat.item())               # 정답 y와 예측값 ŷ 출력\n"
      ]
    },
    {
      "cell_type": "markdown",
      "metadata": {
        "id": "yzKn4doieRL4"
      },
      "source": [
        "## GD"
      ]
    },
    {
      "cell_type": "code",
      "execution_count": null,
      "metadata": {
        "id": "Wq6ZUJ-EeTVY"
      },
      "outputs": [],
      "source": [
        "# 하이퍼파라미터 설정\n",
        "num_epochs = 100\n",
        "lr = 1.0\n",
        "num_hiddens = 3\n",
        "\n",
        "# 모델, 옵티마이저, 손실 함수 정의\n",
        "model = shallow_neural_network(2, num_hiddens)\n",
        "optimizer = optim.SGD(model.parameters(), lr=lr)\n",
        "loss = nn.BCELoss()  # Binary Cross Entropy Loss"
      ]
    },
    {
      "cell_type": "code",
      "execution_count": null,
      "metadata": {
        "colab": {
          "base_uri": "https://localhost:8080/"
        },
        "id": "Bf5PE8S4eewL",
        "outputId": "4b5317f1-6df0-43d9-a30b-d80fcb70a49f"
      },
      "outputs": [
        {
          "name": "stdout",
          "output_type": "stream",
          "text": [
            "0 tensor(0.7506, grad_fn=<DivBackward0>)\n",
            "10 tensor(0.6907, grad_fn=<DivBackward0>)\n",
            "20 tensor(0.6838, grad_fn=<DivBackward0>)\n",
            "30 tensor(0.6722, grad_fn=<DivBackward0>)\n",
            "40 tensor(0.6502, grad_fn=<DivBackward0>)\n",
            "50 tensor(0.6118, grad_fn=<DivBackward0>)\n",
            "60 tensor(0.5527, grad_fn=<DivBackward0>)\n",
            "70 tensor(0.4744, grad_fn=<DivBackward0>)\n",
            "80 tensor(0.3943, grad_fn=<DivBackward0>)\n",
            "90 tensor(0.3317, grad_fn=<DivBackward0>)\n"
          ]
        }
      ],
      "source": [
        "# 학습 루프\n",
        "for epoch in range(num_epochs):\n",
        "    optimizer.zero_grad()\n",
        "\n",
        "    cost = 0.0\n",
        "\n",
        "    for x, y in zip(X, Y):\n",
        "        x_torch = torch.from_numpy(x)               # 입력을 텐서로 변환\n",
        "        y_torch = torch.FloatTensor([y])            # 정답도 텐서로 변환\n",
        "\n",
        "        y_hat = model(x_torch)                      # 예측 수행\n",
        "\n",
        "        loss_val = loss(y_hat, y_torch)             # 손실 계산\n",
        "        cost += loss_val                            # 비용 누적\n",
        "\n",
        "    cost = cost / len(X)                             # 평균 손실\n",
        "    cost.backward()                                  # 전체 배치에 대해 역전파\n",
        "    optimizer.step()                                 # 파라미터 업데이트\n",
        "\n",
        "    if epoch % 10 == 0:\n",
        "        print(epoch, cost)                    # 출력 시 .item()으로 숫자화"
      ]
    },
    {
      "cell_type": "code",
      "execution_count": null,
      "metadata": {
        "colab": {
          "base_uri": "https://localhost:8080/"
        },
        "id": "JIX1W86ig8ut",
        "outputId": "43048aea-4fb2-42b1-f578-dee4f505e119"
      },
      "outputs": [
        {
          "name": "stdout",
          "output_type": "stream",
          "text": [
            "[0. 0.]\n",
            "0 0.05986512452363968\n",
            "[1. 0.]\n",
            "1 0.8095449805259705\n",
            "[0. 1.]\n",
            "1 0.8704604506492615\n",
            "[1. 1.]\n",
            "0 0.2041512280702591\n"
          ]
        }
      ],
      "source": [
        "for x, y in zip(x_seeds, y_seeds):\n",
        "    print(x)  # 입력 벡터 출력\n",
        "\n",
        "    x_torch = torch.FloatTensor(x)       # 입력 벡터를 텐서로 변환\n",
        "    y_hat = model(x_torch)               # 모델 예측 수행\n",
        "\n",
        "    print(y, y_hat.item())               # 정답 y와 예측값 ŷ 출력\n"
      ]
    }
  ],
  "metadata": {
    "colab": {
      "provenance": []
    },
    "kernelspec": {
      "display_name": "'Conda'",
      "language": "python",
      "name": "conda"
    },
    "language_info": {
      "name": "python"
    }
  },
  "nbformat": 4,
  "nbformat_minor": 0
}
