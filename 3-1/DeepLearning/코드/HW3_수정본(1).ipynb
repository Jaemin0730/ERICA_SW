{
  "cells": [
    {
      "cell_type": "markdown",
      "metadata": {
        "id": "7a_nRoD0D-WJ"
      },
      "source": [
        "## 1. XOR 데이터 생성 (NumPy 사용)"
      ]
    },
    {
      "cell_type": "code",
      "execution_count": 1,
      "metadata": {
        "id": "9DEdybAZ3JBJ"
      },
      "outputs": [
        {
          "ename": "ModuleNotFoundError",
          "evalue": "No module named 'torch'",
          "output_type": "error",
          "traceback": [
            "\u001b[1;31m---------------------------------------------------------------------------\u001b[0m",
            "\u001b[1;31mModuleNotFoundError\u001b[0m                       Traceback (most recent call last)",
            "\u001b[1;32m~\\AppData\\Local\\Temp\\ipykernel_22772\\1232170197.py\u001b[0m in \u001b[0;36m<module>\u001b[1;34m\u001b[0m\n\u001b[0;32m      1\u001b[0m \u001b[1;31m# [1] 라이브러리 import\u001b[0m\u001b[1;33m\u001b[0m\u001b[1;33m\u001b[0m\u001b[0m\n\u001b[0;32m      2\u001b[0m \u001b[1;32mimport\u001b[0m \u001b[0mnumpy\u001b[0m \u001b[1;32mas\u001b[0m \u001b[0mnp\u001b[0m\u001b[1;33m\u001b[0m\u001b[1;33m\u001b[0m\u001b[0m\n\u001b[1;32m----> 3\u001b[1;33m \u001b[1;32mimport\u001b[0m \u001b[0mtorch\u001b[0m\u001b[1;33m\u001b[0m\u001b[1;33m\u001b[0m\u001b[0m\n\u001b[0m\u001b[0;32m      4\u001b[0m \u001b[1;32mimport\u001b[0m \u001b[0mtorch\u001b[0m\u001b[1;33m.\u001b[0m\u001b[0moptim\u001b[0m \u001b[1;32mas\u001b[0m \u001b[0moptim\u001b[0m\u001b[1;33m\u001b[0m\u001b[1;33m\u001b[0m\u001b[0m\n\u001b[0;32m      5\u001b[0m \u001b[1;32mimport\u001b[0m \u001b[0mpandas\u001b[0m \u001b[1;32mas\u001b[0m \u001b[0mpd\u001b[0m\u001b[1;33m\u001b[0m\u001b[1;33m\u001b[0m\u001b[0m\n",
            "\u001b[1;31mModuleNotFoundError\u001b[0m: No module named 'torch'"
          ]
        }
      ],
      "source": [
        "# [1] 라이브러리 import\n",
        "import numpy as np\n",
        "import torch\n",
        "import torch.optim as optim\n",
        "import pandas as pd\n",
        "import matplotlib.pyplot as plt"
      ]
    },
    {
      "cell_type": "code",
      "execution_count": null,
      "metadata": {
        "id": "j6aYWDfhET-9"
      },
      "outputs": [],
      "source": [
        "# [2] XOR 데이터 정의\n",
        "x_seeds = np.array([[0, 0], [1, 0], [0, 1], [1, 1]], dtype=np.float32)\n",
        "y_seeds = np.array([0, 1, 1, 0])  # XOR 정답"
      ]
    },
    {
      "cell_type": "code",
      "execution_count": null,
      "metadata": {
        "id": "j6eTOM35EVnA"
      },
      "outputs": [],
      "source": [
        "# [3] 1000개의 샘플 랜덤 생성 (복원 추출)\n",
        "N = 1000\n",
        "idxs = np.random.randint(0, 4, N)  # 0~3 인덱스 중 하나 랜덤 선택"
      ]
    },
    {
      "cell_type": "code",
      "execution_count": null,
      "metadata": {
        "id": "hZo0OVzXEW8a"
      },
      "outputs": [],
      "source": [
        "# [4] 샘플 복제\n",
        "X = x_seeds[idxs]  # shape: (1000, 2)\n",
        "Y = y_seeds[idxs]  # shape: (1000,)"
      ]
    },
    {
      "cell_type": "code",
      "execution_count": null,
      "metadata": {
        "id": "ojL51-_yFgag"
      },
      "outputs": [],
      "source": [
        "# [5] 입력 데이터에 노이즈 추가\n",
        "X += np.random.normal(scale=0.25, size=X.shape)\n",
        "\n",
        "# 노이즈 사용 이유 : 모델이 더 일반화된 학습을 하게 되고, 단순히 \"외우는 것\"이 아니라 패턴을 이해하는 것에 더 가까워진다."
      ]
    },
    {
      "cell_type": "markdown",
      "metadata": {
        "id": "D5E3z3ZIEFbN"
      },
      "source": [
        "## 2. Shallow Neural Network (PyTorch 사용)"
      ]
    },
    {
      "cell_type": "code",
      "execution_count": null,
      "metadata": {
        "id": "2ee-k3tKIKhZ"
      },
      "outputs": [],
      "source": [
        "import torch.nn as nn\n",
        "import torch.nn.functional as F\n",
        "\n",
        "class shallow_neural_network(nn.Module):\n",
        "    def __init__(self, num_input_features, num_hiddens):\n",
        "        super().__init__()\n",
        "        self.num_input_features = num_input_features\n",
        "        self.num_hiddens = num_hiddens\n",
        "\n",
        "        # [PyTorch] 레이어 정의\n",
        "        self.linear1 = nn.Linear(num_input_features, num_hiddens)  # 입력 → 은닉층\n",
        "        self.linear2 = nn.Linear(num_hiddens, 1)                   # 은닉층 → 출력\n",
        "\n",
        "        # [PyTorch] 비선형 활성 함수 정의\n",
        "        self.tanh = nn.Tanh()\n",
        "        self.sigmoid = nn.Sigmoid()\n",
        "\n",
        "    def forward(self, x):\n",
        "        z1 = self.linear1(x)        # 선형 변환\n",
        "        a1 = self.tanh(z1)          # 비선형 활성화\n",
        "        z2 = self.linear2(a1)\n",
        "        a2 = self.sigmoid(z2)       # 출력 확률화\n",
        "        return a2"
      ]
    },
    {
      "cell_type": "markdown",
      "metadata": {
        "id": "QDAdjQpOclzu"
      },
      "source": [
        "## 3. SGD"
      ]
    },
    {
      "cell_type": "code",
      "execution_count": null,
      "metadata": {
        "id": "_BzJOO2tclSE"
      },
      "outputs": [],
      "source": [
        "# 하이퍼파라미터 설정\n",
        "num_epochs = 100\n",
        "lr = 1.0\n",
        "num_hiddens = 3\n",
        "\n",
        "# 모델, 옵티마이저, 손실 함수 정의\n",
        "model = shallow_neural_network(2, num_hiddens)\n",
        "optimizer = optim.SGD(model.parameters(), lr=lr)\n",
        "loss_fn = nn.BCELoss()  # Binary Cross Entropy Loss"
      ]
    },
    {
      "cell_type": "code",
      "execution_count": null,
      "metadata": {
        "id": "Zw4oVT3EqWAU"
      },
      "outputs": [],
      "source": [
        "# 손실 기록용 리스트\n",
        "sgd_losses = []"
      ]
    },
    {
      "cell_type": "code",
      "execution_count": null,
      "metadata": {
        "colab": {
          "base_uri": "https://localhost:8080/"
        },
        "id": "6JEyNMCBdg_z",
        "outputId": "d28711a4-e28c-4709-8d3e-ea8808a28aa4"
      },
      "outputs": [
        {
          "name": "stdout",
          "output_type": "stream",
          "text": [
            "0 0.673030415964502\n",
            "10 0.37162201567788816\n",
            "20 0.34045263969055123\n",
            "30 0.32472417362722333\n",
            "40 0.32990022767977417\n",
            "50 0.36456977501061555\n",
            "60 0.3527260500074067\n",
            "70 0.34062406417788177\n",
            "80 0.3221593842672337\n",
            "90 0.33882026748118643\n"
          ]
        }
      ],
      "source": [
        "# 학습 루프\n",
        "for epoch in range(num_epochs):\n",
        "    cost = 0.0\n",
        "\n",
        "    for x, y in zip(X, Y):\n",
        "        x_torch = torch.from_numpy(x)               # 입력을 텐서로 변환\n",
        "        y_torch = torch.FloatTensor([y])            # 정답도 텐서로 변환\n",
        "\n",
        "        y_hat = model(x_torch)                      # 예측 수행\n",
        "\n",
        "        loss = loss_fn(y_hat, y_torch)              # 손실 계산\n",
        "        optimizer.zero_grad()\n",
        "        loss.backward()                             # 전체 배치에 대해 역전파\n",
        "        optimizer.step()                            # 파라미터 업데이트\n",
        "\n",
        "        cost += loss.item()                          # 비용 누적\n",
        "\n",
        "    cost = cost / len(X)                             # 평균 손실\n",
        "\n",
        "    # 손실 기록용에 추가!\n",
        "    sgd_losses.append(cost)\n",
        "\n",
        "    if epoch % 10 == 0:\n",
        "        print(epoch, cost)                           # 출력"
      ]
    },
    {
      "cell_type": "code",
      "execution_count": null,
      "metadata": {
        "colab": {
          "base_uri": "https://localhost:8080/"
        },
        "id": "BysKT38ig776",
        "outputId": "62d2d982-e538-4c82-9de7-a55df8934f7c"
      },
      "outputs": [
        {
          "name": "stdout",
          "output_type": "stream",
          "text": [
            "[0. 0.]\n",
            "0 1.9216004147892818e-05\n",
            "[1. 0.]\n",
            "1 0.9571176767349243\n",
            "[0. 1.]\n",
            "1 0.942145586013794\n",
            "[1. 1.]\n",
            "0 0.006013449747115374\n"
          ]
        }
      ],
      "source": [
        "for x, y in zip(x_seeds, y_seeds):\n",
        "    print(x)  # 입력 벡터 출력\n",
        "\n",
        "    x_torch = torch.FloatTensor(x)       # 입력 벡터를 텐서로 변환\n",
        "    y_hat = model(x_torch)               # 모델 예측 수행\n",
        "\n",
        "    print(y, y_hat.item())               # 정답 y와 예측값 ŷ 출력\n"
      ]
    },
    {
      "cell_type": "markdown",
      "metadata": {
        "id": "yzKn4doieRL4"
      },
      "source": [
        "## 4. GD"
      ]
    },
    {
      "cell_type": "code",
      "execution_count": null,
      "metadata": {
        "id": "Wq6ZUJ-EeTVY"
      },
      "outputs": [],
      "source": [
        "# 하이퍼파라미터 설정\n",
        "num_epochs = 100\n",
        "lr = 1.0\n",
        "num_hiddens = 3\n",
        "\n",
        "# 모델, 옵티마이저, 손실 함수 정의\n",
        "model = shallow_neural_network(2, num_hiddens)\n",
        "optimizer = optim.SGD(model.parameters(), lr=lr)\n",
        "loss_fn = nn.BCELoss()  # Binary Cross Entropy Loss"
      ]
    },
    {
      "cell_type": "code",
      "execution_count": null,
      "metadata": {
        "id": "7aycibiqqgEY"
      },
      "outputs": [],
      "source": [
        "# 손실 기록용 리스트\n",
        "gd_losses = []"
      ]
    },
    {
      "cell_type": "code",
      "execution_count": null,
      "metadata": {
        "colab": {
          "base_uri": "https://localhost:8080/"
        },
        "id": "Bf5PE8S4eewL",
        "outputId": "693d18eb-a05e-4ef2-f5c7-a0e21fd3adf8"
      },
      "outputs": [
        {
          "name": "stdout",
          "output_type": "stream",
          "text": [
            "0 tensor(0.7099, grad_fn=<DivBackward0>)\n",
            "10 tensor(0.6943, grad_fn=<DivBackward0>)\n",
            "20 tensor(0.6883, grad_fn=<DivBackward0>)\n",
            "30 tensor(0.6787, grad_fn=<DivBackward0>)\n",
            "40 tensor(0.6604, grad_fn=<DivBackward0>)\n",
            "50 tensor(0.6248, grad_fn=<DivBackward0>)\n",
            "60 tensor(0.5618, grad_fn=<DivBackward0>)\n",
            "70 tensor(0.4805, grad_fn=<DivBackward0>)\n",
            "80 tensor(0.4093, grad_fn=<DivBackward0>)\n",
            "90 tensor(0.3590, grad_fn=<DivBackward0>)\n"
          ]
        }
      ],
      "source": [
        "# 학습 루프\n",
        "for epoch in range(num_epochs):\n",
        "    optimizer.zero_grad()\n",
        "\n",
        "    cost = 0.0\n",
        "\n",
        "    for x, y in zip(X, Y):\n",
        "        x_torch = torch.from_numpy(x)               # 입력을 텐서로 변환\n",
        "        y_torch = torch.FloatTensor([y])            # 정답도 텐서로 변환\n",
        "\n",
        "        y_hat = model(x_torch)                      # 예측 수행\n",
        "\n",
        "        loss_val = loss_fn(y_hat, y_torch)          # 손실 계산\n",
        "        cost += loss_val                            # 비용 누적\n",
        "\n",
        "    cost = cost / len(X)                             # 평균 손실\n",
        "    cost.backward()                                  # 전체 배치에 대해 역전파\n",
        "    optimizer.step()                                 # 파라미터 업데이트\n",
        "\n",
        "    # 손실기록용에 추가!\n",
        "    gd_losses.append(cost.item())\n",
        "\n",
        "    if epoch % 10 == 0:\n",
        "        print(epoch, cost)                    # 출력 시 .item()으로 숫자화"
      ]
    },
    {
      "cell_type": "code",
      "execution_count": null,
      "metadata": {
        "colab": {
          "base_uri": "https://localhost:8080/"
        },
        "id": "JIX1W86ig8ut",
        "outputId": "f657eba4-3b07-4215-f976-b690a811bdca"
      },
      "outputs": [
        {
          "name": "stdout",
          "output_type": "stream",
          "text": [
            "[0. 0.]\n",
            "0 0.11909998208284378\n",
            "[1. 0.]\n",
            "1 0.8359994292259216\n",
            "[0. 1.]\n",
            "1 0.8389939665794373\n",
            "[1. 1.]\n",
            "0 0.14729855954647064\n"
          ]
        }
      ],
      "source": [
        "for x, y in zip(x_seeds, y_seeds):\n",
        "    print(x)  # 입력 벡터 출력\n",
        "\n",
        "    x_torch = torch.FloatTensor(x)       # 입력 벡터를 텐서로 변환\n",
        "    y_hat = model(x_torch)               # 모델 예측 수행\n",
        "\n",
        "    print(y, y_hat.item())               # 정답 y와 예측값 ŷ 출력\n"
      ]
    },
    {
      "cell_type": "markdown",
      "metadata": {
        "id": "mwG7ldN8sHnb"
      },
      "source": [
        "## 5. SGD vs GD 비교 + 표 생성"
      ]
    },
    {
      "cell_type": "code",
      "execution_count": null,
      "metadata": {
        "colab": {
          "base_uri": "https://localhost:8080/"
        },
        "id": "i1MyZt7urM1v",
        "outputId": "d55a9112-493e-47c3-f08c-5781f5cb9880"
      },
      "outputs": [
        {
          "name": "stdout",
          "output_type": "stream",
          "text": [
            "   Epoch  SGD Loss   GD Loss\n",
            "0      1  0.673030  0.709850\n",
            "1      2  0.484008  0.703136\n",
            "2      3  0.399226  0.700450\n",
            "3      4  0.393402  0.699062\n",
            "4      5  0.406449  0.698121\n",
            "5      6  0.375619  0.697358\n",
            "6      7  0.421433  0.696682\n",
            "7      8  0.347469  0.696056\n",
            "8      9  0.354453  0.695461\n",
            "9     10  0.376910  0.694890\n"
          ]
        }
      ],
      "source": [
        "# 결과를 표로 만들기\n",
        "df = pd.DataFrame({\n",
        "    'Epoch': list(range(1, num_epochs + 1)),\n",
        "    'SGD Loss': sgd_losses,\n",
        "    'GD Loss': gd_losses\n",
        "})\n",
        "\n",
        "print(df.head(10))  # 앞부분만 미리 보기"
      ]
    },
    {
      "cell_type": "code",
      "execution_count": null,
      "metadata": {
        "colab": {
          "base_uri": "https://localhost:8080/",
          "height": 472
        },
        "id": "qAwzu2Z4rP5K",
        "outputId": "0e41b52e-1ff7-41a9-b0ed-b6a3e40e1347"
      },
      "outputs": [
        {
          "data": {
            "image/png": "[encoded data removed]",
            "text/plain": [
              "<Figure size 640x480 with 1 Axes>"
            ]
          },
          "metadata": {},
          "output_type": "display_data"
        }
      ],
      "source": [
        "# 시각화\n",
        "plt.plot(df['Epoch'], df['SGD Loss'], label='SGD')\n",
        "plt.plot(df['Epoch'], df['GD Loss'], label='GD')\n",
        "plt.xlabel('Epoch')\n",
        "plt.ylabel('Loss')\n",
        "plt.title('Loss Comparison: SGD vs GD')\n",
        "plt.legend()\n",
        "plt.grid(True)\n",
        "plt.show()\n"
      ]
    }
  ],
  "metadata": {
    "colab": {
      "provenance": []
    },
    "kernelspec": {
      "display_name": "base",
      "language": "python",
      "name": "python3"
    },
    "language_info": {
      "codemirror_mode": {
        "name": "ipython",
        "version": 3
      },
      "file_extension": ".py",
      "mimetype": "text/x-python",
      "name": "python",
      "nbconvert_exporter": "python",
      "pygments_lexer": "ipython3",
      "version": "3.9.13"
    }
  },
  "nbformat": 4,
  "nbformat_minor": 0
}
