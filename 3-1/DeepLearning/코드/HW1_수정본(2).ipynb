{
  "nbformat": 4,
  "nbformat_minor": 0,
  "metadata": {
    "colab": {
      "provenance": []
    },
    "kernelspec": {
      "name": "python3",
      "display_name": "Python 3"
    },
    "language_info": {
      "name": "python"
    }
  },
  "cells": [
    {
      "cell_type": "code",
      "execution_count": 196,
      "metadata": {
        "id": "y4waaC2uybUK"
      },
      "outputs": [],
      "source": [
        "import random\n",
        "import math\n",
        "import numpy as np"
      ]
    },
    {
      "cell_type": "code",
      "source": [
        "def sigmoid(z):\n",
        "    return 1 / (1 + np.exp(-z))"
      ],
      "metadata": {
        "id": "6ZiGbQD24B7m"
      },
      "execution_count": 197,
      "outputs": []
    },
    {
      "cell_type": "code",
      "source": [
        "class LogisticRegressionModel:\n",
        "    def __init__(self):\n",
        "        self.w = [random.random(), random.random()]\n",
        "        self.b = random.random()\n",
        "\n",
        "    def sigmoid(self, z):\n",
        "        return 1 / (1 + math.exp(-z))\n",
        "\n",
        "    def predict(self, x):\n",
        "        z = np.dot(self.w, x) + self.b\n",
        "        a = self.sigmoid(z)\n",
        "        return a"
      ],
      "metadata": {
        "id": "NdDYovpk4Ds5"
      },
      "execution_count": 198,
      "outputs": []
    },
    {
      "cell_type": "code",
      "source": [
        "model = LogisticRegressionModel()"
      ],
      "metadata": {
        "id": "3eUC7zIRbhcZ"
      },
      "execution_count": 199,
      "outputs": []
    },
    {
      "cell_type": "code",
      "source": [
        "def train1(X, Y, model, lr = 0.01):\n",
        "    dw0, dw1, db = 0.0, 0.0, 0.0\n",
        "    m = len(X)\n",
        "    cost = 0.0\n",
        "\n",
        "    for x, y in zip(X, Y):\n",
        "        a = model.predict(x)\n",
        "        cost += -y * math.log(a) - (1 - y) * math.log(1 - a)\n",
        "        dw0 += (a - y) * x[0]\n",
        "        dw1 += (a - y) * x[1]\n",
        "        db += (a - y)\n",
        "\n",
        "    cost /= m\n",
        "    model.w[0] -= lr * dw0 / m\n",
        "    model.w[1] -= lr * dw1 / m\n",
        "    model.b -= lr * db / m\n",
        "\n",
        "    return cost"
      ],
      "metadata": {
        "id": "bBVh3DP04E8e"
      },
      "execution_count": 200,
      "outputs": []
    },
    {
      "cell_type": "code",
      "source": [
        "def train2(X, Y, model, lr = 0.1):\n",
        "    dw0, dw1, db = 0.0, 0.0, 0.0\n",
        "    m = len(X)\n",
        "    cost = 0.0\n",
        "\n",
        "    for x, y in zip(X, Y):\n",
        "        a = model.predict(x)\n",
        "        cost += -y * math.log(a) - (1 - y) * math.log(1 - a)\n",
        "        dw0 += (a - y) * x[0]\n",
        "        dw1 += (a - y) * x[1]\n",
        "        db += (a - y)\n",
        "\n",
        "    cost /= m\n",
        "    model.w[0] -= lr * dw0 / m\n",
        "    model.w[1] -= lr * dw1 / m\n",
        "    model.b -= lr * db / m\n",
        "\n",
        "    return cost"
      ],
      "metadata": {
        "id": "_wDeIPa7c75p"
      },
      "execution_count": 201,
      "outputs": []
    },
    {
      "cell_type": "code",
      "source": [
        "def train3(X, Y, model, lr = 0.2):\n",
        "    dw0, dw1, db = 0.0, 0.0, 0.0\n",
        "    m = len(X)\n",
        "    cost = 0.0\n",
        "\n",
        "    for x, y in zip(X, Y):\n",
        "        a = model.predict(x)\n",
        "        cost += -y * math.log(a) - (1 - y) * math.log(1 - a)\n",
        "        dw0 += (a - y) * x[0]\n",
        "        dw1 += (a - y) * x[1]\n",
        "        db += (a - y)\n",
        "\n",
        "    cost /= m\n",
        "    model.w[0] -= lr * dw0 / m\n",
        "    model.w[1] -= lr * dw1 / m\n",
        "    model.b -= lr * db / m\n",
        "\n",
        "    return cost"
      ],
      "metadata": {
        "id": "rP1oB7nGc_sg"
      },
      "execution_count": 202,
      "outputs": []
    },
    {
      "cell_type": "code",
      "source": [
        "def test(model):\n",
        "    test_cases = [(0,0), (0,1), (1,0), (1,1)]\n",
        "    for case in test_cases:\n",
        "        print(f\"model.predict{case} = {model.predict(case)}\")"
      ],
      "metadata": {
        "id": "zOljNNyvgd8V"
      },
      "execution_count": 203,
      "outputs": []
    },
    {
      "cell_type": "code",
      "source": [
        "# AND gate\n",
        "print('Here is AND gate')\n",
        "X_and = np.array([[0, 0], [0, 1], [1, 0], [1, 1]])\n",
        "Y_and = np.array([0, 0, 0, 1])\n",
        "and_model = LogisticRegressionModel()\n",
        "\n",
        "\n",
        "\n",
        "print('Learning Rate : 0.01')\n",
        "for epoch in range(10000) :\n",
        "  cost = train1(X_and, Y_and, and_model, 0.1)\n",
        "  if epoch % 1000 == 0:\n",
        "    print(epoch, cost)\n",
        "test(and_model)\n",
        "\n",
        "print('Learning Rate : 0.1')\n",
        "for epoch in range(10000) :\n",
        "  cost = train2(X_and, Y_and, and_model, 0.2)\n",
        "  if epoch % 1000 == 0:\n",
        "    print(epoch, cost)\n",
        "test(and_model)\n",
        "\n",
        "\n",
        "print('Learning Rate : 0.2')\n",
        "for epoch in range(10000) :\n",
        "  cost = train3(X_and, Y_and, and_model, 0.5)\n",
        "  if epoch % 1000 == 0:\n",
        "    print(epoch, cost)\n",
        "test(and_model)"
      ],
      "metadata": {
        "colab": {
          "base_uri": "https://localhost:8080/"
        },
        "id": "6dLiODXK4KI8",
        "outputId": "8cf48331-ec8f-49b6-d1b8-0959b6b09f0c"
      },
      "execution_count": 204,
      "outputs": [
        {
          "output_type": "stream",
          "name": "stdout",
          "text": [
            "Here is AND gate\n",
            "Learning Rate : 0.01\n",
            "0 0.8637247103559816\n",
            "1000 0.1387060706119007\n",
            "2000 0.0800215784369673\n",
            "3000 0.05574663912004815\n",
            "4000 0.04259152882678523\n",
            "5000 0.03438333799677874\n",
            "6000 0.028790628405293353\n",
            "7000 0.0247428196641633\n",
            "8000 0.021681282104771757\n",
            "9000 0.01928674574221189\n",
            "model.predict(0, 0) = 1.2337043431903126e-05\n",
            "model.predict(0, 1) = 0.02017968373699484\n",
            "model.predict(1, 0) = 0.020179683164275868\n",
            "model.predict(1, 1) = 0.9717362971428612\n",
            "Learning Rate : 0.1\n",
            "0 0.01736382421536757\n",
            "1000 0.014469350065218128\n",
            "2000 0.012396388983308172\n",
            "3000 0.010839786239509984\n",
            "4000 0.009628561104442636\n",
            "5000 0.00865957028401795\n",
            "6000 0.007866946185815944\n",
            "7000 0.007206675157776843\n",
            "8000 0.0066482395459632315\n",
            "9000 0.0061698193475180916\n",
            "model.predict(0, 0) = 4.394671314225483e-07\n",
            "model.predict(0, 1) = 0.006744023547555652\n",
            "model.predict(1, 0) = 0.006744023546756861\n",
            "model.predict(1, 1) = 0.9905574245196482\n",
            "Learning Rate : 0.2\n",
            "0 0.005755403295340799\n",
            "1000 0.004927268750262476\n",
            "2000 0.004306956896063802\n",
            "3000 0.0038250552368548573\n",
            "4000 0.0034399414373533395\n",
            "5000 0.0031251488257521055\n",
            "6000 0.0028630474813923215\n",
            "7000 0.002641442207102769\n",
            "8000 0.0024516292142805303\n",
            "9000 0.002287230701110798\n",
            "model.predict(0, 0) = 2.2543712300630225e-08\n",
            "model.predict(0, 1) = 0.002517985641024659\n",
            "model.predict(1, 0) = 0.0025179856410225358\n",
            "model.predict(1, 1) = 0.9964747057609177\n"
          ]
        }
      ]
    },
    {
      "cell_type": "code",
      "source": [
        "# OR gate\n",
        "print('Here is OR gate')\n",
        "X_or = np.array([[0, 0], [0, 1], [1, 0], [1, 1]])\n",
        "Y_or = np.array([0, 1, 1, 1])\n",
        "or_model = LogisticRegressionModel()\n",
        "\n",
        "\n",
        "\n",
        "print('Learning Rate : 0.01')\n",
        "for epoch in range(10000) :\n",
        "  cost = train1(X_or, Y_or, or_model, 0.1)\n",
        "  if epoch % 1000 == 0:\n",
        "    print(epoch, cost)\n",
        "test(or_model)\n",
        "\n",
        "print('Learning Rate : 0.1')\n",
        "for epoch in range(10000) :\n",
        "  cost = train2(X_or, Y_or, or_model, 0.2)\n",
        "  if epoch % 1000 == 0:\n",
        "    print(epoch, cost)\n",
        "test(or_model)\n",
        "\n",
        "\n",
        "print('Learning Rate : 0.2')\n",
        "for epoch in range(10000) :\n",
        "  cost = train3(X_or, Y_or, or_model, 0.5)\n",
        "  if epoch % 1000 == 0:\n",
        "    print(epoch, cost)\n",
        "test(or_model)"
      ],
      "metadata": {
        "colab": {
          "base_uri": "https://localhost:8080/"
        },
        "id": "tNrYC2tEaARy",
        "outputId": "7b95b373-c6c4-4c47-d8fc-b1f1c810b561"
      },
      "execution_count": 205,
      "outputs": [
        {
          "output_type": "stream",
          "name": "stdout",
          "text": [
            "Here is OR gate\n",
            "Learning Rate : 0.01\n",
            "0 0.3879810154411354\n",
            "1000 0.08580767310401004\n",
            "2000 0.04591437068122672\n",
            "3000 0.030997020159327596\n",
            "4000 0.023303130524600292\n",
            "5000 0.018634874839102644\n",
            "6000 0.015509385101400085\n",
            "7000 0.013273811615880642\n",
            "8000 0.011597058891610753\n",
            "9000 0.010293705562100831\n",
            "model.predict(0, 0) = 0.020418347805609423\n",
            "model.predict(0, 1) = 0.9918452994277788\n",
            "model.predict(1, 0) = 0.9918447386953841\n",
            "model.predict(1, 1) = 0.9999985909136435\n",
            "Learning Rate : 0.1\n",
            "0 0.009251980609239683\n",
            "1000 0.007691785076114369\n",
            "2000 0.00657986799955254\n",
            "3000 0.00574770794369068\n",
            "4000 0.0051017316892214065\n",
            "5000 0.004585857349380498\n",
            "6000 0.004164444251676543\n",
            "7000 0.0038137655421137283\n",
            "8000 0.0035174181010945104\n",
            "9000 0.0032637014444023577\n",
            "model.predict(0, 0) = 0.006749155379290242\n",
            "model.predict(0, 1) = 0.9973016063246131\n",
            "model.predict(1, 0) = 0.9973015860911523\n",
            "model.predict(1, 1) = 0.9999999502547852\n",
            "Learning Rate : 0.2\n",
            "0 0.0030440464412324945\n",
            "1000 0.002605411377705351\n",
            "2000 0.0022770928276936446\n",
            "3000 0.0020221551962929553\n",
            "4000 0.0018184878122832337\n",
            "5000 0.0016520479771743738\n",
            "6000 0.0015134899410217887\n",
            "7000 0.0013963533063845687\n",
            "8000 0.0012960296512215493\n",
            "9000 0.0012091434816015848\n",
            "model.predict(0, 0) = 0.002516010773405241\n",
            "model.predict(0, 1) = 0.9989937672633384\n",
            "model.predict(1, 0) = 0.9989937662155838\n",
            "model.predict(1, 1) = 0.9999999974409526\n"
          ]
        }
      ]
    },
    {
      "cell_type": "code",
      "source": [
        "# XOR gate\n",
        "print('Here is XOR gate')\n",
        "X_xor = np.array([[0, 0], [0, 1], [1, 0], [1, 1]])\n",
        "Y_xor = np.array([0, 1, 1, 0])\n",
        "xor_model = LogisticRegressionModel()\n",
        "\n",
        "\n",
        "\n",
        "print('Learning Rate : 0.01')\n",
        "for epoch in range(10000) :\n",
        "  cost = train1(X_xor, Y_xor, xor_model, 0.1)\n",
        "  if epoch % 1000 == 0:\n",
        "    print(epoch, cost)\n",
        "test(xor_model)\n",
        "\n",
        "print('Learning Rate : 0.1')\n",
        "for epoch in range(10000) :\n",
        "  cost = train2(X_or, Y_or, or_model, 0.2)\n",
        "  if epoch % 1000 == 0:\n",
        "    print(epoch, cost)\n",
        "test(xor_model)\n",
        "\n",
        "\n",
        "print('Learning Rate : 0.2')\n",
        "for epoch in range(10000) :\n",
        "  cost = train3(X_xor, Y_xor, xor_model, 0.5)\n",
        "  if epoch % 1000 == 0:\n",
        "    print(epoch, cost)\n",
        "test(xor_model)"
      ],
      "metadata": {
        "colab": {
          "base_uri": "https://localhost:8080/"
        },
        "id": "Ozl9MBNkanzT",
        "outputId": "567778eb-fc87-4c5d-be1c-425f12539f9f"
      },
      "execution_count": 206,
      "outputs": [
        {
          "output_type": "stream",
          "name": "stdout",
          "text": [
            "Here is XOR gate\n",
            "Learning Rate : 0.01\n",
            "0 0.8443144266770949\n",
            "1000 0.6931525004365859\n",
            "2000 0.6931471826068063\n",
            "3000 0.6931471805607337\n",
            "4000 0.6931471805599455\n",
            "5000 0.6931471805599453\n",
            "6000 0.6931471805599452\n",
            "7000 0.6931471805599454\n",
            "8000 0.6931471805599453\n",
            "9000 0.6931471805599453\n",
            "model.predict(0, 0) = 0.5\n",
            "model.predict(0, 1) = 0.5\n",
            "model.predict(1, 0) = 0.5\n",
            "model.predict(1, 1) = 0.5\n",
            "Learning Rate : 0.1\n",
            "0 0.0011331658782040928\n",
            "1000 0.0011053810822647515\n",
            "2000 0.0010789250914319947\n",
            "3000 0.00105370485791053\n",
            "4000 0.0010296358197842803\n",
            "5000 0.0010066409554901582\n",
            "6000 0.0009846499619299038\n",
            "7000 0.0009635985377636164\n",
            "8000 0.0009434277565144252\n",
            "9000 0.0009240835166221737\n",
            "model.predict(0, 0) = 0.5\n",
            "model.predict(0, 1) = 0.5\n",
            "model.predict(1, 0) = 0.5\n",
            "model.predict(1, 1) = 0.5\n",
            "Learning Rate : 0.2\n",
            "0 0.6931471805599453\n",
            "1000 0.6931471805599453\n",
            "2000 0.6931471805599453\n",
            "3000 0.6931471805599453\n",
            "4000 0.6931471805599453\n",
            "5000 0.6931471805599453\n",
            "6000 0.6931471805599453\n",
            "7000 0.6931471805599453\n",
            "8000 0.6931471805599453\n",
            "9000 0.6931471805599453\n",
            "model.predict(0, 0) = 0.5\n",
            "model.predict(0, 1) = 0.5\n",
            "model.predict(1, 0) = 0.5\n",
            "model.predict(1, 1) = 0.5\n"
          ]
        }
      ]
    }
  ]
}