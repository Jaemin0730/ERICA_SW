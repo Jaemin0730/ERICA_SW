{
  "cells": [
    {
      "cell_type": "code",
      "execution_count": 1,
      "metadata": {
        "id": "y4waaC2uybUK"
      },
      "outputs": [],
      "source": [
        "import random\n",
        "import math"
      ]
    },
    {
      "cell_type": "code",
      "execution_count": 2,
      "metadata": {
        "id": "6ZiGbQD24B7m"
      },
      "outputs": [],
      "source": [
        "def sigmoid(z):\n",
        "    return 1 / (1 + math.exp(-z))"
      ]
    },
    {
      "cell_type": "code",
      "execution_count": 3,
      "metadata": {
        "id": "NdDYovpk4Ds5"
      },
      "outputs": [],
      "source": [
        "class LogisticRegressionModel:\n",
        "    def __init__(self):\n",
        "        self.w = [random.random(), random.random()]\n",
        "        self.b = random.random()\n",
        "\n",
        "    def sigmoid(z):\n",
        "        return 1 / (1 + math.exp(-z))\n",
        "\n",
        "    def predict(self, x):\n",
        "        z = self.w[0] * x[0] + self.w[1] * x[1] + self.b\n",
        "        a = sigmoid(z)\n",
        "        return a"
      ]
    },
    {
      "cell_type": "code",
      "execution_count": 4,
      "metadata": {
        "id": "3eUC7zIRbhcZ"
      },
      "outputs": [],
      "source": [
        "model = LogisticRegressionModel()"
      ]
    },
    {
      "cell_type": "code",
      "execution_count": 5,
      "metadata": {
        "id": "bBVh3DP04E8e"
      },
      "outputs": [],
      "source": [
        "def train1(X, Y, model, lr = 0.01):\n",
        "    dw0, dw1, db = 0.0, 0.0, 0.0\n",
        "    m = len(X)\n",
        "    cost = 0.0\n",
        "\n",
        "    for x, y in zip(X, Y):\n",
        "        a = model.predict(x)\n",
        "        cost += -y * math.log(a) - (1 - y) * math.log(1 - a)\n",
        "        dw0 += (a - y) * x[0]\n",
        "        dw1 += (a - y) * x[1]\n",
        "        db += (a - y)\n",
        "\n",
        "    cost /= m\n",
        "    model.w[0] -= lr * dw0 / m\n",
        "    model.w[1] -= lr * dw1 / m\n",
        "    model.b -= lr * db / m\n",
        "\n",
        "    return cost"
      ]
    },
    {
      "cell_type": "code",
      "execution_count": 6,
      "metadata": {
        "id": "_wDeIPa7c75p"
      },
      "outputs": [],
      "source": [
        "def train2(X, Y, model, lr = 0.1):\n",
        "    dw0, dw1, db = 0.0, 0.0, 0.0\n",
        "    m = len(X)\n",
        "    cost = 0.0\n",
        "\n",
        "    for x, y in zip(X, Y):\n",
        "        a = model.predict(x)\n",
        "        cost += -y * math.log(a) - (1 - y) * math.log(1 - a)\n",
        "        dw0 += (a - y) * x[0]\n",
        "        dw1 += (a - y) * x[1]\n",
        "        db += (a - y)\n",
        "\n",
        "    cost /= m\n",
        "    model.w[0] -= lr * dw0 / m\n",
        "    model.w[1] -= lr * dw1 / m\n",
        "    model.b -= lr * db / m\n",
        "\n",
        "    return cost"
      ]
    },
    {
      "cell_type": "code",
      "execution_count": 7,
      "metadata": {
        "id": "rP1oB7nGc_sg"
      },
      "outputs": [],
      "source": [
        "def train3(X, Y, model, lr = 0.2):\n",
        "    dw0, dw1, db = 0.0, 0.0, 0.0\n",
        "    m = len(X)\n",
        "    cost = 0.0\n",
        "\n",
        "    for x, y in zip(X, Y):\n",
        "        a = model.predict(x)\n",
        "        cost += -y * math.log(a) - (1 - y) * math.log(1 - a)\n",
        "        dw0 += (a - y) * x[0]\n",
        "        dw1 += (a - y) * x[1]\n",
        "        db += (a - y)\n",
        "\n",
        "    cost /= m\n",
        "    model.w[0] -= lr * dw0 / m\n",
        "    model.w[1] -= lr * dw1 / m\n",
        "    model.b -= lr * db / m\n",
        "\n",
        "    return cost"
      ]
    },
    {
      "cell_type": "code",
      "execution_count": 8,
      "metadata": {
        "id": "zOljNNyvgd8V"
      },
      "outputs": [],
      "source": [
        "def test(model):\n",
        "    test_cases = [(0,0), (1,0), (0,1), (1,1)]\n",
        "    for case in test_cases:\n",
        "        print(f\"model.predict{case} = {model.predict(case)}\")"
      ]
    },
    {
      "cell_type": "code",
      "execution_count": 9,
      "metadata": {
        "colab": {
          "base_uri": "https://localhost:8080/"
        },
        "id": "6dLiODXK4KI8",
        "outputId": "d5e9b49c-5f06-41b5-c45a-381f26a95ff7"
      },
      "outputs": [
        {
          "name": "stdout",
          "output_type": "stream",
          "text": [
            "Here is AND gate\n",
            "Learning Rate : 0.01\n",
            "0 0.7394221684755933\n",
            "1000 0.14009658211857123\n",
            "2000 0.08049839833745227\n",
            "3000 0.055982980306582136\n",
            "4000 0.04273132734194364\n",
            "5000 0.03447525493692023\n",
            "6000 0.028855480561202497\n",
            "7000 0.024790941377785765\n",
            "8000 0.021718364499542904\n",
            "9000 0.019316172864555472\n",
            "model.predict(0, 0) = 1.2388626674478702e-05\n",
            "model.predict(1, 0) = 0.02020711798886282\n",
            "model.predict(0, 1) = 0.020207121932543006\n",
            "model.predict(1, 1) = 0.971697845017643\n",
            "Learning Rate : 0.1\n",
            "0 0.017387730923335537\n",
            "1000 0.014486008858477966\n",
            "2000 0.012408647375255617\n",
            "3000 0.010849177307153502\n",
            "4000 0.009635981825507609\n",
            "5000 0.008665579780775529\n",
            "6000 0.007871910809413655\n",
            "7000 0.007210844829411195\n",
            "8000 0.006651790530400834\n",
            "9000 0.006172879484471604\n",
            "model.predict(0, 0) = 4.400799696291093e-07\n",
            "model.predict(1, 0) = 0.0067471328513821595\n",
            "model.predict(0, 1) = 0.006747132856856599\n",
            "model.predict(1, 1) = 0.9905530705292179\n",
            "Learning Rate : 0.2\n",
            "0 0.005758067536511639\n",
            "1000 0.0049292234685284955\n",
            "2000 0.004308451583702899\n",
            "3000 0.0038262348720310138\n",
            "4000 0.0034408959568903268\n",
            "5000 0.0031259369530283842\n",
            "6000 0.002863709172958459\n",
            "7000 0.0026420055881069653\n",
            "8000 0.002452114652173633\n",
            "9000 0.002287653305772066\n",
            "model.predict(0, 0) = 2.2555443216305813e-08\n",
            "model.predict(1, 0) = 0.0025184210692669887\n",
            "model.predict(0, 1) = 0.002518421069281795\n",
            "model.predict(1, 1) = 0.9964740961200872\n"
          ]
        }
      ],
      "source": [
        "# AND gate\n",
        "print('Here is AND gate')\n",
        "X_and = [(0,0), (1,0), (0,1), (1,1)]\n",
        "Y_and = [0, 0, 0, 1]\n",
        "and_model = LogisticRegressionModel()\n",
        "\n",
        "\n",
        "\n",
        "print('Learning Rate : 0.01')\n",
        "for epoch in range(10000) :\n",
        "  cost = train1(X_and, Y_and, and_model, 0.1)\n",
        "  if epoch % 1000 == 0:\n",
        "    print(epoch, cost)\n",
        "test(and_model)\n",
        "\n",
        "print('Learning Rate : 0.1')\n",
        "for epoch in range(10000) :\n",
        "  cost = train2(X_and, Y_and, and_model, 0.2)\n",
        "  if epoch % 1000 == 0:\n",
        "    print(epoch, cost)\n",
        "test(and_model)\n",
        "\n",
        "\n",
        "print('Learning Rate : 0.2')\n",
        "for epoch in range(10000) :\n",
        "  cost = train3(X_and, Y_and, and_model, 0.5)\n",
        "  if epoch % 1000 == 0:\n",
        "    print(epoch, cost)\n",
        "test(and_model)"
      ]
    },
    {
      "cell_type": "code",
      "execution_count": 10,
      "metadata": {
        "colab": {
          "base_uri": "https://localhost:8080/"
        },
        "id": "tNrYC2tEaARy",
        "outputId": "64a38c3c-b05c-48ba-e7fd-5aa3de0e1fad"
      },
      "outputs": [
        {
          "name": "stdout",
          "output_type": "stream",
          "text": [
            "Here is OR gate\n",
            "Learning Rate : 0.01\n",
            "0 0.45479965962604796\n",
            "1000 0.08794789734469916\n",
            "2000 0.04655153189010667\n",
            "3000 0.03129249617482329\n",
            "4000 0.023471702131054047\n",
            "5000 0.018743300669717355\n",
            "6000 0.015584786292648185\n",
            "7000 0.013329199100887224\n",
            "8000 0.011639427483532905\n",
            "9000 0.010327141660021995\n",
            "model.predict(0, 0) = 0.02047762623103546\n",
            "model.predict(1, 0) = 0.9918237093085782\n",
            "model.predict(0, 1) = 0.9918190577463056\n",
            "model.predict(1, 1) = 0.9999985784656779\n",
            "Learning Rate : 0.1\n",
            "0 0.009279027760884599\n",
            "1000 0.0077105166298289405\n",
            "2000 0.006593594938858864\n",
            "3000 0.0057581935481857425\n",
            "4000 0.005109999691019135\n",
            "5000 0.004592542253807218\n",
            "6000 0.004169959998509316\n",
            "7000 0.0038183935575419495\n",
            "8000 0.00352135633071166\n",
            "9000 0.003267093135356834\n",
            "model.predict(0, 0) = 0.006755684112359843\n",
            "model.predict(1, 0) = 0.9972990706322662\n",
            "model.predict(0, 1) = 0.9972989037558276\n",
            "model.predict(1, 1) = 0.9999999501097414\n",
            "Learning Rate : 0.2\n",
            "0 0.0030469977951142657\n",
            "1000 0.0026075746669376723\n",
            "2000 0.0022787459524174114\n",
            "3000 0.002023459307528551\n",
            "4000 0.0018195427323541896\n",
            "5000 0.0016529188134798093\n",
            "6000 0.0015142209576791562\n",
            "7000 0.0013969756409478581\n",
            "8000 0.001296565841478495\n",
            "9000 0.0012096102409403899\n",
            "model.predict(0, 0) = 0.002516920303150121\n",
            "model.predict(1, 0) = 0.9989934073649339\n",
            "model.predict(0, 1) = 0.9989933987392122\n",
            "model.predict(1, 1) = 0.9999999974381724\n"
          ]
        }
      ],
      "source": [
        "# OR gate\n",
        "print('Here is OR gate')\n",
        "X_or = [(0,0), (1,0), (0,1), (1,1)]\n",
        "Y_or = [0, 1, 1, 1]\n",
        "or_model = LogisticRegressionModel()\n",
        "\n",
        "\n",
        "\n",
        "print('Learning Rate : 0.01')\n",
        "for epoch in range(10000) :\n",
        "  cost = train1(X_or, Y_or, or_model, 0.1)\n",
        "  if epoch % 1000 == 0:\n",
        "    print(epoch, cost)\n",
        "test(or_model)\n",
        "\n",
        "print('Learning Rate : 0.1')\n",
        "for epoch in range(10000) :\n",
        "  cost = train2(X_or, Y_or, or_model, 0.2)\n",
        "  if epoch % 1000 == 0:\n",
        "    print(epoch, cost)\n",
        "test(or_model)\n",
        "\n",
        "\n",
        "print('Learning Rate : 0.2')\n",
        "for epoch in range(10000) :\n",
        "  cost = train3(X_or, Y_or, or_model, 0.5)\n",
        "  if epoch % 1000 == 0:\n",
        "    print(epoch, cost)\n",
        "test(or_model)"
      ]
    },
    {
      "cell_type": "code",
      "execution_count": 11,
      "metadata": {
        "colab": {
          "base_uri": "https://localhost:8080/"
        },
        "id": "Ozl9MBNkanzT",
        "outputId": "6f61bac2-7c36-4020-d2c9-6a75e36ad10c"
      },
      "outputs": [
        {
          "name": "stdout",
          "output_type": "stream",
          "text": [
            "Here is XOR gate\n",
            "Learning Rate : 0.01\n",
            "0 0.8965356057796521\n",
            "1000 0.6931473949629449\n",
            "2000 0.693147180639875\n",
            "3000 0.6931471805599762\n",
            "4000 0.6931471805599453\n",
            "5000 0.6931471805599453\n",
            "6000 0.6931471805599453\n",
            "7000 0.6931471805599454\n",
            "8000 0.6931471805599453\n",
            "9000 0.6931471805599453\n",
            "model.predict(0, 0) = 0.5\n",
            "model.predict(1, 0) = 0.5\n",
            "model.predict(0, 1) = 0.5\n",
            "model.predict(1, 1) = 0.5\n",
            "Learning Rate : 0.1\n",
            "0 0.0011335758618676141\n",
            "1000 0.0011057712211845518\n",
            "2000 0.001079296791557284\n",
            "3000 0.0010540593955017615\n",
            "4000 0.001029974356024596\n",
            "5000 0.0010069645491654524\n",
            "6000 0.0009849595804683892\n",
            "7000 0.0009638950668788058\n",
            "8000 0.000943712008651145\n",
            "9000 0.000924356238377233\n",
            "model.predict(0, 0) = 0.5\n",
            "model.predict(1, 0) = 0.5\n",
            "model.predict(0, 1) = 0.5\n",
            "model.predict(1, 1) = 0.5\n",
            "Learning Rate : 0.2\n",
            "0 0.6931471805599453\n",
            "1000 0.6931471805599453\n",
            "2000 0.6931471805599453\n",
            "3000 0.6931471805599453\n",
            "4000 0.6931471805599453\n",
            "5000 0.6931471805599453\n",
            "6000 0.6931471805599453\n",
            "7000 0.6931471805599453\n",
            "8000 0.6931471805599453\n",
            "9000 0.6931471805599453\n",
            "model.predict(0, 0) = 0.5\n",
            "model.predict(1, 0) = 0.5\n",
            "model.predict(0, 1) = 0.5\n",
            "model.predict(1, 1) = 0.5\n"
          ]
        }
      ],
      "source": [
        "# XOR gate\n",
        "print('Here is XOR gate')\n",
        "X_xor = [(0,0), (1,0), (0,1), (1,1)]\n",
        "Y_xor = [0, 1, 1, 0]\n",
        "xor_model = LogisticRegressionModel()\n",
        "\n",
        "\n",
        "\n",
        "print('Learning Rate : 0.01')\n",
        "for epoch in range(10000) :\n",
        "  cost = train1(X_xor, Y_xor, xor_model, 0.1)\n",
        "  if epoch % 1000 == 0:\n",
        "    print(epoch, cost)\n",
        "test(xor_model)\n",
        "\n",
        "print('Learning Rate : 0.1')\n",
        "for epoch in range(10000) :\n",
        "  cost = train2(X_or, Y_or, or_model, 0.2)\n",
        "  if epoch % 1000 == 0:\n",
        "    print(epoch, cost)\n",
        "test(xor_model)\n",
        "\n",
        "\n",
        "print('Learning Rate : 0.2')\n",
        "for epoch in range(10000) :\n",
        "  cost = train3(X_xor, Y_xor, xor_model, 0.5)\n",
        "  if epoch % 1000 == 0:\n",
        "    print(epoch, cost)\n",
        "test(xor_model)"
      ]
    }
  ],
  "metadata": {
    "colab": {
      "provenance": []
    },
    "kernelspec": {
      "display_name": "base",
      "language": "python",
      "name": "python3"
    },
    "language_info": {
      "codemirror_mode": {
        "name": "ipython",
        "version": 3
      },
      "file_extension": ".py",
      "mimetype": "text/x-python",
      "name": "python",
      "nbconvert_exporter": "python",
      "pygments_lexer": "ipython3",
      "version": "3.9.13"
    }
  },
  "nbformat": 4,
  "nbformat_minor": 0
}
