{
  "nbformat": 4,
  "nbformat_minor": 0,
  "metadata": {
    "colab": {
      "provenance": []
    },
    "kernelspec": {
      "name": "python3",
      "display_name": "Python 3"
    },
    "language_info": {
      "name": "python"
    }
  },
  "cells": [
    {
      "cell_type": "code",
      "execution_count": 170,
      "metadata": {
        "id": "y4waaC2uybUK"
      },
      "outputs": [],
      "source": [
        "import random\n",
        "import math\n",
        "import numpy as np"
      ]
    },
    {
      "cell_type": "code",
      "source": [
        "def sigmoid(z):\n",
        "    return 1 / (1 + math.exp(-z))"
      ],
      "metadata": {
        "id": "6ZiGbQD24B7m"
      },
      "execution_count": 171,
      "outputs": []
    },
    {
      "cell_type": "code",
      "source": [
        "class LogisticRegressionModel:\n",
        "    def __init__(self):\n",
        "        self.w = [random.random(), random.random()]\n",
        "        self.b = random.random()\n",
        "\n",
        "    def sigmoid(z):\n",
        "        return 1 / (1 + math.exp(-z))\n",
        "\n",
        "    def predict(self, x):\n",
        "        z = np.dot(self.w, x)\n",
        "        a = sigmoid(z)\n",
        "        return a"
      ],
      "metadata": {
        "id": "NdDYovpk4Ds5"
      },
      "execution_count": 172,
      "outputs": []
    },
    {
      "cell_type": "code",
      "source": [
        "model = LogisticRegressionModel()"
      ],
      "metadata": {
        "id": "3eUC7zIRbhcZ"
      },
      "execution_count": 173,
      "outputs": []
    },
    {
      "cell_type": "code",
      "source": [
        "def train1(X, Y, model, lr = 0.01):\n",
        "    dw0, dw1, db = 0.0, 0.0, 0.0\n",
        "    m = len(X)\n",
        "    cost = 0.0\n",
        "\n",
        "    for x, y in zip(X, Y):\n",
        "        a = model.predict(x)\n",
        "        cost += -y * math.log(a) - (1 - y) * math.log(1 - a)\n",
        "        dw0 += (a - y) * x[0]\n",
        "        dw1 += (a - y) * x[1]\n",
        "        db += (a - y)\n",
        "\n",
        "    cost /= m\n",
        "    model.w[0] -= lr * dw0 / m\n",
        "    model.w[1] -= lr * dw1 / m\n",
        "    model.b -= lr * db / m\n",
        "\n",
        "    return cost"
      ],
      "metadata": {
        "id": "bBVh3DP04E8e"
      },
      "execution_count": 174,
      "outputs": []
    },
    {
      "cell_type": "code",
      "source": [
        "def train2(X, Y, model, lr = 0.1):\n",
        "    dw0, dw1, db = 0.0, 0.0, 0.0\n",
        "    m = len(X)\n",
        "    cost = 0.0\n",
        "\n",
        "    for x, y in zip(X, Y):\n",
        "        a = model.predict(x)\n",
        "        cost += -y * math.log(a) - (1 - y) * math.log(1 - a)\n",
        "        dw0 += (a - y) * x[0]\n",
        "        dw1 += (a - y) * x[1]\n",
        "        db += (a - y)\n",
        "\n",
        "    cost /= m\n",
        "    model.w[0] -= lr * dw0 / m\n",
        "    model.w[1] -= lr * dw1 / m\n",
        "    model.b -= lr * db / m\n",
        "\n",
        "    return cost"
      ],
      "metadata": {
        "id": "_wDeIPa7c75p"
      },
      "execution_count": 175,
      "outputs": []
    },
    {
      "cell_type": "code",
      "source": [
        "def train3(X, Y, model, lr = 0.2):\n",
        "    dw0, dw1, db = 0.0, 0.0, 0.0\n",
        "    m = len(X)\n",
        "    cost = 0.0\n",
        "\n",
        "    for x, y in zip(X, Y):\n",
        "        a = model.predict(x)\n",
        "        cost += -y * math.log(a) - (1 - y) * math.log(1 - a)\n",
        "        dw0 += (a - y) * x[0]\n",
        "        dw1 += (a - y) * x[1]\n",
        "        db += (a - y)\n",
        "\n",
        "    cost /= m\n",
        "    model.w[0] -= lr * dw0 / m\n",
        "    model.w[1] -= lr * dw1 / m\n",
        "    model.b -= lr * db / m\n",
        "\n",
        "    return cost"
      ],
      "metadata": {
        "id": "rP1oB7nGc_sg"
      },
      "execution_count": 176,
      "outputs": []
    },
    {
      "cell_type": "code",
      "source": [
        "def test(model):\n",
        "    test_cases = [(0,0), (0,1), (1,0), (1,1)]\n",
        "    for case in test_cases:\n",
        "        print(f\"model.predict{case} = {model.predict(case)}\")"
      ],
      "metadata": {
        "id": "zOljNNyvgd8V"
      },
      "execution_count": 177,
      "outputs": []
    },
    {
      "cell_type": "code",
      "source": [
        "# AND gate\n",
        "print('Here is AND gate')\n",
        "X_and = np.array([[0, 0], [0, 1], [1, 0], [1, 1]])\n",
        "Y_and = np.array([0, 0, 0, 1])\n",
        "and_model = LogisticRegressionModel()\n",
        "\n",
        "\n",
        "\n",
        "print('Learning Rate : 0.01')\n",
        "for epoch in range(10000) :\n",
        "  cost = train1(X_and, Y_and, and_model, 0.1)\n",
        "  if epoch % 1000 == 0:\n",
        "    print(epoch, cost)\n",
        "test(and_model)\n",
        "\n",
        "print('Learning Rate : 0.1')\n",
        "for epoch in range(10000) :\n",
        "  cost = train2(X_and, Y_and, and_model, 0.2)\n",
        "  if epoch % 1000 == 0:\n",
        "    print(epoch, cost)\n",
        "test(and_model)\n",
        "\n",
        "\n",
        "print('Learning Rate : 0.2')\n",
        "for epoch in range(10000) :\n",
        "  cost = train3(X_and, Y_and, and_model, 0.5)\n",
        "  if epoch % 1000 == 0:\n",
        "    print(epoch, cost)\n",
        "test(and_model)"
      ],
      "metadata": {
        "colab": {
          "base_uri": "https://localhost:8080/"
        },
        "id": "6dLiODXK4KI8",
        "outputId": "487ace1d-7739-4ce0-d18e-bded682ba0cf"
      },
      "execution_count": 178,
      "outputs": [
        {
          "output_type": "stream",
          "name": "stdout",
          "text": [
            "Here is AND gate\n",
            "Learning Rate : 0.01\n",
            "0 0.7241062150464426\n",
            "1000 0.6931471840265623\n",
            "2000 0.6931471805599578\n",
            "3000 0.6931471805599453\n",
            "4000 0.6931471805599453\n",
            "5000 0.6931471805599453\n",
            "6000 0.6931471805599453\n",
            "7000 0.6931471805599453\n",
            "8000 0.6931471805599453\n",
            "9000 0.6931471805599453\n",
            "model.predict(0, 0) = 0.5\n",
            "model.predict(0, 1) = 0.5\n",
            "model.predict(1, 0) = 0.5\n",
            "model.predict(1, 1) = 0.5\n",
            "Learning Rate : 0.1\n",
            "0 0.6931471805599453\n",
            "1000 0.6931471805599453\n",
            "2000 0.6931471805599453\n",
            "3000 0.6931471805599453\n",
            "4000 0.6931471805599453\n",
            "5000 0.6931471805599453\n",
            "6000 0.6931471805599453\n",
            "7000 0.6931471805599453\n",
            "8000 0.6931471805599453\n",
            "9000 0.6931471805599453\n",
            "model.predict(0, 0) = 0.5\n",
            "model.predict(0, 1) = 0.5\n",
            "model.predict(1, 0) = 0.5\n",
            "model.predict(1, 1) = 0.5\n",
            "Learning Rate : 0.2\n",
            "0 0.6931471805599453\n",
            "1000 0.6931471805599453\n",
            "2000 0.6931471805599453\n",
            "3000 0.6931471805599453\n",
            "4000 0.6931471805599453\n",
            "5000 0.6931471805599453\n",
            "6000 0.6931471805599453\n",
            "7000 0.6931471805599453\n",
            "8000 0.6931471805599453\n",
            "9000 0.6931471805599453\n",
            "model.predict(0, 0) = 0.5\n",
            "model.predict(0, 1) = 0.5\n",
            "model.predict(1, 0) = 0.5\n",
            "model.predict(1, 1) = 0.5\n"
          ]
        }
      ]
    },
    {
      "cell_type": "code",
      "source": [
        "# OR gate\n",
        "print('Here is OR gate')\n",
        "X_or = np.array([[0, 0], [0, 1], [1, 0], [1, 1]])\n",
        "Y_or = np.array([0, 1, 1, 1])\n",
        "or_model = LogisticRegressionModel()\n",
        "\n",
        "\n",
        "\n",
        "print('Learning Rate : 0.01')\n",
        "for epoch in range(10000) :\n",
        "  cost = train1(X_or, Y_or, or_model, 0.1)\n",
        "  if epoch % 1000 == 0:\n",
        "    print(epoch, cost)\n",
        "test(or_model)\n",
        "\n",
        "print('Learning Rate : 0.1')\n",
        "for epoch in range(10000) :\n",
        "  cost = train2(X_or, Y_or, or_model, 0.2)\n",
        "  if epoch % 1000 == 0:\n",
        "    print(epoch, cost)\n",
        "test(or_model)\n",
        "\n",
        "\n",
        "print('Learning Rate : 0.2')\n",
        "for epoch in range(10000) :\n",
        "  cost = train3(X_or, Y_or, or_model, 0.5)\n",
        "  if epoch % 1000 == 0:\n",
        "    print(epoch, cost)\n",
        "test(or_model)"
      ],
      "metadata": {
        "colab": {
          "base_uri": "https://localhost:8080/"
        },
        "id": "tNrYC2tEaARy",
        "outputId": "1a59b59a-c6d8-4fb8-c439-c4bd7ecc3d34"
      },
      "execution_count": 179,
      "outputs": [
        {
          "output_type": "stream",
          "name": "stdout",
          "text": [
            "Here is OR gate\n",
            "Learning Rate : 0.01\n",
            "0 0.5342677001196566\n",
            "1000 0.191972096426703\n",
            "2000 0.1829409804432151\n",
            "3000 0.17979683114186507\n",
            "4000 0.17819778718953708\n",
            "5000 0.1772294575646274\n",
            "6000 0.17658012727369368\n",
            "7000 0.17611444758332903\n",
            "8000 0.17576415502455425\n",
            "9000 0.17549108921802797\n",
            "model.predict(0, 0) = 0.5\n",
            "model.predict(0, 1) = 0.9960401933395039\n",
            "model.predict(1, 0) = 0.9960494539473355\n",
            "model.predict(1, 1) = 0.99998423236721\n",
            "Learning Rate : 0.1\n",
            "0 0.17527224646072462\n",
            "1000 0.17494331635535254\n",
            "2000 0.17470788811770072\n",
            "3000 0.1745310538683919\n",
            "4000 0.17439335948765286\n",
            "5000 0.17428310492539126\n",
            "6000 0.17419283094346713\n",
            "7000 0.17411755732947162\n",
            "8000 0.17405383203180286\n",
            "9000 0.1739991867766237\n",
            "model.predict(0, 0) = 0.5\n",
            "model.predict(0, 1) = 0.9986712129100794\n",
            "model.predict(1, 0) = 0.9986722627798276\n",
            "model.predict(1, 1) = 0.9999982310268447\n",
            "Learning Rate : 0.2\n",
            "0 0.17395180992230738\n",
            "1000 0.1738570032260779\n",
            "2000 0.17378585620645873\n",
            "3000 0.17373049460070542\n",
            "4000 0.17368618946420206\n",
            "5000 0.17364992928017567\n",
            "6000 0.17361970519460015\n",
            "7000 0.17359412579126227\n",
            "8000 0.17357219679922897\n",
            "9000 0.17355318883532572\n",
            "model.predict(0, 0) = 0.5\n",
            "model.predict(0, 1) = 0.9995006560307526\n",
            "model.predict(1, 0) = 0.9995008046026133\n",
            "model.predict(1, 1) = 0.9999997504807584\n"
          ]
        }
      ]
    },
    {
      "cell_type": "code",
      "source": [
        "# XOR gate\n",
        "print('Here is XOR gate')\n",
        "X_xor = np.array([[0, 0], [0, 1], [1, 0], [1, 1]])\n",
        "Y_xor = np.array([0, 1, 1, 0])\n",
        "xor_model = LogisticRegressionModel()\n",
        "\n",
        "\n",
        "\n",
        "print('Learning Rate : 0.01')\n",
        "for epoch in range(10000) :\n",
        "  cost = train1(X_xor, Y_xor, xor_model, 0.1)\n",
        "  if epoch % 1000 == 0:\n",
        "    print(epoch, cost)\n",
        "test(xor_model)\n",
        "\n",
        "print('Learning Rate : 0.1')\n",
        "for epoch in range(10000) :\n",
        "  cost = train2(X_or, Y_or, or_model, 0.2)\n",
        "  if epoch % 1000 == 0:\n",
        "    print(epoch, cost)\n",
        "test(xor_model)\n",
        "\n",
        "\n",
        "print('Learning Rate : 0.2')\n",
        "for epoch in range(10000) :\n",
        "  cost = train3(X_xor, Y_xor, xor_model, 0.5)\n",
        "  if epoch % 1000 == 0:\n",
        "    print(epoch, cost)\n",
        "test(xor_model)"
      ],
      "metadata": {
        "colab": {
          "base_uri": "https://localhost:8080/"
        },
        "id": "Ozl9MBNkanzT",
        "outputId": "6f76992d-88c7-40ee-b00a-61b9388e2856"
      },
      "execution_count": 180,
      "outputs": [
        {
          "output_type": "stream",
          "name": "stdout",
          "text": [
            "Here is XOR gate\n",
            "Learning Rate : 0.01\n",
            "0 0.7169292932629715\n",
            "1000 0.693147188554828\n",
            "2000 0.6931471805599739\n",
            "3000 0.6931471805599453\n",
            "4000 0.6931471805599453\n",
            "5000 0.6931471805599453\n",
            "6000 0.6931471805599453\n",
            "7000 0.6931471805599453\n",
            "8000 0.6931471805599453\n",
            "9000 0.6931471805599453\n",
            "model.predict(0, 0) = 0.5\n",
            "model.predict(0, 1) = 0.5\n",
            "model.predict(1, 0) = 0.5\n",
            "model.predict(1, 1) = 0.5\n",
            "Learning Rate : 0.1\n",
            "0 0.17353655469976853\n",
            "1000 0.17353046864388796\n",
            "2000 0.1735246721399935\n",
            "3000 0.17351914500441765\n",
            "4000 0.17351386888681236\n",
            "5000 0.17350882706661502\n",
            "6000 0.173504004276042\n",
            "7000 0.17349938654566027\n",
            "8000 0.1734949610692476\n",
            "9000 0.17349071608518837\n",
            "model.predict(0, 0) = 0.5\n",
            "model.predict(0, 1) = 0.5\n",
            "model.predict(1, 0) = 0.5\n",
            "model.predict(1, 1) = 0.5\n",
            "Learning Rate : 0.2\n",
            "0 0.6931471805599453\n",
            "1000 0.6931471805599453\n",
            "2000 0.6931471805599453\n",
            "3000 0.6931471805599453\n",
            "4000 0.6931471805599453\n",
            "5000 0.6931471805599453\n",
            "6000 0.6931471805599453\n",
            "7000 0.6931471805599453\n",
            "8000 0.6931471805599453\n",
            "9000 0.6931471805599453\n",
            "model.predict(0, 0) = 0.5\n",
            "model.predict(0, 1) = 0.5\n",
            "model.predict(1, 0) = 0.5\n",
            "model.predict(1, 1) = 0.5\n"
          ]
        }
      ]
    }
  ]
}