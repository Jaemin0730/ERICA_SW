{
  "nbformat": 4,
  "nbformat_minor": 0,
  "metadata": {
    "colab": {
      "provenance": []
    },
    "kernelspec": {
      "name": "python3",
      "display_name": "Python 3"
    },
    "language_info": {
      "name": "python"
    }
  },
  "cells": [
    {
      "cell_type": "code",
      "source": [
        "import torch\n",
        "import torch.nn as nn\n",
        "import torch.optim as optim\n",
        "import torchvision\n",
        "import torchvision.transforms as transforms\n",
        "import torchvision.datasets as datasets\n",
        "import matplotlib.pyplot as plt\n",
        "import numpy as np"
      ],
      "metadata": {
        "id": "wwWJOtlHOU3U"
      },
      "execution_count": null,
      "outputs": []
    },
    {
      "cell_type": "code",
      "execution_count": null,
      "metadata": {
        "id": "QIypD319LV2O"
      },
      "outputs": [],
      "source": [
        "batch_size = 12\n",
        "\n",
        "train_dataset = datasets.MNIST(root='./data', train=True, transform=transforms.ToTensor(), download=True)\n",
        "test_dataset = datasets.MNIST(root='./data', train=False, transform=transforms.ToTensor(), download=True)\n",
        "\n",
        "train_loader = torch.utils.data.DataLoader(train_dataset, batch_size=batch_size, shuffle=True)\n",
        "test_loader = torch.utils.data.DataLoader(test_dataset, batch_size=batch_size)"
      ]
    },
    {
      "cell_type": "code",
      "source": [
        "class MLP(nn.Module):\n",
        "    def __init__(self):\n",
        "        super().__init__()\n",
        "        self.in_dim = 28 * 28  # MNIST 이미지 크기\n",
        "        self.out_dim = 10      # 클래스 수\n",
        "\n",
        "        self.linears = nn.ModuleList([\n",
        "            nn.Linear(self.in_dim, 512),\n",
        "            nn.Linear(512, 256),\n",
        "            nn.Linear(256, 128),\n",
        "            nn.Linear(128, 64),\n",
        "            nn.Linear(64, self.out_dim)\n",
        "        ])\n",
        "\n",
        "        self.relu = nn.ReLU()\n",
        "        self.log_softmax = nn.LogSoftmax(dim=1)\n",
        "\n",
        "    def forward(self, x):\n",
        "        x = x.view(-1, self.in_dim)\n",
        "        for layer in self.linears[:-1]:\n",
        "            x = self.relu(layer(x))\n",
        "        x = self.linears[-1](x)    # 출력층\n",
        "        return x\n"
      ],
      "metadata": {
        "id": "7tBOxsYOOtJk"
      },
      "execution_count": null,
      "outputs": []
    },
    {
      "cell_type": "code",
      "source": [
        "model = MLP()\n",
        "criterion = nn.CrossEntropyLoss()\n",
        "optimizer = optim.SGD(model.parameters(), lr=0.01)\n",
        "\n",
        "for epoch in range(10):  # 10 에폭 반복\n",
        "    running_loss = 0.0\n",
        "    for i, data in enumerate(train_loader, 0):\n",
        "        inputs, labels = data\n",
        "\n",
        "        optimizer.zero_grad()\n",
        "\n",
        "        outputs = model(inputs)\n",
        "        loss = criterion(outputs, labels)\n",
        "        loss.backward()\n",
        "        optimizer.step()\n",
        "\n",
        "        running_loss += loss.item()\n",
        "        if (i + 1) % 2000 == 0:\n",
        "            print('[%d, %5d] loss: %.3f' %\n",
        "                  (epoch + 1, i + 1, running_loss / 2000))\n",
        "            running_loss = 0.0\n",
        "\n",
        "print('Finished Training')"
      ],
      "metadata": {
        "colab": {
          "base_uri": "https://localhost:8080/"
        },
        "id": "FZukiJKTOvxc",
        "outputId": "5d66e680-57bd-49c9-f8e2-25ed559dd231"
      },
      "execution_count": null,
      "outputs": [
        {
          "output_type": "stream",
          "name": "stdout",
          "text": [
            "[1,  2000] loss: 2.156\n",
            "[1,  4000] loss: 0.704\n",
            "[2,  2000] loss: 0.313\n",
            "[2,  4000] loss: 0.237\n",
            "[3,  2000] loss: 0.160\n",
            "[3,  4000] loss: 0.141\n",
            "[4,  2000] loss: 0.109\n",
            "[4,  4000] loss: 0.101\n",
            "[5,  2000] loss: 0.081\n",
            "[5,  4000] loss: 0.078\n",
            "[6,  2000] loss: 0.063\n",
            "[6,  4000] loss: 0.060\n",
            "[7,  2000] loss: 0.044\n",
            "[7,  4000] loss: 0.051\n",
            "[8,  2000] loss: 0.036\n",
            "[8,  4000] loss: 0.038\n",
            "[9,  2000] loss: 0.030\n",
            "[9,  4000] loss: 0.033\n",
            "[10,  2000] loss: 0.022\n",
            "[10,  4000] loss: 0.023\n",
            "Finished Training\n"
          ]
        }
      ]
    },
    {
      "cell_type": "code",
      "source": [
        "def imshow(img):\n",
        "    npimg = img.numpy()\n",
        "    plt.imshow(np.transpose(npimg, (1, 2, 0)))\n",
        "    plt.show()\n",
        "\n",
        "dataiter = iter(test_loader)\n",
        "images, labels = next(dataiter)\n",
        "\n",
        "imshow(torchvision.utils.make_grid(images, nrow=batch_size))\n",
        "print('GroundTruth:', ' '.join('%3s' % label.item() for label in labels))\n",
        "\n",
        "outputs = model(images)\n",
        "_, predicted = torch.max(outputs, 1)\n",
        "\n",
        "print('Prediction:', ' '.join('%3s' % label.item() for label in predicted))\n"
      ],
      "metadata": {
        "colab": {
          "base_uri": "https://localhost:8080/"
        },
        "id": "yj5cBNbxOxh-",
        "outputId": "5e3f99a9-313f-4f34-8b63-62ca4b035ad5"
      },
      "execution_count": null,
      "outputs": [
        {
          "output_type": "display_data",
          "data": {
            "text/plain": [
              "<Figure size 640x480 with 1 Axes>"
            ],
            "image/png": "[encoded data removed]"
          },
          "metadata": {}
        },
        {
          "output_type": "stream",
          "name": "stdout",
          "text": [
            "GroundTruth:   7   2   1   0   4   1   4   9   5   9   0   6\n",
            "Prediction:   7   2   1   0   4   1   4   9   5   9   0   6\n"
          ]
        }
      ]
    },
    {
      "cell_type": "code",
      "source": [
        "n_predict = 0\n",
        "n_correct = 0\n",
        "\n",
        "for data in test_loader:\n",
        "    inputs, labels = data\n",
        "    outputs = model(inputs)\n",
        "    _, predicted = torch.max(outputs, 1)\n",
        "\n",
        "    n_predict += len(predicted)\n",
        "    n_correct += (labels == predicted).sum().item()\n",
        "\n",
        "print(f\"{n_correct}/{n_predict}\")\n",
        "print(f\"Accuracy: {n_correct/n_predict:.3f}\")\n"
      ],
      "metadata": {
        "colab": {
          "base_uri": "https://localhost:8080/"
        },
        "id": "5Iz4nG-YOzCI",
        "outputId": "e86cf56d-5063-4d30-c5dd-cf698ac1565a"
      },
      "execution_count": null,
      "outputs": [
        {
          "output_type": "stream",
          "name": "stdout",
          "text": [
            "9772/10000\n",
            "Accuracy: 0.977\n"
          ]
        }
      ]
    }
  ]
}